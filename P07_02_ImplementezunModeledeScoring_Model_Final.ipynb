{
 "cells": [
  {
   "cell_type": "markdown",
   "metadata": {},
   "source": [
    "# <font color='blue'>Projet 07 Data Science</font>\n",
    "## Implémentez un modèle de scoring\n",
    "## <font color='blue'>Partie 2 : Modèle </font>"
   ]
  },
  {
   "cell_type": "markdown",
   "metadata": {},
   "source": [
    "### <font color='green'>Auteur & Copyright : Julien Maisonnier (Fevrier 2022)</font>"
   ]
  },
  {
   "cell_type": "markdown",
   "metadata": {},
   "source": [
    "# Introduction"
   ]
  },
  {
   "cell_type": "markdown",
   "metadata": {},
   "source": [
    "La société <b>Prêt à dépenser</b> propose des crédits à la consommation pour des personnes ayant peu ou pas du tout d'historique de prêt.\n",
    "\n",
    "L’entreprise souhaite <b>mettre en œuvre un outil de “scoring crédit” pour calculer la probabilité</b> qu’un client rembourse son crédit, puis classifie la demande en crédit accordé ou refusé. Elle souhaite donc développer un <b>algorithme de classification</b> en s’appuyant sur des sources de données variées (données comportementales, données provenant d'autres institutions financières, etc.).\n",
    "\n",
    "De plus, les chargés de relation client ont fait remonter le fait que les clients sont de plus en plus demandeurs de <b>transparence</b> vis-à-vis des décisions d’octroi de crédit. Cette demande de transparence des clients va tout à fait dans le sens des valeurs que l’entreprise veut incarner.\n",
    "\n",
    "<b>Prêt à dépenser décide donc de développer un dashboard interactif</b> pour que les chargés de relation client puissent à la fois expliquer de façon la plus transparente possible les décisions d’octroi de crédit, mais également permettre à leurs clients de disposer de leurs informations personnelles et de les explorer facilement."
   ]
  },
  {
   "cell_type": "markdown",
   "metadata": {},
   "source": [
    "## Mission"
   ]
  },
  {
   "cell_type": "markdown",
   "metadata": {},
   "source": [
    "<ol>\n",
    "    <li>Construire un <b>modèle de scoring</b> qui donnera une <b>prédiction sur la probabilité de faillite d'un client de façon automatique</b>.</li>\n",
    "<li>Construire un <b>dashboard interactif</b> à destination des gestionnaires de la relation client permettant <b>d'interpréter les prédictions faites par le modèle</b>, et d’améliorer la connaissance client des chargés de relation client.</li>\n",
    "</ol>\n",
    "\n",
    "<b>Recommendation</b>\n",
    "\n",
    "Sélectionner un kernel Kaggle pour vous faciliter la préparation des données nécessaires à l’élaboration du modèle de scoring et analyserez ce kernel et l’adapterez pour s'assurer qu’il répond aux besoins de la mission.\n",
    "\n",
    "Se focaliser sur l’élaboration du modèle, son optimisation et sa compréhension."
   ]
  },
  {
   "cell_type": "markdown",
   "metadata": {},
   "source": [
    "## Spécifications minimum du dashboard\n",
    "- Permettre de <b>visualiser le score et l’interprétation de ce score pour chaque client</b> de façon intelligible pour une personne non experte en data science.\n",
    "- Permettre de <b>visualiser des informations descriptives relatives à un client</b> (via un système de filtre).\n",
    "- Permettre de <b>comparer les informations descriptives relatives à un client à l’ensemble des clients</b> ou à un groupe de clients similaires."
   ]
  },
  {
   "cell_type": "markdown",
   "metadata": {},
   "source": [
    "# A - Librairies Python"
   ]
  },
  {
   "cell_type": "code",
   "execution_count": 141,
   "metadata": {},
   "outputs": [],
   "source": [
    "%matplotlib inline  \n",
    "\n",
    "import numpy as np\n",
    "\n",
    "import pandas as pd\n",
    "pd.options.mode.chained_assignment = None  # default='warn'\n",
    "\n",
    "import pickle\n",
    "\n",
    "import matplotlib.pyplot as plt\n",
    "\n",
    "from matplotlib.image import imread\n",
    "\n",
    "# from datetime import datetime\n",
    "\n",
    "# from sklearn.preprocessing import StandardScaler\n",
    "\n",
    "# from sklearn.cluster import KMeans\n",
    "\n",
    "# from matplotlib.image import imread\n",
    "\n",
    "# from sklearn.preprocessing import StandardScaler\n",
    "\n",
    "# from sklearn.metrics import classification_report, confusion_matrix, adjusted_rand_score\n",
    "\n",
    "# from matplotlib.ticker import PercentFormatter\n",
    "\n",
    "# -      \n",
    "\n",
    "# from math import pi\n",
    "\n",
    "# from datetime import datetime\n",
    "\n",
    "# from dateutil.relativedelta import relativedelta\n",
    "\n",
    "# from sklearn.preprocessing import StandardScaler\n",
    "\n",
    "# from sklearn import preprocessing\n",
    "\n",
    "# from sklearn import dummy\n",
    "\n",
    "# from sklearn.cluster import KMeans\n",
    "\n",
    "# from sklearn.cluster import DBSCAN\n",
    "\n",
    "# from sklearn import manifold\n",
    "\n",
    "# from sklearn import datasets\n",
    "\n",
    "# from sklearn import decomposition\n",
    "\n",
    "# from sklearn import ensemble\n",
    "\n",
    "# from sklearn import discriminant_analysis\n",
    "\n",
    "# from sklearn import random_projection\n",
    "\n",
    "# from matplotlib import offsetbox\n",
    "\n",
    "# from mpl_toolkits.mplot3d import Axes3D\n",
    "\n",
    "\n",
    "# --------------------------------\n",
    "\n",
    "# from sklearn.model_selection import train_test_split\n",
    "\n",
    "# from sklearn.compose import ColumnTransformer\n",
    "\n",
    "# from sklearn.preprocessing import RobustScaler, OneHotEncoder\n",
    "\n",
    "# from sklearn import preprocessing\n",
    "\n",
    "# from sklearn import linear_model\n",
    "\n",
    "# from sklearn.linear_model import LinearRegression\n",
    "\n",
    "# from sklearn.ensemble import GradientBoostingRegressor\n",
    "\n",
    "# from sklearn.linear_model import Ridge, Lasso\n",
    "\n",
    "# from sklearn.svm import LinearSVR\n",
    "\n",
    "# from sklearn import metrics\n",
    "\n",
    "# from sklearn.model_selection import KFold\n",
    "\n",
    "# from sklearn.metrics import mean_squared_error, r2_score, mean_squared_error\n",
    "\n",
    "# from sklearn import dummy\n",
    "\n",
    "# from sklearn.model_selection import GridSearchCV\n",
    "\n",
    "# ------------------------\n",
    "\n",
    "# from sklearn.ensemble import GradientBoostingClassifier\n",
    "\n",
    "# -------------------------------\n",
    "# import lightgbm as lgb\n",
    "# import xgboost as xgb\n",
    "# from catboost import CatBoostRegressor\n",
    "\n",
    "from sklearn.model_selection import train_test_split\n",
    "\n",
    "from sklearn.preprocessing import StandardScaler, RobustScaler\n",
    "\n",
    "from sklearn.compose import ColumnTransformer\n",
    "\n",
    "from sklearn.preprocessing import RobustScaler, OneHotEncoder\n",
    "\n",
    "from lightgbm import LGBMClassifier\n",
    "\n",
    "from sklearn.model_selection import GridSearchCV\n",
    "\n",
    "from sklearn.metrics import classification_report, confusion_matrix, adjusted_rand_score"
   ]
  },
  {
   "cell_type": "markdown",
   "metadata": {},
   "source": [
    "#### Disable auto-scrolling so that graphs display properly"
   ]
  },
  {
   "cell_type": "code",
   "execution_count": 142,
   "metadata": {},
   "outputs": [
    {
     "data": {
      "application/javascript": [
       "IPython.OutputArea.prototype._should_scroll = function(lines) {\n",
       "    return false;\n",
       "}\n"
      ],
      "text/plain": [
       "<IPython.core.display.Javascript object>"
      ]
     },
     "metadata": {},
     "output_type": "display_data"
    }
   ],
   "source": [
    "%%javascript\n",
    "IPython.OutputArea.prototype._should_scroll = function(lines) {\n",
    "    return false;\n",
    "}"
   ]
  },
  {
   "cell_type": "markdown",
   "metadata": {},
   "source": [
    "#### PEP 8  check"
   ]
  },
  {
   "cell_type": "code",
   "execution_count": 143,
   "metadata": {},
   "outputs": [],
   "source": [
    "# %load_ext pycodestyle_magic"
   ]
  },
  {
   "cell_type": "code",
   "execution_count": 144,
   "metadata": {},
   "outputs": [],
   "source": [
    "# %flake8_on"
   ]
  },
  {
   "cell_type": "markdown",
   "metadata": {},
   "source": [
    "## Les données"
   ]
  },
  {
   "cell_type": "markdown",
   "metadata": {},
   "source": [
    "https://www.kaggle.com/c/home-credit-default-risk/data\n",
    "\n"
   ]
  },
  {
   "cell_type": "code",
   "execution_count": 145,
   "metadata": {},
   "outputs": [
    {
     "data": {
      "text/plain": [
       "<matplotlib.image.AxesImage at 0x7fa4c3ad7070>"
      ]
     },
     "execution_count": 145,
     "metadata": {},
     "output_type": "execute_result"
    },
    {
     "data": {
      "image/png": "[encoded data removed]",
      "text/plain": [
       "<Figure size 640x480 with 1 Axes>"
      ]
     },
     "metadata": {},
     "output_type": "display_data"
    }
   ],
   "source": [
    "file_name_data = '_home_credit.png'\n",
    "image_data = imread('./data/' + file_name_data)\n",
    "# fig, ax = subplots(figsize=(18, 2))\n",
    "# plt.imshow(image_data, origin = 'lower', aspect='1000',  extent = [0, 1000, 0, 1])\n",
    "plt.imshow(image_data)"
   ]
  },
  {
   "cell_type": "markdown",
   "metadata": {},
   "source": [
    "# B - Methodes"
   ]
  },
  {
   "cell_type": "code",
   "execution_count": 146,
   "metadata": {},
   "outputs": [],
   "source": [
    "def ft_cut_off(cut_off, y_pred_lgb_proba):\n",
    "    y_pred_final_lgb = []\n",
    "    for my_pred in y_pred_lgb_proba:\n",
    "        if my_pred > cut_off:\n",
    "            y_pred_final_lgb.append(1)\n",
    "        else:\n",
    "            y_pred_final_lgb.append(0)\n",
    "    y_pred_final_lgb[:10]\n",
    "#     print(classification_report(y_test, y_pred_final_lgb))\n",
    "    \n",
    "    precision,recall,fscore,support=score(y_test, y_pred_final_lgb)\n",
    "#     print(round(recall[1],3))\n",
    "    return round(recall[1],3)"
   ]
  },
  {
   "cell_type": "code",
   "execution_count": 147,
   "metadata": {},
   "outputs": [],
   "source": [
    "def return_prediction(model,sample_json, cut_off):\n",
    "\n",
    "\n",
    "    EXT_SOURCE_3 = sample_json['EXT_SOURCE_3']\n",
    "    EXT_SOURCE_1 = sample_json['EXT_SOURCE_1']\n",
    "    EXT_SOURCE_2 = sample_json['EXT_SOURCE_2']\n",
    "    AMT_ANNUITY = sample_json['AMT_ANNUITY']\n",
    "    \n",
    "    DAYS_BIRTH = sample_json['DAYS_BIRTH']\n",
    "    AMT_CREDIT = sample_json['AMT_CREDIT']\n",
    "    DAYS_LAST_PHONE_CHANGE = sample_json['DAYS_LAST_PHONE_CHANGE']\n",
    "    AMT_GOODS_PRICE = sample_json['AMT_GOODS_PRICE']\n",
    "    \n",
    "    DAYS_ID_PUBLISH = sample_json['DAYS_ID_PUBLISH']\n",
    "    DAYS_EMPLOYED = sample_json['DAYS_EMPLOYED']\n",
    "    AMT_INCOME_TOTAL = sample_json['AMT_INCOME_TOTAL']\n",
    "    OWN_CAR_AGE = sample_json['OWN_CAR_AGE']\n",
    "    \n",
    "    credit_info = [[EXT_SOURCE_3, EXT_SOURCE_1, EXT_SOURCE_2, AMT_ANNUITY,\n",
    "                    DAYS_BIRTH, AMT_CREDIT, DAYS_LAST_PHONE_CHANGE, AMT_GOODS_PRICE,\n",
    "                    DAYS_ID_PUBLISH, DAYS_EMPLOYED, AMT_INCOME_TOTAL, OWN_CAR_AGE]]\n",
    "\n",
    "    classes = np.array(['approved', 'rejected'])\n",
    "\n",
    "    y_pred_proba = model.predict_proba(credit_info)[:, 1][0]\n",
    "\n",
    "    if y_pred_proba > cut_off:\n",
    "        y_pred = 1\n",
    "    else:\n",
    "        y_pred = 0\n",
    "\n",
    "    return y_pred_proba, y_pred, classes[y_pred]"
   ]
  },
  {
   "cell_type": "markdown",
   "metadata": {},
   "source": [
    "# C - Import du dataset\n",
    "### provenant du notebook Feature Engineeding"
   ]
  },
  {
   "cell_type": "code",
   "execution_count": 148,
   "metadata": {},
   "outputs": [],
   "source": [
    "data = pd.read_csv('./data/data.csv', low_memory=False)\n",
    "test = pd.read_csv('./data/test.csv', low_memory=False)"
   ]
  },
  {
   "cell_type": "code",
   "execution_count": 149,
   "metadata": {},
   "outputs": [],
   "source": [
    "# print(\"Dataset light pour graphs et model cleaned : %d colonnes & %d lignes\"\n",
    "#       % (data.shape[0], data.shape[1]))"
   ]
  },
  {
   "cell_type": "code",
   "execution_count": 150,
   "metadata": {},
   "outputs": [],
   "source": [
    "# data.columns"
   ]
  },
  {
   "cell_type": "code",
   "execution_count": 151,
   "metadata": {},
   "outputs": [],
   "source": [
    "# data"
   ]
  },
  {
   "cell_type": "code",
   "execution_count": 152,
   "metadata": {},
   "outputs": [],
   "source": [
    "# data.info()"
   ]
  },
  {
   "cell_type": "markdown",
   "metadata": {},
   "source": [
    "## Creation du dataset"
   ]
  },
  {
   "cell_type": "code",
   "execution_count": 153,
   "metadata": {},
   "outputs": [
    {
     "data": {
      "text/plain": [
       "(307511, 148)"
      ]
     },
     "execution_count": 153,
     "metadata": {},
     "output_type": "execute_result"
    }
   ],
   "source": [
    "X_all = data.loc[:, (data.columns != 'TARGET') & (data.columns != 'SK_ID_CURR') \n",
    "                     & (data.columns != 'SK_ID_PREV')]\n",
    "X_all.shape\n"
   ]
  },
  {
   "cell_type": "code",
   "execution_count": 154,
   "metadata": {},
   "outputs": [
    {
     "data": {
      "text/html": [
       "<div>\n",
       "<style scoped>\n",
       "    .dataframe tbody tr th:only-of-type {\n",
       "        vertical-align: middle;\n",
       "    }\n",
       "\n",
       "    .dataframe tbody tr th {\n",
       "        vertical-align: top;\n",
       "    }\n",
       "\n",
       "    .dataframe thead th {\n",
       "        text-align: right;\n",
       "    }\n",
       "</style>\n",
       "<table border=\"1\" class=\"dataframe\">\n",
       "  <thead>\n",
       "    <tr style=\"text-align: right;\">\n",
       "      <th></th>\n",
       "      <th>NAME_CONTRACT_TYPE</th>\n",
       "      <th>CODE_GENDER</th>\n",
       "      <th>FLAG_OWN_CAR</th>\n",
       "      <th>FLAG_OWN_REALTY</th>\n",
       "      <th>CNT_CHILDREN</th>\n",
       "      <th>AMT_INCOME_TOTAL</th>\n",
       "      <th>AMT_CREDIT</th>\n",
       "      <th>AMT_ANNUITY</th>\n",
       "      <th>AMT_GOODS_PRICE</th>\n",
       "      <th>NAME_TYPE_SUITE</th>\n",
       "      <th>...</th>\n",
       "      <th>cc_bal_CNT_INSTALMENT_MATURE_CUM</th>\n",
       "      <th>cc_bal_SK_DPD</th>\n",
       "      <th>cc_bal_SK_DPD_DEF</th>\n",
       "      <th>cc_bal_cc_bal_status__Active</th>\n",
       "      <th>cc_bal_cc_bal_status__Approved</th>\n",
       "      <th>cc_bal_cc_bal_status__Completed</th>\n",
       "      <th>cc_bal_cc_bal_status__Demand</th>\n",
       "      <th>cc_bal_cc_bal_status__Refused</th>\n",
       "      <th>cc_bal_cc_bal_status__Sent proposal</th>\n",
       "      <th>cc_bal_cc_bal_status__Signed</th>\n",
       "    </tr>\n",
       "  </thead>\n",
       "  <tbody>\n",
       "    <tr>\n",
       "      <th>0</th>\n",
       "      <td>0</td>\n",
       "      <td>0</td>\n",
       "      <td>0</td>\n",
       "      <td>0</td>\n",
       "      <td>0</td>\n",
       "      <td>202500.0</td>\n",
       "      <td>406597.5</td>\n",
       "      <td>24700.5</td>\n",
       "      <td>351000.0</td>\n",
       "      <td>0</td>\n",
       "      <td>...</td>\n",
       "      <td>NaN</td>\n",
       "      <td>NaN</td>\n",
       "      <td>NaN</td>\n",
       "      <td>NaN</td>\n",
       "      <td>NaN</td>\n",
       "      <td>NaN</td>\n",
       "      <td>NaN</td>\n",
       "      <td>NaN</td>\n",
       "      <td>NaN</td>\n",
       "      <td>NaN</td>\n",
       "    </tr>\n",
       "    <tr>\n",
       "      <th>1</th>\n",
       "      <td>0</td>\n",
       "      <td>1</td>\n",
       "      <td>0</td>\n",
       "      <td>1</td>\n",
       "      <td>0</td>\n",
       "      <td>270000.0</td>\n",
       "      <td>1293502.5</td>\n",
       "      <td>35698.5</td>\n",
       "      <td>1129500.0</td>\n",
       "      <td>1</td>\n",
       "      <td>...</td>\n",
       "      <td>NaN</td>\n",
       "      <td>NaN</td>\n",
       "      <td>NaN</td>\n",
       "      <td>NaN</td>\n",
       "      <td>NaN</td>\n",
       "      <td>NaN</td>\n",
       "      <td>NaN</td>\n",
       "      <td>NaN</td>\n",
       "      <td>NaN</td>\n",
       "      <td>NaN</td>\n",
       "    </tr>\n",
       "    <tr>\n",
       "      <th>2</th>\n",
       "      <td>1</td>\n",
       "      <td>0</td>\n",
       "      <td>1</td>\n",
       "      <td>0</td>\n",
       "      <td>0</td>\n",
       "      <td>67500.0</td>\n",
       "      <td>135000.0</td>\n",
       "      <td>6750.0</td>\n",
       "      <td>135000.0</td>\n",
       "      <td>0</td>\n",
       "      <td>...</td>\n",
       "      <td>NaN</td>\n",
       "      <td>NaN</td>\n",
       "      <td>NaN</td>\n",
       "      <td>NaN</td>\n",
       "      <td>NaN</td>\n",
       "      <td>NaN</td>\n",
       "      <td>NaN</td>\n",
       "      <td>NaN</td>\n",
       "      <td>NaN</td>\n",
       "      <td>NaN</td>\n",
       "    </tr>\n",
       "    <tr>\n",
       "      <th>3</th>\n",
       "      <td>0</td>\n",
       "      <td>1</td>\n",
       "      <td>0</td>\n",
       "      <td>0</td>\n",
       "      <td>0</td>\n",
       "      <td>135000.0</td>\n",
       "      <td>312682.5</td>\n",
       "      <td>29686.5</td>\n",
       "      <td>297000.0</td>\n",
       "      <td>0</td>\n",
       "      <td>...</td>\n",
       "      <td>0.0</td>\n",
       "      <td>0.0</td>\n",
       "      <td>0.0</td>\n",
       "      <td>1.0</td>\n",
       "      <td>0.0</td>\n",
       "      <td>0.0</td>\n",
       "      <td>0.0</td>\n",
       "      <td>0.0</td>\n",
       "      <td>0.0</td>\n",
       "      <td>0.0</td>\n",
       "    </tr>\n",
       "    <tr>\n",
       "      <th>4</th>\n",
       "      <td>0</td>\n",
       "      <td>0</td>\n",
       "      <td>0</td>\n",
       "      <td>0</td>\n",
       "      <td>0</td>\n",
       "      <td>121500.0</td>\n",
       "      <td>513000.0</td>\n",
       "      <td>21865.5</td>\n",
       "      <td>513000.0</td>\n",
       "      <td>0</td>\n",
       "      <td>...</td>\n",
       "      <td>NaN</td>\n",
       "      <td>NaN</td>\n",
       "      <td>NaN</td>\n",
       "      <td>NaN</td>\n",
       "      <td>NaN</td>\n",
       "      <td>NaN</td>\n",
       "      <td>NaN</td>\n",
       "      <td>NaN</td>\n",
       "      <td>NaN</td>\n",
       "      <td>NaN</td>\n",
       "    </tr>\n",
       "    <tr>\n",
       "      <th>...</th>\n",
       "      <td>...</td>\n",
       "      <td>...</td>\n",
       "      <td>...</td>\n",
       "      <td>...</td>\n",
       "      <td>...</td>\n",
       "      <td>...</td>\n",
       "      <td>...</td>\n",
       "      <td>...</td>\n",
       "      <td>...</td>\n",
       "      <td>...</td>\n",
       "      <td>...</td>\n",
       "      <td>...</td>\n",
       "      <td>...</td>\n",
       "      <td>...</td>\n",
       "      <td>...</td>\n",
       "      <td>...</td>\n",
       "      <td>...</td>\n",
       "      <td>...</td>\n",
       "      <td>...</td>\n",
       "      <td>...</td>\n",
       "      <td>...</td>\n",
       "    </tr>\n",
       "    <tr>\n",
       "      <th>307506</th>\n",
       "      <td>0</td>\n",
       "      <td>0</td>\n",
       "      <td>0</td>\n",
       "      <td>1</td>\n",
       "      <td>0</td>\n",
       "      <td>157500.0</td>\n",
       "      <td>254700.0</td>\n",
       "      <td>27558.0</td>\n",
       "      <td>225000.0</td>\n",
       "      <td>0</td>\n",
       "      <td>...</td>\n",
       "      <td>NaN</td>\n",
       "      <td>NaN</td>\n",
       "      <td>NaN</td>\n",
       "      <td>NaN</td>\n",
       "      <td>NaN</td>\n",
       "      <td>NaN</td>\n",
       "      <td>NaN</td>\n",
       "      <td>NaN</td>\n",
       "      <td>NaN</td>\n",
       "      <td>NaN</td>\n",
       "    </tr>\n",
       "    <tr>\n",
       "      <th>307507</th>\n",
       "      <td>0</td>\n",
       "      <td>1</td>\n",
       "      <td>0</td>\n",
       "      <td>0</td>\n",
       "      <td>0</td>\n",
       "      <td>72000.0</td>\n",
       "      <td>269550.0</td>\n",
       "      <td>12001.5</td>\n",
       "      <td>225000.0</td>\n",
       "      <td>0</td>\n",
       "      <td>...</td>\n",
       "      <td>NaN</td>\n",
       "      <td>NaN</td>\n",
       "      <td>NaN</td>\n",
       "      <td>NaN</td>\n",
       "      <td>NaN</td>\n",
       "      <td>NaN</td>\n",
       "      <td>NaN</td>\n",
       "      <td>NaN</td>\n",
       "      <td>NaN</td>\n",
       "      <td>NaN</td>\n",
       "    </tr>\n",
       "    <tr>\n",
       "      <th>307508</th>\n",
       "      <td>0</td>\n",
       "      <td>1</td>\n",
       "      <td>0</td>\n",
       "      <td>0</td>\n",
       "      <td>0</td>\n",
       "      <td>153000.0</td>\n",
       "      <td>677664.0</td>\n",
       "      <td>29979.0</td>\n",
       "      <td>585000.0</td>\n",
       "      <td>0</td>\n",
       "      <td>...</td>\n",
       "      <td>NaN</td>\n",
       "      <td>NaN</td>\n",
       "      <td>NaN</td>\n",
       "      <td>NaN</td>\n",
       "      <td>NaN</td>\n",
       "      <td>NaN</td>\n",
       "      <td>NaN</td>\n",
       "      <td>NaN</td>\n",
       "      <td>NaN</td>\n",
       "      <td>NaN</td>\n",
       "    </tr>\n",
       "    <tr>\n",
       "      <th>307509</th>\n",
       "      <td>0</td>\n",
       "      <td>1</td>\n",
       "      <td>0</td>\n",
       "      <td>0</td>\n",
       "      <td>0</td>\n",
       "      <td>171000.0</td>\n",
       "      <td>370107.0</td>\n",
       "      <td>20205.0</td>\n",
       "      <td>319500.0</td>\n",
       "      <td>0</td>\n",
       "      <td>...</td>\n",
       "      <td>NaN</td>\n",
       "      <td>NaN</td>\n",
       "      <td>NaN</td>\n",
       "      <td>NaN</td>\n",
       "      <td>NaN</td>\n",
       "      <td>NaN</td>\n",
       "      <td>NaN</td>\n",
       "      <td>NaN</td>\n",
       "      <td>NaN</td>\n",
       "      <td>NaN</td>\n",
       "    </tr>\n",
       "    <tr>\n",
       "      <th>307510</th>\n",
       "      <td>0</td>\n",
       "      <td>1</td>\n",
       "      <td>0</td>\n",
       "      <td>1</td>\n",
       "      <td>0</td>\n",
       "      <td>157500.0</td>\n",
       "      <td>675000.0</td>\n",
       "      <td>49117.5</td>\n",
       "      <td>675000.0</td>\n",
       "      <td>0</td>\n",
       "      <td>...</td>\n",
       "      <td>NaN</td>\n",
       "      <td>NaN</td>\n",
       "      <td>NaN</td>\n",
       "      <td>NaN</td>\n",
       "      <td>NaN</td>\n",
       "      <td>NaN</td>\n",
       "      <td>NaN</td>\n",
       "      <td>NaN</td>\n",
       "      <td>NaN</td>\n",
       "      <td>NaN</td>\n",
       "    </tr>\n",
       "  </tbody>\n",
       "</table>\n",
       "<p>307511 rows × 148 columns</p>\n",
       "</div>"
      ],
      "text/plain": [
       "        NAME_CONTRACT_TYPE  CODE_GENDER  FLAG_OWN_CAR  FLAG_OWN_REALTY  \\\n",
       "0                        0            0             0                0   \n",
       "1                        0            1             0                1   \n",
       "2                        1            0             1                0   \n",
       "3                        0            1             0                0   \n",
       "4                        0            0             0                0   \n",
       "...                    ...          ...           ...              ...   \n",
       "307506                   0            0             0                1   \n",
       "307507                   0            1             0                0   \n",
       "307508                   0            1             0                0   \n",
       "307509                   0            1             0                0   \n",
       "307510                   0            1             0                1   \n",
       "\n",
       "        CNT_CHILDREN  AMT_INCOME_TOTAL  AMT_CREDIT  AMT_ANNUITY  \\\n",
       "0                  0          202500.0    406597.5      24700.5   \n",
       "1                  0          270000.0   1293502.5      35698.5   \n",
       "2                  0           67500.0    135000.0       6750.0   \n",
       "3                  0          135000.0    312682.5      29686.5   \n",
       "4                  0          121500.0    513000.0      21865.5   \n",
       "...              ...               ...         ...          ...   \n",
       "307506             0          157500.0    254700.0      27558.0   \n",
       "307507             0           72000.0    269550.0      12001.5   \n",
       "307508             0          153000.0    677664.0      29979.0   \n",
       "307509             0          171000.0    370107.0      20205.0   \n",
       "307510             0          157500.0    675000.0      49117.5   \n",
       "\n",
       "        AMT_GOODS_PRICE  NAME_TYPE_SUITE  ...  \\\n",
       "0              351000.0                0  ...   \n",
       "1             1129500.0                1  ...   \n",
       "2              135000.0                0  ...   \n",
       "3              297000.0                0  ...   \n",
       "4              513000.0                0  ...   \n",
       "...                 ...              ...  ...   \n",
       "307506         225000.0                0  ...   \n",
       "307507         225000.0                0  ...   \n",
       "307508         585000.0                0  ...   \n",
       "307509         319500.0                0  ...   \n",
       "307510         675000.0                0  ...   \n",
       "\n",
       "        cc_bal_CNT_INSTALMENT_MATURE_CUM  cc_bal_SK_DPD  cc_bal_SK_DPD_DEF  \\\n",
       "0                                    NaN            NaN                NaN   \n",
       "1                                    NaN            NaN                NaN   \n",
       "2                                    NaN            NaN                NaN   \n",
       "3                                    0.0            0.0                0.0   \n",
       "4                                    NaN            NaN                NaN   \n",
       "...                                  ...            ...                ...   \n",
       "307506                               NaN            NaN                NaN   \n",
       "307507                               NaN            NaN                NaN   \n",
       "307508                               NaN            NaN                NaN   \n",
       "307509                               NaN            NaN                NaN   \n",
       "307510                               NaN            NaN                NaN   \n",
       "\n",
       "        cc_bal_cc_bal_status__Active  cc_bal_cc_bal_status__Approved  \\\n",
       "0                                NaN                             NaN   \n",
       "1                                NaN                             NaN   \n",
       "2                                NaN                             NaN   \n",
       "3                                1.0                             0.0   \n",
       "4                                NaN                             NaN   \n",
       "...                              ...                             ...   \n",
       "307506                           NaN                             NaN   \n",
       "307507                           NaN                             NaN   \n",
       "307508                           NaN                             NaN   \n",
       "307509                           NaN                             NaN   \n",
       "307510                           NaN                             NaN   \n",
       "\n",
       "        cc_bal_cc_bal_status__Completed  cc_bal_cc_bal_status__Demand  \\\n",
       "0                                   NaN                           NaN   \n",
       "1                                   NaN                           NaN   \n",
       "2                                   NaN                           NaN   \n",
       "3                                   0.0                           0.0   \n",
       "4                                   NaN                           NaN   \n",
       "...                                 ...                           ...   \n",
       "307506                              NaN                           NaN   \n",
       "307507                              NaN                           NaN   \n",
       "307508                              NaN                           NaN   \n",
       "307509                              NaN                           NaN   \n",
       "307510                              NaN                           NaN   \n",
       "\n",
       "        cc_bal_cc_bal_status__Refused  cc_bal_cc_bal_status__Sent proposal  \\\n",
       "0                                 NaN                                  NaN   \n",
       "1                                 NaN                                  NaN   \n",
       "2                                 NaN                                  NaN   \n",
       "3                                 0.0                                  0.0   \n",
       "4                                 NaN                                  NaN   \n",
       "...                               ...                                  ...   \n",
       "307506                            NaN                                  NaN   \n",
       "307507                            NaN                                  NaN   \n",
       "307508                            NaN                                  NaN   \n",
       "307509                            NaN                                  NaN   \n",
       "307510                            NaN                                  NaN   \n",
       "\n",
       "        cc_bal_cc_bal_status__Signed  \n",
       "0                                NaN  \n",
       "1                                NaN  \n",
       "2                                NaN  \n",
       "3                                0.0  \n",
       "4                                NaN  \n",
       "...                              ...  \n",
       "307506                           NaN  \n",
       "307507                           NaN  \n",
       "307508                           NaN  \n",
       "307509                           NaN  \n",
       "307510                           NaN  \n",
       "\n",
       "[307511 rows x 148 columns]"
      ]
     },
     "execution_count": 154,
     "metadata": {},
     "output_type": "execute_result"
    }
   ],
   "source": [
    "X_all"
   ]
  },
  {
   "cell_type": "markdown",
   "metadata": {},
   "source": [
    "## By-pass de la plupart des features du TRAIN dataset\n",
    "### Objectif: etude de l'impact sur le RECALL\n",
    "## Conclusion: pas d'impact"
   ]
  },
  {
   "cell_type": "code",
   "execution_count": 155,
   "metadata": {},
   "outputs": [],
   "source": [
    "X_all = X_all.loc[:, ['EXT_SOURCE_3','EXT_SOURCE_1','EXT_SOURCE_2','AMT_ANNUITY','DAYS_BIRTH',\n",
    "                    'AMT_CREDIT','DAYS_LAST_PHONE_CHANGE','AMT_GOODS_PRICE','DAYS_ID_PUBLISH',\n",
    "                    'DAYS_EMPLOYED','AMT_INCOME_TOTAL','OWN_CAR_AGE']]"
   ]
  },
  {
   "cell_type": "markdown",
   "metadata": {},
   "source": [
    "## End by-pass"
   ]
  },
  {
   "cell_type": "code",
   "execution_count": 156,
   "metadata": {},
   "outputs": [
    {
     "data": {
      "text/html": [
       "<div>\n",
       "<style scoped>\n",
       "    .dataframe tbody tr th:only-of-type {\n",
       "        vertical-align: middle;\n",
       "    }\n",
       "\n",
       "    .dataframe tbody tr th {\n",
       "        vertical-align: top;\n",
       "    }\n",
       "\n",
       "    .dataframe thead th {\n",
       "        text-align: right;\n",
       "    }\n",
       "</style>\n",
       "<table border=\"1\" class=\"dataframe\">\n",
       "  <thead>\n",
       "    <tr style=\"text-align: right;\">\n",
       "      <th></th>\n",
       "      <th>EXT_SOURCE_3</th>\n",
       "      <th>EXT_SOURCE_1</th>\n",
       "      <th>EXT_SOURCE_2</th>\n",
       "      <th>AMT_ANNUITY</th>\n",
       "      <th>DAYS_BIRTH</th>\n",
       "      <th>AMT_CREDIT</th>\n",
       "      <th>DAYS_LAST_PHONE_CHANGE</th>\n",
       "      <th>AMT_GOODS_PRICE</th>\n",
       "      <th>DAYS_ID_PUBLISH</th>\n",
       "      <th>DAYS_EMPLOYED</th>\n",
       "      <th>AMT_INCOME_TOTAL</th>\n",
       "      <th>OWN_CAR_AGE</th>\n",
       "    </tr>\n",
       "  </thead>\n",
       "  <tbody>\n",
       "    <tr>\n",
       "      <th>0</th>\n",
       "      <td>0.139376</td>\n",
       "      <td>0.083037</td>\n",
       "      <td>0.262949</td>\n",
       "      <td>24700.5</td>\n",
       "      <td>-9461</td>\n",
       "      <td>406597.5</td>\n",
       "      <td>-1134.0</td>\n",
       "      <td>351000.0</td>\n",
       "      <td>-2120</td>\n",
       "      <td>-637</td>\n",
       "      <td>202500.0</td>\n",
       "      <td>NaN</td>\n",
       "    </tr>\n",
       "    <tr>\n",
       "      <th>1</th>\n",
       "      <td>NaN</td>\n",
       "      <td>0.311267</td>\n",
       "      <td>0.622246</td>\n",
       "      <td>35698.5</td>\n",
       "      <td>-16765</td>\n",
       "      <td>1293502.5</td>\n",
       "      <td>-828.0</td>\n",
       "      <td>1129500.0</td>\n",
       "      <td>-291</td>\n",
       "      <td>-1188</td>\n",
       "      <td>270000.0</td>\n",
       "      <td>NaN</td>\n",
       "    </tr>\n",
       "    <tr>\n",
       "      <th>2</th>\n",
       "      <td>0.729567</td>\n",
       "      <td>NaN</td>\n",
       "      <td>0.555912</td>\n",
       "      <td>6750.0</td>\n",
       "      <td>-19046</td>\n",
       "      <td>135000.0</td>\n",
       "      <td>-815.0</td>\n",
       "      <td>135000.0</td>\n",
       "      <td>-2531</td>\n",
       "      <td>-225</td>\n",
       "      <td>67500.0</td>\n",
       "      <td>26.0</td>\n",
       "    </tr>\n",
       "    <tr>\n",
       "      <th>3</th>\n",
       "      <td>NaN</td>\n",
       "      <td>NaN</td>\n",
       "      <td>0.650442</td>\n",
       "      <td>29686.5</td>\n",
       "      <td>-19005</td>\n",
       "      <td>312682.5</td>\n",
       "      <td>-617.0</td>\n",
       "      <td>297000.0</td>\n",
       "      <td>-2437</td>\n",
       "      <td>-3039</td>\n",
       "      <td>135000.0</td>\n",
       "      <td>NaN</td>\n",
       "    </tr>\n",
       "    <tr>\n",
       "      <th>4</th>\n",
       "      <td>NaN</td>\n",
       "      <td>NaN</td>\n",
       "      <td>0.322738</td>\n",
       "      <td>21865.5</td>\n",
       "      <td>-19932</td>\n",
       "      <td>513000.0</td>\n",
       "      <td>-1106.0</td>\n",
       "      <td>513000.0</td>\n",
       "      <td>-3458</td>\n",
       "      <td>-3038</td>\n",
       "      <td>121500.0</td>\n",
       "      <td>NaN</td>\n",
       "    </tr>\n",
       "    <tr>\n",
       "      <th>...</th>\n",
       "      <td>...</td>\n",
       "      <td>...</td>\n",
       "      <td>...</td>\n",
       "      <td>...</td>\n",
       "      <td>...</td>\n",
       "      <td>...</td>\n",
       "      <td>...</td>\n",
       "      <td>...</td>\n",
       "      <td>...</td>\n",
       "      <td>...</td>\n",
       "      <td>...</td>\n",
       "      <td>...</td>\n",
       "    </tr>\n",
       "    <tr>\n",
       "      <th>307506</th>\n",
       "      <td>NaN</td>\n",
       "      <td>0.145570</td>\n",
       "      <td>0.681632</td>\n",
       "      <td>27558.0</td>\n",
       "      <td>-9327</td>\n",
       "      <td>254700.0</td>\n",
       "      <td>-273.0</td>\n",
       "      <td>225000.0</td>\n",
       "      <td>-1982</td>\n",
       "      <td>-236</td>\n",
       "      <td>157500.0</td>\n",
       "      <td>NaN</td>\n",
       "    </tr>\n",
       "    <tr>\n",
       "      <th>307507</th>\n",
       "      <td>NaN</td>\n",
       "      <td>NaN</td>\n",
       "      <td>0.115992</td>\n",
       "      <td>12001.5</td>\n",
       "      <td>-20775</td>\n",
       "      <td>269550.0</td>\n",
       "      <td>0.0</td>\n",
       "      <td>225000.0</td>\n",
       "      <td>-4090</td>\n",
       "      <td>365243</td>\n",
       "      <td>72000.0</td>\n",
       "      <td>NaN</td>\n",
       "    </tr>\n",
       "    <tr>\n",
       "      <th>307508</th>\n",
       "      <td>0.218859</td>\n",
       "      <td>0.744026</td>\n",
       "      <td>0.535722</td>\n",
       "      <td>29979.0</td>\n",
       "      <td>-14966</td>\n",
       "      <td>677664.0</td>\n",
       "      <td>-1909.0</td>\n",
       "      <td>585000.0</td>\n",
       "      <td>-5150</td>\n",
       "      <td>-7921</td>\n",
       "      <td>153000.0</td>\n",
       "      <td>NaN</td>\n",
       "    </tr>\n",
       "    <tr>\n",
       "      <th>307509</th>\n",
       "      <td>0.661024</td>\n",
       "      <td>NaN</td>\n",
       "      <td>0.514163</td>\n",
       "      <td>20205.0</td>\n",
       "      <td>-11961</td>\n",
       "      <td>370107.0</td>\n",
       "      <td>-322.0</td>\n",
       "      <td>319500.0</td>\n",
       "      <td>-931</td>\n",
       "      <td>-4786</td>\n",
       "      <td>171000.0</td>\n",
       "      <td>NaN</td>\n",
       "    </tr>\n",
       "    <tr>\n",
       "      <th>307510</th>\n",
       "      <td>0.113922</td>\n",
       "      <td>0.734460</td>\n",
       "      <td>0.708569</td>\n",
       "      <td>49117.5</td>\n",
       "      <td>-16856</td>\n",
       "      <td>675000.0</td>\n",
       "      <td>-787.0</td>\n",
       "      <td>675000.0</td>\n",
       "      <td>-410</td>\n",
       "      <td>-1262</td>\n",
       "      <td>157500.0</td>\n",
       "      <td>NaN</td>\n",
       "    </tr>\n",
       "  </tbody>\n",
       "</table>\n",
       "<p>307511 rows × 12 columns</p>\n",
       "</div>"
      ],
      "text/plain": [
       "        EXT_SOURCE_3  EXT_SOURCE_1  EXT_SOURCE_2  AMT_ANNUITY  DAYS_BIRTH  \\\n",
       "0           0.139376      0.083037      0.262949      24700.5       -9461   \n",
       "1                NaN      0.311267      0.622246      35698.5      -16765   \n",
       "2           0.729567           NaN      0.555912       6750.0      -19046   \n",
       "3                NaN           NaN      0.650442      29686.5      -19005   \n",
       "4                NaN           NaN      0.322738      21865.5      -19932   \n",
       "...              ...           ...           ...          ...         ...   \n",
       "307506           NaN      0.145570      0.681632      27558.0       -9327   \n",
       "307507           NaN           NaN      0.115992      12001.5      -20775   \n",
       "307508      0.218859      0.744026      0.535722      29979.0      -14966   \n",
       "307509      0.661024           NaN      0.514163      20205.0      -11961   \n",
       "307510      0.113922      0.734460      0.708569      49117.5      -16856   \n",
       "\n",
       "        AMT_CREDIT  DAYS_LAST_PHONE_CHANGE  AMT_GOODS_PRICE  DAYS_ID_PUBLISH  \\\n",
       "0         406597.5                 -1134.0         351000.0            -2120   \n",
       "1        1293502.5                  -828.0        1129500.0             -291   \n",
       "2         135000.0                  -815.0         135000.0            -2531   \n",
       "3         312682.5                  -617.0         297000.0            -2437   \n",
       "4         513000.0                 -1106.0         513000.0            -3458   \n",
       "...            ...                     ...              ...              ...   \n",
       "307506    254700.0                  -273.0         225000.0            -1982   \n",
       "307507    269550.0                     0.0         225000.0            -4090   \n",
       "307508    677664.0                 -1909.0         585000.0            -5150   \n",
       "307509    370107.0                  -322.0         319500.0             -931   \n",
       "307510    675000.0                  -787.0         675000.0             -410   \n",
       "\n",
       "        DAYS_EMPLOYED  AMT_INCOME_TOTAL  OWN_CAR_AGE  \n",
       "0                -637          202500.0          NaN  \n",
       "1               -1188          270000.0          NaN  \n",
       "2                -225           67500.0         26.0  \n",
       "3               -3039          135000.0          NaN  \n",
       "4               -3038          121500.0          NaN  \n",
       "...               ...               ...          ...  \n",
       "307506           -236          157500.0          NaN  \n",
       "307507         365243           72000.0          NaN  \n",
       "307508          -7921          153000.0          NaN  \n",
       "307509          -4786          171000.0          NaN  \n",
       "307510          -1262          157500.0          NaN  \n",
       "\n",
       "[307511 rows x 12 columns]"
      ]
     },
     "execution_count": 156,
     "metadata": {},
     "output_type": "execute_result"
    }
   ],
   "source": [
    "X_all"
   ]
  },
  {
   "cell_type": "code",
   "execution_count": 157,
   "metadata": {},
   "outputs": [
    {
     "data": {
      "text/plain": [
       "(307511,)"
      ]
     },
     "execution_count": 157,
     "metadata": {},
     "output_type": "execute_result"
    }
   ],
   "source": [
    "# y_all = df_train['TARGET'].values\n",
    "y_all = data['TARGET'].values\n",
    "y_all.shape"
   ]
  },
  {
   "cell_type": "code",
   "execution_count": 158,
   "metadata": {},
   "outputs": [
    {
     "data": {
      "text/plain": [
       "(48744, 148)"
      ]
     },
     "execution_count": 158,
     "metadata": {},
     "output_type": "execute_result"
    }
   ],
   "source": [
    "X_t = test.loc[:, (test.columns != 'TARGET') & (test.columns != 'SK_ID_CURR') \n",
    "                     & (test.columns != 'SK_ID_PREV')]\n",
    "X_t.shape\n"
   ]
  },
  {
   "cell_type": "markdown",
   "metadata": {},
   "source": [
    "## By-pass TEST most features to check RECALL change"
   ]
  },
  {
   "cell_type": "code",
   "execution_count": 159,
   "metadata": {},
   "outputs": [],
   "source": [
    "X_t = X_t.loc[:, ['EXT_SOURCE_3','EXT_SOURCE_1','EXT_SOURCE_2','AMT_ANNUITY','DAYS_BIRTH',\n",
    "                    'AMT_CREDIT','DAYS_LAST_PHONE_CHANGE','AMT_GOODS_PRICE','DAYS_ID_PUBLISH',\n",
    "                    'DAYS_EMPLOYED','AMT_INCOME_TOTAL','OWN_CAR_AGE']]"
   ]
  },
  {
   "cell_type": "markdown",
   "metadata": {},
   "source": [
    "## End by-pass"
   ]
  },
  {
   "cell_type": "code",
   "execution_count": 160,
   "metadata": {},
   "outputs": [
    {
     "data": {
      "text/html": [
       "<div>\n",
       "<style scoped>\n",
       "    .dataframe tbody tr th:only-of-type {\n",
       "        vertical-align: middle;\n",
       "    }\n",
       "\n",
       "    .dataframe tbody tr th {\n",
       "        vertical-align: top;\n",
       "    }\n",
       "\n",
       "    .dataframe thead th {\n",
       "        text-align: right;\n",
       "    }\n",
       "</style>\n",
       "<table border=\"1\" class=\"dataframe\">\n",
       "  <thead>\n",
       "    <tr style=\"text-align: right;\">\n",
       "      <th></th>\n",
       "      <th>EXT_SOURCE_3</th>\n",
       "      <th>EXT_SOURCE_1</th>\n",
       "      <th>EXT_SOURCE_2</th>\n",
       "      <th>AMT_ANNUITY</th>\n",
       "      <th>DAYS_BIRTH</th>\n",
       "      <th>AMT_CREDIT</th>\n",
       "      <th>DAYS_LAST_PHONE_CHANGE</th>\n",
       "      <th>AMT_GOODS_PRICE</th>\n",
       "      <th>DAYS_ID_PUBLISH</th>\n",
       "      <th>DAYS_EMPLOYED</th>\n",
       "      <th>AMT_INCOME_TOTAL</th>\n",
       "      <th>OWN_CAR_AGE</th>\n",
       "    </tr>\n",
       "  </thead>\n",
       "  <tbody>\n",
       "    <tr>\n",
       "      <th>0</th>\n",
       "      <td>0.159520</td>\n",
       "      <td>0.752614</td>\n",
       "      <td>0.789654</td>\n",
       "      <td>20560.5</td>\n",
       "      <td>-19241</td>\n",
       "      <td>568800.0</td>\n",
       "      <td>-1740.0</td>\n",
       "      <td>450000.0</td>\n",
       "      <td>-812</td>\n",
       "      <td>-2329</td>\n",
       "      <td>135000.0</td>\n",
       "      <td>NaN</td>\n",
       "    </tr>\n",
       "    <tr>\n",
       "      <th>1</th>\n",
       "      <td>0.432962</td>\n",
       "      <td>0.564990</td>\n",
       "      <td>0.291656</td>\n",
       "      <td>17370.0</td>\n",
       "      <td>-18064</td>\n",
       "      <td>222768.0</td>\n",
       "      <td>0.0</td>\n",
       "      <td>180000.0</td>\n",
       "      <td>-1623</td>\n",
       "      <td>-4469</td>\n",
       "      <td>99000.0</td>\n",
       "      <td>NaN</td>\n",
       "    </tr>\n",
       "    <tr>\n",
       "      <th>2</th>\n",
       "      <td>0.610991</td>\n",
       "      <td>NaN</td>\n",
       "      <td>0.699787</td>\n",
       "      <td>69777.0</td>\n",
       "      <td>-20038</td>\n",
       "      <td>663264.0</td>\n",
       "      <td>-856.0</td>\n",
       "      <td>630000.0</td>\n",
       "      <td>-3503</td>\n",
       "      <td>-4458</td>\n",
       "      <td>202500.0</td>\n",
       "      <td>5.0</td>\n",
       "    </tr>\n",
       "    <tr>\n",
       "      <th>3</th>\n",
       "      <td>0.612704</td>\n",
       "      <td>0.525734</td>\n",
       "      <td>0.509677</td>\n",
       "      <td>49018.5</td>\n",
       "      <td>-13976</td>\n",
       "      <td>1575000.0</td>\n",
       "      <td>-1805.0</td>\n",
       "      <td>1575000.0</td>\n",
       "      <td>-4208</td>\n",
       "      <td>-1866</td>\n",
       "      <td>315000.0</td>\n",
       "      <td>NaN</td>\n",
       "    </tr>\n",
       "    <tr>\n",
       "      <th>4</th>\n",
       "      <td>NaN</td>\n",
       "      <td>0.202145</td>\n",
       "      <td>0.425687</td>\n",
       "      <td>32067.0</td>\n",
       "      <td>-13040</td>\n",
       "      <td>625500.0</td>\n",
       "      <td>-821.0</td>\n",
       "      <td>625500.0</td>\n",
       "      <td>-4262</td>\n",
       "      <td>-2191</td>\n",
       "      <td>180000.0</td>\n",
       "      <td>16.0</td>\n",
       "    </tr>\n",
       "    <tr>\n",
       "      <th>...</th>\n",
       "      <td>...</td>\n",
       "      <td>...</td>\n",
       "      <td>...</td>\n",
       "      <td>...</td>\n",
       "      <td>...</td>\n",
       "      <td>...</td>\n",
       "      <td>...</td>\n",
       "      <td>...</td>\n",
       "      <td>...</td>\n",
       "      <td>...</td>\n",
       "      <td>...</td>\n",
       "      <td>...</td>\n",
       "    </tr>\n",
       "    <tr>\n",
       "      <th>48739</th>\n",
       "      <td>0.643026</td>\n",
       "      <td>NaN</td>\n",
       "      <td>0.648575</td>\n",
       "      <td>17473.5</td>\n",
       "      <td>-19970</td>\n",
       "      <td>412560.0</td>\n",
       "      <td>-684.0</td>\n",
       "      <td>270000.0</td>\n",
       "      <td>-3399</td>\n",
       "      <td>-5169</td>\n",
       "      <td>121500.0</td>\n",
       "      <td>NaN</td>\n",
       "    </tr>\n",
       "    <tr>\n",
       "      <th>48740</th>\n",
       "      <td>NaN</td>\n",
       "      <td>NaN</td>\n",
       "      <td>0.684596</td>\n",
       "      <td>31909.5</td>\n",
       "      <td>-11186</td>\n",
       "      <td>622413.0</td>\n",
       "      <td>0.0</td>\n",
       "      <td>495000.0</td>\n",
       "      <td>-3003</td>\n",
       "      <td>-1149</td>\n",
       "      <td>157500.0</td>\n",
       "      <td>NaN</td>\n",
       "    </tr>\n",
       "    <tr>\n",
       "      <th>48741</th>\n",
       "      <td>0.283712</td>\n",
       "      <td>0.733503</td>\n",
       "      <td>0.632770</td>\n",
       "      <td>33205.5</td>\n",
       "      <td>-15922</td>\n",
       "      <td>315000.0</td>\n",
       "      <td>-838.0</td>\n",
       "      <td>315000.0</td>\n",
       "      <td>-1504</td>\n",
       "      <td>-3037</td>\n",
       "      <td>202500.0</td>\n",
       "      <td>4.0</td>\n",
       "    </tr>\n",
       "    <tr>\n",
       "      <th>48742</th>\n",
       "      <td>0.595456</td>\n",
       "      <td>0.373090</td>\n",
       "      <td>0.445701</td>\n",
       "      <td>25128.0</td>\n",
       "      <td>-13968</td>\n",
       "      <td>450000.0</td>\n",
       "      <td>-2308.0</td>\n",
       "      <td>450000.0</td>\n",
       "      <td>-1364</td>\n",
       "      <td>-2731</td>\n",
       "      <td>225000.0</td>\n",
       "      <td>NaN</td>\n",
       "    </tr>\n",
       "    <tr>\n",
       "      <th>48743</th>\n",
       "      <td>0.272134</td>\n",
       "      <td>NaN</td>\n",
       "      <td>0.456541</td>\n",
       "      <td>24709.5</td>\n",
       "      <td>-13962</td>\n",
       "      <td>312768.0</td>\n",
       "      <td>-327.0</td>\n",
       "      <td>270000.0</td>\n",
       "      <td>-4220</td>\n",
       "      <td>-633</td>\n",
       "      <td>135000.0</td>\n",
       "      <td>22.0</td>\n",
       "    </tr>\n",
       "  </tbody>\n",
       "</table>\n",
       "<p>48744 rows × 12 columns</p>\n",
       "</div>"
      ],
      "text/plain": [
       "       EXT_SOURCE_3  EXT_SOURCE_1  EXT_SOURCE_2  AMT_ANNUITY  DAYS_BIRTH  \\\n",
       "0          0.159520      0.752614      0.789654      20560.5      -19241   \n",
       "1          0.432962      0.564990      0.291656      17370.0      -18064   \n",
       "2          0.610991           NaN      0.699787      69777.0      -20038   \n",
       "3          0.612704      0.525734      0.509677      49018.5      -13976   \n",
       "4               NaN      0.202145      0.425687      32067.0      -13040   \n",
       "...             ...           ...           ...          ...         ...   \n",
       "48739      0.643026           NaN      0.648575      17473.5      -19970   \n",
       "48740           NaN           NaN      0.684596      31909.5      -11186   \n",
       "48741      0.283712      0.733503      0.632770      33205.5      -15922   \n",
       "48742      0.595456      0.373090      0.445701      25128.0      -13968   \n",
       "48743      0.272134           NaN      0.456541      24709.5      -13962   \n",
       "\n",
       "       AMT_CREDIT  DAYS_LAST_PHONE_CHANGE  AMT_GOODS_PRICE  DAYS_ID_PUBLISH  \\\n",
       "0        568800.0                 -1740.0         450000.0             -812   \n",
       "1        222768.0                     0.0         180000.0            -1623   \n",
       "2        663264.0                  -856.0         630000.0            -3503   \n",
       "3       1575000.0                 -1805.0        1575000.0            -4208   \n",
       "4        625500.0                  -821.0         625500.0            -4262   \n",
       "...           ...                     ...              ...              ...   \n",
       "48739    412560.0                  -684.0         270000.0            -3399   \n",
       "48740    622413.0                     0.0         495000.0            -3003   \n",
       "48741    315000.0                  -838.0         315000.0            -1504   \n",
       "48742    450000.0                 -2308.0         450000.0            -1364   \n",
       "48743    312768.0                  -327.0         270000.0            -4220   \n",
       "\n",
       "       DAYS_EMPLOYED  AMT_INCOME_TOTAL  OWN_CAR_AGE  \n",
       "0              -2329          135000.0          NaN  \n",
       "1              -4469           99000.0          NaN  \n",
       "2              -4458          202500.0          5.0  \n",
       "3              -1866          315000.0          NaN  \n",
       "4              -2191          180000.0         16.0  \n",
       "...              ...               ...          ...  \n",
       "48739          -5169          121500.0          NaN  \n",
       "48740          -1149          157500.0          NaN  \n",
       "48741          -3037          202500.0          4.0  \n",
       "48742          -2731          225000.0          NaN  \n",
       "48743           -633          135000.0         22.0  \n",
       "\n",
       "[48744 rows x 12 columns]"
      ]
     },
     "execution_count": 160,
     "metadata": {},
     "output_type": "execute_result"
    }
   ],
   "source": [
    "X_t"
   ]
  },
  {
   "cell_type": "code",
   "execution_count": 161,
   "metadata": {},
   "outputs": [
    {
     "data": {
      "text/plain": [
       "Index(['EXT_SOURCE_3', 'EXT_SOURCE_1', 'EXT_SOURCE_2', 'AMT_ANNUITY',\n",
       "       'DAYS_BIRTH', 'AMT_CREDIT', 'DAYS_LAST_PHONE_CHANGE', 'AMT_GOODS_PRICE',\n",
       "       'DAYS_ID_PUBLISH', 'DAYS_EMPLOYED', 'AMT_INCOME_TOTAL', 'OWN_CAR_AGE'],\n",
       "      dtype='object')"
      ]
     },
     "execution_count": 161,
     "metadata": {},
     "output_type": "execute_result"
    }
   ],
   "source": [
    "list_vars = X_t.columns\n",
    "list_vars"
   ]
  },
  {
   "cell_type": "code",
   "execution_count": 162,
   "metadata": {},
   "outputs": [
    {
     "data": {
      "text/plain": [
       "True"
      ]
     },
     "execution_count": 162,
     "metadata": {},
     "output_type": "execute_result"
    }
   ],
   "source": [
    "'EXT_SOURCE_1' in list_vars"
   ]
  },
  {
   "cell_type": "markdown",
   "metadata": {},
   "source": [
    "# D - Pipeline scaling - Currently not used (no data improvement)"
   ]
  },
  {
   "cell_type": "code",
   "execution_count": 163,
   "metadata": {},
   "outputs": [
    {
     "name": "stdout",
     "output_type": "stream",
     "text": [
      "Num features are Index(['EXT_SOURCE_3', 'EXT_SOURCE_1', 'EXT_SOURCE_2', 'AMT_ANNUITY',\n",
      "       'DAYS_BIRTH', 'AMT_CREDIT', 'DAYS_LAST_PHONE_CHANGE', 'AMT_GOODS_PRICE',\n",
      "       'DAYS_ID_PUBLISH', 'DAYS_EMPLOYED', 'AMT_INCOME_TOTAL', 'OWN_CAR_AGE'],\n",
      "      dtype='object')\n",
      "Cat featurees are Index([], dtype='object')\n"
     ]
    }
   ],
   "source": [
    "numeric_features_all = X_all.select_dtypes(include=np.number).columns\n",
    "print(f\"Num features are {numeric_features_all}\")\n",
    "\n",
    "categorical_features_all = X_all.select_dtypes(exclude=np.number).columns\n",
    "print(f\"Cat featurees are {categorical_features_all}\")"
   ]
  },
  {
   "cell_type": "code",
   "execution_count": 164,
   "metadata": {},
   "outputs": [],
   "source": [
    "categorical_transformer = OneHotEncoder()\n",
    "\n",
    "numeric_transformer = RobustScaler()"
   ]
  },
  {
   "cell_type": "code",
   "execution_count": 165,
   "metadata": {},
   "outputs": [],
   "source": [
    "preprocessor_all = ColumnTransformer(\n",
    "    transformers=[\n",
    "        ('num', numeric_transformer, numeric_features_all),\n",
    "        ('cat', categorical_transformer, categorical_features_all)])"
   ]
  },
  {
   "cell_type": "code",
   "execution_count": 166,
   "metadata": {},
   "outputs": [
    {
     "data": {
      "text/plain": [
       "ColumnTransformer(transformers=[('num', RobustScaler(),\n",
       "                                 Index(['EXT_SOURCE_3', 'EXT_SOURCE_1', 'EXT_SOURCE_2', 'AMT_ANNUITY',\n",
       "       'DAYS_BIRTH', 'AMT_CREDIT', 'DAYS_LAST_PHONE_CHANGE', 'AMT_GOODS_PRICE',\n",
       "       'DAYS_ID_PUBLISH', 'DAYS_EMPLOYED', 'AMT_INCOME_TOTAL', 'OWN_CAR_AGE'],\n",
       "      dtype='object')),\n",
       "                                ('cat', OneHotEncoder(),\n",
       "                                 Index([], dtype='object'))])"
      ]
     },
     "execution_count": 166,
     "metadata": {},
     "output_type": "execute_result"
    }
   ],
   "source": [
    "preprocessor_all.fit(X_all)"
   ]
  },
  {
   "cell_type": "code",
   "execution_count": 167,
   "metadata": {},
   "outputs": [
    {
     "data": {
      "text/plain": [
       "RobustScaler()"
      ]
     },
     "execution_count": 167,
     "metadata": {},
     "output_type": "execute_result"
    }
   ],
   "source": [
    "preprocessor_all.named_transformers_[\"num\"].fit(X_all.select_dtypes(include=np.number))"
   ]
  },
  {
   "cell_type": "code",
   "execution_count": 168,
   "metadata": {},
   "outputs": [
    {
     "data": {
      "text/plain": [
       "OneHotEncoder()"
      ]
     },
     "execution_count": 168,
     "metadata": {},
     "output_type": "execute_result"
    }
   ],
   "source": [
    "preprocessor_all.named_transformers_[\"cat\"].fit(X_all.select_dtypes(exclude=np.number))"
   ]
  },
  {
   "cell_type": "code",
   "execution_count": 169,
   "metadata": {},
   "outputs": [],
   "source": [
    "X_all_scaled = preprocessor_all.transform(X_all)"
   ]
  },
  {
   "cell_type": "code",
   "execution_count": 170,
   "metadata": {},
   "outputs": [
    {
     "data": {
      "text/plain": [
       "array([[-1.3267128 , -1.24018994, -1.11747012, ...,  0.23310401,\n",
       "         0.615     ,         nan],\n",
       "       [        nan, -0.57098167,  0.20756903, ...,  0.01011736,\n",
       "         1.365     ,         nan],\n",
       "       [ 0.65109196,         nan, -0.03706061, ...,  0.39983812,\n",
       "        -0.885     ,  1.7       ],\n",
       "       ...,\n",
       "       [-1.06035415,  0.69793797, -0.11151981, ..., -2.71469041,\n",
       "         0.065     ,         nan],\n",
       "       [ 0.42139515,         nan, -0.19102621, ..., -1.44597329,\n",
       "         0.265     ,         nan],\n",
       "       [-1.41201033,  0.66988676,  0.52591696, ..., -0.01983003,\n",
       "         0.115     ,         nan]])"
      ]
     },
     "execution_count": 170,
     "metadata": {},
     "output_type": "execute_result"
    }
   ],
   "source": [
    "X_all_scaled"
   ]
  },
  {
   "cell_type": "code",
   "execution_count": 171,
   "metadata": {},
   "outputs": [
    {
     "data": {
      "text/plain": [
       "(307511, 12)"
      ]
     },
     "execution_count": 171,
     "metadata": {},
     "output_type": "execute_result"
    }
   ],
   "source": [
    "X_all_scaled.shape"
   ]
  },
  {
   "cell_type": "code",
   "execution_count": 172,
   "metadata": {},
   "outputs": [],
   "source": [
    "std_scale_all = RobustScaler().fit(X_all)"
   ]
  },
  {
   "cell_type": "code",
   "execution_count": 173,
   "metadata": {},
   "outputs": [
    {
     "data": {
      "text/plain": [
       "(307511, 12)"
      ]
     },
     "execution_count": 173,
     "metadata": {},
     "output_type": "execute_result"
    }
   ],
   "source": [
    "X_scaled_all = std_scale_all.transform(X_all)\n",
    "X_scaled_all.shape"
   ]
  },
  {
   "cell_type": "markdown",
   "metadata": {},
   "source": [
    "### Over-write the X_all data with scaled data"
   ]
  },
  {
   "cell_type": "code",
   "execution_count": 174,
   "metadata": {},
   "outputs": [],
   "source": [
    "# X_all = X_scaled_all"
   ]
  },
  {
   "cell_type": "markdown",
   "metadata": {},
   "source": [
    "## By-pass normalisation"
   ]
  },
  {
   "cell_type": "code",
   "execution_count": 175,
   "metadata": {},
   "outputs": [],
   "source": [
    "X_train, X_test, y_train, y_test = train_test_split(X_all, y_all, test_size = 0.2, random_state=42)"
   ]
  },
  {
   "cell_type": "code",
   "execution_count": 176,
   "metadata": {},
   "outputs": [
    {
     "data": {
      "text/html": [
       "<div>\n",
       "<style scoped>\n",
       "    .dataframe tbody tr th:only-of-type {\n",
       "        vertical-align: middle;\n",
       "    }\n",
       "\n",
       "    .dataframe tbody tr th {\n",
       "        vertical-align: top;\n",
       "    }\n",
       "\n",
       "    .dataframe thead th {\n",
       "        text-align: right;\n",
       "    }\n",
       "</style>\n",
       "<table border=\"1\" class=\"dataframe\">\n",
       "  <thead>\n",
       "    <tr style=\"text-align: right;\">\n",
       "      <th></th>\n",
       "      <th>EXT_SOURCE_3</th>\n",
       "      <th>EXT_SOURCE_1</th>\n",
       "      <th>EXT_SOURCE_2</th>\n",
       "      <th>AMT_ANNUITY</th>\n",
       "      <th>DAYS_BIRTH</th>\n",
       "      <th>AMT_CREDIT</th>\n",
       "      <th>DAYS_LAST_PHONE_CHANGE</th>\n",
       "      <th>AMT_GOODS_PRICE</th>\n",
       "      <th>DAYS_ID_PUBLISH</th>\n",
       "      <th>DAYS_EMPLOYED</th>\n",
       "      <th>AMT_INCOME_TOTAL</th>\n",
       "      <th>OWN_CAR_AGE</th>\n",
       "    </tr>\n",
       "  </thead>\n",
       "  <tbody>\n",
       "    <tr>\n",
       "      <th>123473</th>\n",
       "      <td>0.563835</td>\n",
       "      <td>0.524685</td>\n",
       "      <td>0.358568</td>\n",
       "      <td>16366.5</td>\n",
       "      <td>-23349</td>\n",
       "      <td>555273.0</td>\n",
       "      <td>-2058.0</td>\n",
       "      <td>463500.0</td>\n",
       "      <td>-4408</td>\n",
       "      <td>365243</td>\n",
       "      <td>171000.0</td>\n",
       "      <td>31.0</td>\n",
       "    </tr>\n",
       "    <tr>\n",
       "      <th>10118</th>\n",
       "      <td>0.595456</td>\n",
       "      <td>0.244926</td>\n",
       "      <td>0.490305</td>\n",
       "      <td>23638.5</td>\n",
       "      <td>-10921</td>\n",
       "      <td>198085.5</td>\n",
       "      <td>-73.0</td>\n",
       "      <td>171000.0</td>\n",
       "      <td>-3399</td>\n",
       "      <td>-117</td>\n",
       "      <td>157500.0</td>\n",
       "      <td>NaN</td>\n",
       "    </tr>\n",
       "    <tr>\n",
       "      <th>64716</th>\n",
       "      <td>0.706205</td>\n",
       "      <td>NaN</td>\n",
       "      <td>0.643404</td>\n",
       "      <td>25173.0</td>\n",
       "      <td>-23213</td>\n",
       "      <td>776304.0</td>\n",
       "      <td>-1959.0</td>\n",
       "      <td>648000.0</td>\n",
       "      <td>-5009</td>\n",
       "      <td>-2157</td>\n",
       "      <td>135000.0</td>\n",
       "      <td>8.0</td>\n",
       "    </tr>\n",
       "    <tr>\n",
       "      <th>234940</th>\n",
       "      <td>0.506484</td>\n",
       "      <td>0.288642</td>\n",
       "      <td>0.426431</td>\n",
       "      <td>36787.5</td>\n",
       "      <td>-10703</td>\n",
       "      <td>900000.0</td>\n",
       "      <td>-531.0</td>\n",
       "      <td>900000.0</td>\n",
       "      <td>-2751</td>\n",
       "      <td>-2530</td>\n",
       "      <td>164133.0</td>\n",
       "      <td>15.0</td>\n",
       "    </tr>\n",
       "    <tr>\n",
       "      <th>236051</th>\n",
       "      <td>0.528093</td>\n",
       "      <td>0.790210</td>\n",
       "      <td>0.445701</td>\n",
       "      <td>21294.0</td>\n",
       "      <td>-15798</td>\n",
       "      <td>533668.5</td>\n",
       "      <td>-9.0</td>\n",
       "      <td>477000.0</td>\n",
       "      <td>-5001</td>\n",
       "      <td>-3520</td>\n",
       "      <td>225000.0</td>\n",
       "      <td>NaN</td>\n",
       "    </tr>\n",
       "    <tr>\n",
       "      <th>...</th>\n",
       "      <td>...</td>\n",
       "      <td>...</td>\n",
       "      <td>...</td>\n",
       "      <td>...</td>\n",
       "      <td>...</td>\n",
       "      <td>...</td>\n",
       "      <td>...</td>\n",
       "      <td>...</td>\n",
       "      <td>...</td>\n",
       "      <td>...</td>\n",
       "      <td>...</td>\n",
       "      <td>...</td>\n",
       "    </tr>\n",
       "    <tr>\n",
       "      <th>119879</th>\n",
       "      <td>NaN</td>\n",
       "      <td>NaN</td>\n",
       "      <td>0.617180</td>\n",
       "      <td>32602.5</td>\n",
       "      <td>-14481</td>\n",
       "      <td>675000.0</td>\n",
       "      <td>-564.0</td>\n",
       "      <td>675000.0</td>\n",
       "      <td>-4134</td>\n",
       "      <td>-1124</td>\n",
       "      <td>121500.0</td>\n",
       "      <td>NaN</td>\n",
       "    </tr>\n",
       "    <tr>\n",
       "      <th>259178</th>\n",
       "      <td>0.370650</td>\n",
       "      <td>0.455170</td>\n",
       "      <td>0.722398</td>\n",
       "      <td>40419.0</td>\n",
       "      <td>-15492</td>\n",
       "      <td>509922.0</td>\n",
       "      <td>-1063.0</td>\n",
       "      <td>472500.0</td>\n",
       "      <td>-4465</td>\n",
       "      <td>-292</td>\n",
       "      <td>225000.0</td>\n",
       "      <td>NaN</td>\n",
       "    </tr>\n",
       "    <tr>\n",
       "      <th>131932</th>\n",
       "      <td>0.554947</td>\n",
       "      <td>0.305919</td>\n",
       "      <td>0.608427</td>\n",
       "      <td>33025.5</td>\n",
       "      <td>-14309</td>\n",
       "      <td>1125000.0</td>\n",
       "      <td>-2267.0</td>\n",
       "      <td>1125000.0</td>\n",
       "      <td>-5123</td>\n",
       "      <td>-5929</td>\n",
       "      <td>450000.0</td>\n",
       "      <td>1.0</td>\n",
       "    </tr>\n",
       "    <tr>\n",
       "      <th>146867</th>\n",
       "      <td>0.259468</td>\n",
       "      <td>0.611373</td>\n",
       "      <td>0.597959</td>\n",
       "      <td>13500.0</td>\n",
       "      <td>-12706</td>\n",
       "      <td>270000.0</td>\n",
       "      <td>0.0</td>\n",
       "      <td>270000.0</td>\n",
       "      <td>-4406</td>\n",
       "      <td>-1868</td>\n",
       "      <td>180000.0</td>\n",
       "      <td>3.0</td>\n",
       "    </tr>\n",
       "    <tr>\n",
       "      <th>121958</th>\n",
       "      <td>0.275000</td>\n",
       "      <td>0.351724</td>\n",
       "      <td>0.408400</td>\n",
       "      <td>35239.5</td>\n",
       "      <td>-13176</td>\n",
       "      <td>729792.0</td>\n",
       "      <td>-862.0</td>\n",
       "      <td>630000.0</td>\n",
       "      <td>-4449</td>\n",
       "      <td>-733</td>\n",
       "      <td>157500.0</td>\n",
       "      <td>3.0</td>\n",
       "    </tr>\n",
       "  </tbody>\n",
       "</table>\n",
       "<p>246008 rows × 12 columns</p>\n",
       "</div>"
      ],
      "text/plain": [
       "        EXT_SOURCE_3  EXT_SOURCE_1  EXT_SOURCE_2  AMT_ANNUITY  DAYS_BIRTH  \\\n",
       "123473      0.563835      0.524685      0.358568      16366.5      -23349   \n",
       "10118       0.595456      0.244926      0.490305      23638.5      -10921   \n",
       "64716       0.706205           NaN      0.643404      25173.0      -23213   \n",
       "234940      0.506484      0.288642      0.426431      36787.5      -10703   \n",
       "236051      0.528093      0.790210      0.445701      21294.0      -15798   \n",
       "...              ...           ...           ...          ...         ...   \n",
       "119879           NaN           NaN      0.617180      32602.5      -14481   \n",
       "259178      0.370650      0.455170      0.722398      40419.0      -15492   \n",
       "131932      0.554947      0.305919      0.608427      33025.5      -14309   \n",
       "146867      0.259468      0.611373      0.597959      13500.0      -12706   \n",
       "121958      0.275000      0.351724      0.408400      35239.5      -13176   \n",
       "\n",
       "        AMT_CREDIT  DAYS_LAST_PHONE_CHANGE  AMT_GOODS_PRICE  DAYS_ID_PUBLISH  \\\n",
       "123473    555273.0                 -2058.0         463500.0            -4408   \n",
       "10118     198085.5                   -73.0         171000.0            -3399   \n",
       "64716     776304.0                 -1959.0         648000.0            -5009   \n",
       "234940    900000.0                  -531.0         900000.0            -2751   \n",
       "236051    533668.5                    -9.0         477000.0            -5001   \n",
       "...            ...                     ...              ...              ...   \n",
       "119879    675000.0                  -564.0         675000.0            -4134   \n",
       "259178    509922.0                 -1063.0         472500.0            -4465   \n",
       "131932   1125000.0                 -2267.0        1125000.0            -5123   \n",
       "146867    270000.0                     0.0         270000.0            -4406   \n",
       "121958    729792.0                  -862.0         630000.0            -4449   \n",
       "\n",
       "        DAYS_EMPLOYED  AMT_INCOME_TOTAL  OWN_CAR_AGE  \n",
       "123473         365243          171000.0         31.0  \n",
       "10118            -117          157500.0          NaN  \n",
       "64716           -2157          135000.0          8.0  \n",
       "234940          -2530          164133.0         15.0  \n",
       "236051          -3520          225000.0          NaN  \n",
       "...               ...               ...          ...  \n",
       "119879          -1124          121500.0          NaN  \n",
       "259178           -292          225000.0          NaN  \n",
       "131932          -5929          450000.0          1.0  \n",
       "146867          -1868          180000.0          3.0  \n",
       "121958           -733          157500.0          3.0  \n",
       "\n",
       "[246008 rows x 12 columns]"
      ]
     },
     "execution_count": 176,
     "metadata": {},
     "output_type": "execute_result"
    }
   ],
   "source": [
    "X_train"
   ]
  },
  {
   "cell_type": "code",
   "execution_count": 177,
   "metadata": {},
   "outputs": [
    {
     "data": {
      "text/html": [
       "<div>\n",
       "<style scoped>\n",
       "    .dataframe tbody tr th:only-of-type {\n",
       "        vertical-align: middle;\n",
       "    }\n",
       "\n",
       "    .dataframe tbody tr th {\n",
       "        vertical-align: top;\n",
       "    }\n",
       "\n",
       "    .dataframe thead th {\n",
       "        text-align: right;\n",
       "    }\n",
       "</style>\n",
       "<table border=\"1\" class=\"dataframe\">\n",
       "  <thead>\n",
       "    <tr style=\"text-align: right;\">\n",
       "      <th></th>\n",
       "      <th>EXT_SOURCE_3</th>\n",
       "      <th>EXT_SOURCE_1</th>\n",
       "      <th>EXT_SOURCE_2</th>\n",
       "      <th>AMT_ANNUITY</th>\n",
       "      <th>DAYS_BIRTH</th>\n",
       "      <th>AMT_CREDIT</th>\n",
       "      <th>DAYS_LAST_PHONE_CHANGE</th>\n",
       "      <th>AMT_GOODS_PRICE</th>\n",
       "      <th>DAYS_ID_PUBLISH</th>\n",
       "      <th>DAYS_EMPLOYED</th>\n",
       "      <th>AMT_INCOME_TOTAL</th>\n",
       "      <th>OWN_CAR_AGE</th>\n",
       "    </tr>\n",
       "  </thead>\n",
       "  <tbody>\n",
       "    <tr>\n",
       "      <th>245895</th>\n",
       "      <td>0.000527</td>\n",
       "      <td>0.675878</td>\n",
       "      <td>0.604894</td>\n",
       "      <td>52641.0</td>\n",
       "      <td>-13297</td>\n",
       "      <td>465457.5</td>\n",
       "      <td>-2.0</td>\n",
       "      <td>418500.0</td>\n",
       "      <td>-4307</td>\n",
       "      <td>-762</td>\n",
       "      <td>207000.0</td>\n",
       "      <td>19.0</td>\n",
       "    </tr>\n",
       "    <tr>\n",
       "      <th>98194</th>\n",
       "      <td>0.712155</td>\n",
       "      <td>0.430827</td>\n",
       "      <td>0.425351</td>\n",
       "      <td>48946.5</td>\n",
       "      <td>-14778</td>\n",
       "      <td>1281712.5</td>\n",
       "      <td>-1071.0</td>\n",
       "      <td>1179000.0</td>\n",
       "      <td>-4546</td>\n",
       "      <td>-1141</td>\n",
       "      <td>247500.0</td>\n",
       "      <td>11.0</td>\n",
       "    </tr>\n",
       "    <tr>\n",
       "      <th>36463</th>\n",
       "      <td>0.207964</td>\n",
       "      <td>0.527239</td>\n",
       "      <td>0.531760</td>\n",
       "      <td>39109.5</td>\n",
       "      <td>-17907</td>\n",
       "      <td>495000.0</td>\n",
       "      <td>-1435.0</td>\n",
       "      <td>495000.0</td>\n",
       "      <td>-1461</td>\n",
       "      <td>-639</td>\n",
       "      <td>202500.0</td>\n",
       "      <td>4.0</td>\n",
       "    </tr>\n",
       "    <tr>\n",
       "      <th>249923</th>\n",
       "      <td>0.614414</td>\n",
       "      <td>NaN</td>\n",
       "      <td>0.693521</td>\n",
       "      <td>24939.0</td>\n",
       "      <td>-19626</td>\n",
       "      <td>254700.0</td>\n",
       "      <td>-2000.0</td>\n",
       "      <td>225000.0</td>\n",
       "      <td>-3158</td>\n",
       "      <td>-6982</td>\n",
       "      <td>247500.0</td>\n",
       "      <td>NaN</td>\n",
       "    </tr>\n",
       "    <tr>\n",
       "      <th>158389</th>\n",
       "      <td>0.636376</td>\n",
       "      <td>0.654882</td>\n",
       "      <td>0.560690</td>\n",
       "      <td>15862.5</td>\n",
       "      <td>-20327</td>\n",
       "      <td>308133.0</td>\n",
       "      <td>-173.0</td>\n",
       "      <td>234000.0</td>\n",
       "      <td>-494</td>\n",
       "      <td>-1105</td>\n",
       "      <td>112500.0</td>\n",
       "      <td>NaN</td>\n",
       "    </tr>\n",
       "    <tr>\n",
       "      <th>...</th>\n",
       "      <td>...</td>\n",
       "      <td>...</td>\n",
       "      <td>...</td>\n",
       "      <td>...</td>\n",
       "      <td>...</td>\n",
       "      <td>...</td>\n",
       "      <td>...</td>\n",
       "      <td>...</td>\n",
       "      <td>...</td>\n",
       "      <td>...</td>\n",
       "      <td>...</td>\n",
       "      <td>...</td>\n",
       "    </tr>\n",
       "    <tr>\n",
       "      <th>256564</th>\n",
       "      <td>0.307737</td>\n",
       "      <td>0.581535</td>\n",
       "      <td>0.401592</td>\n",
       "      <td>45000.0</td>\n",
       "      <td>-18622</td>\n",
       "      <td>900000.0</td>\n",
       "      <td>-1638.0</td>\n",
       "      <td>900000.0</td>\n",
       "      <td>-2153</td>\n",
       "      <td>-2097</td>\n",
       "      <td>450000.0</td>\n",
       "      <td>1.0</td>\n",
       "    </tr>\n",
       "    <tr>\n",
       "      <th>278889</th>\n",
       "      <td>0.138513</td>\n",
       "      <td>0.390905</td>\n",
       "      <td>0.495743</td>\n",
       "      <td>24030.0</td>\n",
       "      <td>-12325</td>\n",
       "      <td>202500.0</td>\n",
       "      <td>-1862.0</td>\n",
       "      <td>202500.0</td>\n",
       "      <td>-4518</td>\n",
       "      <td>-187</td>\n",
       "      <td>225000.0</td>\n",
       "      <td>NaN</td>\n",
       "    </tr>\n",
       "    <tr>\n",
       "      <th>221828</th>\n",
       "      <td>0.742182</td>\n",
       "      <td>NaN</td>\n",
       "      <td>0.591947</td>\n",
       "      <td>30357.0</td>\n",
       "      <td>-23629</td>\n",
       "      <td>254700.0</td>\n",
       "      <td>-1587.0</td>\n",
       "      <td>225000.0</td>\n",
       "      <td>-4260</td>\n",
       "      <td>365243</td>\n",
       "      <td>121500.0</td>\n",
       "      <td>NaN</td>\n",
       "    </tr>\n",
       "    <tr>\n",
       "      <th>190245</th>\n",
       "      <td>0.698668</td>\n",
       "      <td>NaN</td>\n",
       "      <td>0.325968</td>\n",
       "      <td>38551.5</td>\n",
       "      <td>-17350</td>\n",
       "      <td>1314117.0</td>\n",
       "      <td>0.0</td>\n",
       "      <td>1147500.0</td>\n",
       "      <td>-854</td>\n",
       "      <td>-4118</td>\n",
       "      <td>112500.0</td>\n",
       "      <td>2.0</td>\n",
       "    </tr>\n",
       "    <tr>\n",
       "      <th>253004</th>\n",
       "      <td>0.517297</td>\n",
       "      <td>NaN</td>\n",
       "      <td>0.707611</td>\n",
       "      <td>27423.0</td>\n",
       "      <td>-18973</td>\n",
       "      <td>521280.0</td>\n",
       "      <td>-572.0</td>\n",
       "      <td>450000.0</td>\n",
       "      <td>-2532</td>\n",
       "      <td>-3289</td>\n",
       "      <td>157500.0</td>\n",
       "      <td>NaN</td>\n",
       "    </tr>\n",
       "  </tbody>\n",
       "</table>\n",
       "<p>61503 rows × 12 columns</p>\n",
       "</div>"
      ],
      "text/plain": [
       "        EXT_SOURCE_3  EXT_SOURCE_1  EXT_SOURCE_2  AMT_ANNUITY  DAYS_BIRTH  \\\n",
       "245895      0.000527      0.675878      0.604894      52641.0      -13297   \n",
       "98194       0.712155      0.430827      0.425351      48946.5      -14778   \n",
       "36463       0.207964      0.527239      0.531760      39109.5      -17907   \n",
       "249923      0.614414           NaN      0.693521      24939.0      -19626   \n",
       "158389      0.636376      0.654882      0.560690      15862.5      -20327   \n",
       "...              ...           ...           ...          ...         ...   \n",
       "256564      0.307737      0.581535      0.401592      45000.0      -18622   \n",
       "278889      0.138513      0.390905      0.495743      24030.0      -12325   \n",
       "221828      0.742182           NaN      0.591947      30357.0      -23629   \n",
       "190245      0.698668           NaN      0.325968      38551.5      -17350   \n",
       "253004      0.517297           NaN      0.707611      27423.0      -18973   \n",
       "\n",
       "        AMT_CREDIT  DAYS_LAST_PHONE_CHANGE  AMT_GOODS_PRICE  DAYS_ID_PUBLISH  \\\n",
       "245895    465457.5                    -2.0         418500.0            -4307   \n",
       "98194    1281712.5                 -1071.0        1179000.0            -4546   \n",
       "36463     495000.0                 -1435.0         495000.0            -1461   \n",
       "249923    254700.0                 -2000.0         225000.0            -3158   \n",
       "158389    308133.0                  -173.0         234000.0             -494   \n",
       "...            ...                     ...              ...              ...   \n",
       "256564    900000.0                 -1638.0         900000.0            -2153   \n",
       "278889    202500.0                 -1862.0         202500.0            -4518   \n",
       "221828    254700.0                 -1587.0         225000.0            -4260   \n",
       "190245   1314117.0                     0.0        1147500.0             -854   \n",
       "253004    521280.0                  -572.0         450000.0            -2532   \n",
       "\n",
       "        DAYS_EMPLOYED  AMT_INCOME_TOTAL  OWN_CAR_AGE  \n",
       "245895           -762          207000.0         19.0  \n",
       "98194           -1141          247500.0         11.0  \n",
       "36463            -639          202500.0          4.0  \n",
       "249923          -6982          247500.0          NaN  \n",
       "158389          -1105          112500.0          NaN  \n",
       "...               ...               ...          ...  \n",
       "256564          -2097          450000.0          1.0  \n",
       "278889           -187          225000.0          NaN  \n",
       "221828         365243          121500.0          NaN  \n",
       "190245          -4118          112500.0          2.0  \n",
       "253004          -3289          157500.0          NaN  \n",
       "\n",
       "[61503 rows x 12 columns]"
      ]
     },
     "execution_count": 177,
     "metadata": {},
     "output_type": "execute_result"
    }
   ],
   "source": [
    "X_test"
   ]
  },
  {
   "cell_type": "code",
   "execution_count": 178,
   "metadata": {},
   "outputs": [
    {
     "data": {
      "text/plain": [
       "True"
      ]
     },
     "execution_count": 178,
     "metadata": {},
     "output_type": "execute_result"
    }
   ],
   "source": [
    "X_train.shape[0] + X_test.shape[0] == X_all.shape[0]"
   ]
  },
  {
   "cell_type": "markdown",
   "metadata": {},
   "source": [
    "## Train test split - scaled data: COMMENTED OUT"
   ]
  },
  {
   "cell_type": "code",
   "execution_count": 179,
   "metadata": {},
   "outputs": [],
   "source": [
    "# X_train, X_test, y_train, y_test = train_test_split(X_all_scaled, y_all, test_size = 0.2, random_state=42)"
   ]
  },
  {
   "cell_type": "code",
   "execution_count": 180,
   "metadata": {},
   "outputs": [
    {
     "data": {
      "text/plain": [
       "((246008, 12), (61503, 12), (246008,), (61503,))"
      ]
     },
     "execution_count": 180,
     "metadata": {},
     "output_type": "execute_result"
    }
   ],
   "source": [
    "X_train.shape, X_test.shape, y_train.shape, y_test.shape"
   ]
  },
  {
   "cell_type": "code",
   "execution_count": 181,
   "metadata": {},
   "outputs": [
    {
     "name": "stdout",
     "output_type": "stream",
     "text": [
      "<class 'pandas.core.frame.DataFrame'>\n",
      "RangeIndex: 307511 entries, 0 to 307510\n",
      "Columns: 150 entries, SK_ID_CURR to cc_bal_cc_bal_status__Signed\n",
      "dtypes: float64(93), int64(57)\n",
      "memory usage: 351.9 MB\n"
     ]
    }
   ],
   "source": [
    "data.info()"
   ]
  },
  {
   "cell_type": "code",
   "execution_count": 182,
   "metadata": {},
   "outputs": [
    {
     "data": {
      "text/plain": [
       "(246008, 12)"
      ]
     },
     "execution_count": 182,
     "metadata": {},
     "output_type": "execute_result"
    }
   ],
   "source": [
    "X_train.shape"
   ]
  },
  {
   "cell_type": "markdown",
   "metadata": {},
   "source": [
    "# E - Model Light GBM Classifier\n",
    "### Voir GridSearch CV pour optimisation"
   ]
  },
  {
   "cell_type": "markdown",
   "metadata": {},
   "source": [
    "### Ref: https://lightgbm.readthedocs.io/en/latest/pythonapi/lightgbm.LGBMClassifier.html"
   ]
  },
  {
   "cell_type": "markdown",
   "metadata": {},
   "source": [
    "## Traitement d'un dataset \"unbalanced\""
   ]
  },
  {
   "cell_type": "code",
   "execution_count": 183,
   "metadata": {},
   "outputs": [
    {
     "data": {
      "text/html": [
       "<div>\n",
       "<style scoped>\n",
       "    .dataframe tbody tr th:only-of-type {\n",
       "        vertical-align: middle;\n",
       "    }\n",
       "\n",
       "    .dataframe tbody tr th {\n",
       "        vertical-align: top;\n",
       "    }\n",
       "\n",
       "    .dataframe thead th {\n",
       "        text-align: right;\n",
       "    }\n",
       "</style>\n",
       "<table border=\"1\" class=\"dataframe\">\n",
       "  <thead>\n",
       "    <tr style=\"text-align: right;\">\n",
       "      <th></th>\n",
       "      <th>target</th>\n",
       "    </tr>\n",
       "  </thead>\n",
       "  <tbody>\n",
       "    <tr>\n",
       "      <th>0</th>\n",
       "      <td>0</td>\n",
       "    </tr>\n",
       "    <tr>\n",
       "      <th>1</th>\n",
       "      <td>0</td>\n",
       "    </tr>\n",
       "    <tr>\n",
       "      <th>2</th>\n",
       "      <td>1</td>\n",
       "    </tr>\n",
       "    <tr>\n",
       "      <th>3</th>\n",
       "      <td>0</td>\n",
       "    </tr>\n",
       "    <tr>\n",
       "      <th>4</th>\n",
       "      <td>0</td>\n",
       "    </tr>\n",
       "    <tr>\n",
       "      <th>...</th>\n",
       "      <td>...</td>\n",
       "    </tr>\n",
       "    <tr>\n",
       "      <th>246003</th>\n",
       "      <td>0</td>\n",
       "    </tr>\n",
       "    <tr>\n",
       "      <th>246004</th>\n",
       "      <td>0</td>\n",
       "    </tr>\n",
       "    <tr>\n",
       "      <th>246005</th>\n",
       "      <td>0</td>\n",
       "    </tr>\n",
       "    <tr>\n",
       "      <th>246006</th>\n",
       "      <td>0</td>\n",
       "    </tr>\n",
       "    <tr>\n",
       "      <th>246007</th>\n",
       "      <td>1</td>\n",
       "    </tr>\n",
       "  </tbody>\n",
       "</table>\n",
       "<p>246008 rows × 1 columns</p>\n",
       "</div>"
      ],
      "text/plain": [
       "        target\n",
       "0            0\n",
       "1            0\n",
       "2            1\n",
       "3            0\n",
       "4            0\n",
       "...        ...\n",
       "246003       0\n",
       "246004       0\n",
       "246005       0\n",
       "246006       0\n",
       "246007       1\n",
       "\n",
       "[246008 rows x 1 columns]"
      ]
     },
     "execution_count": 183,
     "metadata": {},
     "output_type": "execute_result"
    }
   ],
   "source": [
    "df_check = pd.DataFrame(y_train, columns=['target'])\n",
    "df_check"
   ]
  },
  {
   "cell_type": "code",
   "execution_count": 184,
   "metadata": {},
   "outputs": [
    {
     "data": {
      "text/plain": [
       "target\n",
       "0         226132\n",
       "1          19876\n",
       "dtype: int64"
      ]
     },
     "execution_count": 184,
     "metadata": {},
     "output_type": "execute_result"
    }
   ],
   "source": [
    "df_check.value_counts()"
   ]
  },
  {
   "cell_type": "code",
   "execution_count": 185,
   "metadata": {},
   "outputs": [
    {
     "data": {
      "text/plain": [
       "(226132, 19876, 246008)"
      ]
     },
     "execution_count": 185,
     "metadata": {},
     "output_type": "execute_result"
    }
   ],
   "source": [
    "df_check.value_counts()[0], df_check.value_counts()[1], df_check.shape[0]"
   ]
  },
  {
   "cell_type": "code",
   "execution_count": 186,
   "metadata": {},
   "outputs": [
    {
     "data": {
      "text/plain": [
       "0.919205879483594"
      ]
     },
     "execution_count": 186,
     "metadata": {},
     "output_type": "execute_result"
    }
   ],
   "source": [
    "df_check.value_counts()[0] / df_check.shape[0]"
   ]
  },
  {
   "cell_type": "code",
   "execution_count": 187,
   "metadata": {},
   "outputs": [],
   "source": [
    "# mydict = {\n",
    "#     1 : 246008 / (2 * 19876),\n",
    "#     0 : 246008 / (2 * 226132)\n",
    "# }"
   ]
  },
  {
   "cell_type": "code",
   "execution_count": 188,
   "metadata": {},
   "outputs": [],
   "source": [
    "mydict = {\n",
    "    1 : df_check.shape[0] / (2 * df_check.value_counts()[1]),\n",
    "    0 : df_check.shape[0] / (2 * df_check.value_counts()[0])\n",
    "}"
   ]
  },
  {
   "cell_type": "code",
   "execution_count": 189,
   "metadata": {},
   "outputs": [
    {
     "name": "stderr",
     "output_type": "stream",
     "text": [
      "/Users/Julien/opt/anaconda3/envs/myenvIBM-ML/lib/python3.9/site-packages/lightgbm/sklearn.py:598: UserWarning: 'silent' argument is deprecated and will be removed in a future release of LightGBM. Pass 'verbose' parameter via keyword arguments instead.\n",
      "  _log_warning(\"'silent' argument is deprecated and will be removed in a future release of LightGBM. \"\n",
      "/Users/Julien/opt/anaconda3/envs/myenvIBM-ML/lib/python3.9/site-packages/lightgbm/sklearn.py:726: UserWarning: 'early_stopping_rounds' argument is deprecated and will be removed in a future release of LightGBM. Pass 'early_stopping()' callback via 'callbacks' argument instead.\n",
      "  _log_warning(\"'early_stopping_rounds' argument is deprecated and will be removed in a future release of LightGBM. \"\n",
      "/Users/Julien/opt/anaconda3/envs/myenvIBM-ML/lib/python3.9/site-packages/lightgbm/sklearn.py:736: UserWarning: 'verbose' argument is deprecated and will be removed in a future release of LightGBM. Pass 'log_evaluation()' callback via 'callbacks' argument instead.\n",
      "  _log_warning(\"'verbose' argument is deprecated and will be removed in a future release of LightGBM. \"\n"
     ]
    },
    {
     "name": "stdout",
     "output_type": "stream",
     "text": [
      "[100]\ttraining's auc: 0.754059\ttraining's binary_logloss: 0.592821\tvalid_1's auc: 0.742603\tvalid_1's binary_logloss: 0.596868\n",
      "[200]\ttraining's auc: 0.767611\ttraining's binary_logloss: 0.577645\tvalid_1's auc: 0.74904\tvalid_1's binary_logloss: 0.58531\n",
      "[300]\ttraining's auc: 0.77639\ttraining's binary_logloss: 0.568894\tvalid_1's auc: 0.750147\tvalid_1's binary_logloss: 0.579926\n",
      "[400]\ttraining's auc: 0.78419\ttraining's binary_logloss: 0.561501\tvalid_1's auc: 0.750554\tvalid_1's binary_logloss: 0.575578\n",
      "[500]\ttraining's auc: 0.791096\ttraining's binary_logloss: 0.554894\tvalid_1's auc: 0.750787\tvalid_1's binary_logloss: 0.57171\n",
      "[600]\ttraining's auc: 0.797726\ttraining's binary_logloss: 0.548454\tvalid_1's auc: 0.751169\tvalid_1's binary_logloss: 0.567796\n"
     ]
    },
    {
     "data": {
      "text/plain": [
       "LGBMClassifier(class_weight={0: 0.543947782710983, 1: 6.188569128597304},\n",
       "               colsample_bytree=0.8, learning_rate=0.03, max_depth=7,\n",
       "               min_child_weight=2, min_split_gain=0.01, n_estimators=800,\n",
       "               num_leaves=30, reg_alpha=0.1, reg_lambda=0.1, silent=-1,\n",
       "               subsample=0.9, verbose=-1)"
      ]
     },
     "execution_count": 189,
     "metadata": {},
     "output_type": "execute_result"
    }
   ],
   "source": [
    "params = {'task': 'train', 'boosting_type': 'gbdt', 'objective': 'binary', 'metric': 'auc', \n",
    "          'learning_rate': 0.03, 'num_leaves': 30, 'num_iteration': 4000, 'verbose': 0 ,\n",
    "          'colsample_bytree':.8, 'subsample':.9, 'max_depth':7, 'reg_alpha':.1, 'reg_lambda':.1, \n",
    "          'min_split_gain':.01, 'min_child_weight':2}\n",
    "        \n",
    "lgbm_model = LGBMClassifier(\n",
    "#             n_estimators=4000,\n",
    "    n_estimators=800,\n",
    "    learning_rate=0.03,\n",
    "    num_leaves=30,\n",
    "    colsample_bytree=.8,\n",
    "    subsample=.9,\n",
    "    max_depth=7,\n",
    "    reg_alpha=.1,\n",
    "    reg_lambda=.1,\n",
    "    min_split_gain=.01,\n",
    "    min_child_weight=2,\n",
    "    silent=-1,\n",
    "    verbose=-1,\n",
    "    class_weight=mydict\n",
    ")\n",
    "\n",
    "lgbm_model.fit(X_train, y_train, \n",
    "        eval_set= [(X_train, y_train), (X_test, y_test)], \n",
    "        eval_metric='auc', verbose=100, early_stopping_rounds=100  #30\n",
    "       )\n",
    "\n",
    "\n"
   ]
  },
  {
   "cell_type": "code",
   "execution_count": 190,
   "metadata": {},
   "outputs": [
    {
     "data": {
      "text/plain": [
       "array([0.60277521, 0.31424746, 0.63019176, ..., 0.19444527, 0.2597305 ,\n",
       "       0.39187488])"
      ]
     },
     "execution_count": 190,
     "metadata": {},
     "output_type": "execute_result"
    }
   ],
   "source": [
    "y_pred_lgb_proba = lgbm_model.predict_proba(X_test)[:, 1]\n",
    "y_pred_lgb_proba"
   ]
  },
  {
   "cell_type": "markdown",
   "metadata": {},
   "source": [
    "### Attention: predict resultats [0, 1], [pas de controle sur le threathold = 0.5]"
   ]
  },
  {
   "cell_type": "code",
   "execution_count": 191,
   "metadata": {},
   "outputs": [],
   "source": [
    "y_pred_lgb = lgbm_model.predict(X_test)"
   ]
  },
  {
   "cell_type": "code",
   "execution_count": 192,
   "metadata": {},
   "outputs": [
    {
     "data": {
      "text/plain": [
       "(61503, 12)"
      ]
     },
     "execution_count": 192,
     "metadata": {},
     "output_type": "execute_result"
    }
   ],
   "source": [
    "X_test.shape"
   ]
  },
  {
   "cell_type": "code",
   "execution_count": 193,
   "metadata": {},
   "outputs": [
    {
     "data": {
      "text/plain": [
       "array([1, 0, 1, ..., 0, 0, 0])"
      ]
     },
     "execution_count": 193,
     "metadata": {},
     "output_type": "execute_result"
    }
   ],
   "source": [
    "y_pred_lgb"
   ]
  },
  {
   "cell_type": "markdown",
   "metadata": {},
   "source": [
    "### classification_report avec cut-off 0.5 par defaut"
   ]
  },
  {
   "cell_type": "code",
   "execution_count": 194,
   "metadata": {},
   "outputs": [
    {
     "name": "stdout",
     "output_type": "stream",
     "text": [
      "              precision    recall  f1-score   support\n",
      "\n",
      "           0       0.96      0.71      0.82     56554\n",
      "           1       0.17      0.67      0.27      4949\n",
      "\n",
      "    accuracy                           0.71     61503\n",
      "   macro avg       0.56      0.69      0.54     61503\n",
      "weighted avg       0.90      0.71      0.77     61503\n",
      "\n"
     ]
    }
   ],
   "source": [
    "print(classification_report(y_test, y_pred_lgb))"
   ]
  },
  {
   "cell_type": "code",
   "execution_count": 195,
   "metadata": {},
   "outputs": [],
   "source": [
    "#               precision    recall  f1-score   support\n",
    "\n",
    "#            0       0.92      1.00      0.96     56554\n",
    "#            1       0.55      0.03      0.05      4949\n",
    "\n",
    "#     accuracy                           0.92     61503\n",
    "#    macro avg       0.74      0.51      0.51     61503\n",
    "# weighted avg       0.89      0.92      0.89     61503"
   ]
  },
  {
   "cell_type": "code",
   "execution_count": 196,
   "metadata": {},
   "outputs": [
    {
     "data": {
      "text/plain": [
       "(1, 0)"
      ]
     },
     "execution_count": 196,
     "metadata": {},
     "output_type": "execute_result"
    }
   ],
   "source": [
    "y_pred_lgb.max(), y_pred_lgb.min()"
   ]
  },
  {
   "cell_type": "markdown",
   "metadata": {},
   "source": [
    "# E - Analyse performance modele"
   ]
  },
  {
   "cell_type": "markdown",
   "metadata": {},
   "source": [
    "### classification_report avec SELECTION CUT_OFF "
   ]
  },
  {
   "cell_type": "code",
   "execution_count": 197,
   "metadata": {},
   "outputs": [],
   "source": [
    "cut_off = 0.29"
   ]
  },
  {
   "cell_type": "code",
   "execution_count": 198,
   "metadata": {},
   "outputs": [
    {
     "name": "stdout",
     "output_type": "stream",
     "text": [
      "              precision    recall  f1-score   support\n",
      "\n",
      "           0       0.98      0.36      0.53     56554\n",
      "           1       0.11      0.90      0.20      4949\n",
      "\n",
      "    accuracy                           0.41     61503\n",
      "   macro avg       0.54      0.63      0.36     61503\n",
      "weighted avg       0.91      0.41      0.50     61503\n",
      "\n"
     ]
    }
   ],
   "source": [
    "y_pred_final_lgb = []\n",
    "for my_pred in y_pred_lgb_proba:\n",
    "    if my_pred > cut_off:\n",
    "        y_pred_final_lgb.append(1)\n",
    "    else:\n",
    "        y_pred_final_lgb.append(0)\n",
    "y_pred_final_lgb[:10]\n",
    "print(classification_report(y_test, y_pred_final_lgb))"
   ]
  },
  {
   "cell_type": "code",
   "execution_count": 199,
   "metadata": {},
   "outputs": [
    {
     "name": "stdout",
     "output_type": "stream",
     "text": [
      "Recall    : 0.903616892301475\n"
     ]
    }
   ],
   "source": [
    "from sklearn.metrics import precision_recall_fscore_support as score\n",
    "# y_true = [0, 1, 2, 2, 2]\n",
    "# y_pred = [0, 0, 2, 2, 1]\n",
    "precision,recall,fscore,support=score(y_test, y_pred_final_lgb)\n",
    "print ('Recall    : {}'.format(recall[1]))"
   ]
  },
  {
   "cell_type": "code",
   "execution_count": 200,
   "metadata": {},
   "outputs": [
    {
     "data": {
      "text/plain": [
       "'              precision    recall  f1-score   support\\n\\n           0       0.98      0.36      0.53     56554\\n           1       0.11      0.90      0.20      4949\\n\\n    accuracy                           0.41     61503\\n   macro avg       0.54      0.63      0.36     61503\\nweighted avg       0.91      0.41      0.50     61503\\n'"
      ]
     },
     "execution_count": 200,
     "metadata": {},
     "output_type": "execute_result"
    }
   ],
   "source": [
    "classification_report(y_test, y_pred_final_lgb)"
   ]
  },
  {
   "cell_type": "code",
   "execution_count": 201,
   "metadata": {},
   "outputs": [
    {
     "name": "stdout",
     "output_type": "stream",
     "text": [
      "Precision : 0.5437496667338163\n",
      "Recall    : 0.6327947601161511\n",
      "F-score   : 0.3624121936365981\n",
      "Support   : None\n"
     ]
    }
   ],
   "source": [
    "# dict(classification_report(y_test, y_pred_final_lgb))\n",
    "\n",
    "from sklearn.metrics import precision_recall_fscore_support as score\n",
    "# y_true = [0, 1, 2, 2, 2]\n",
    "# y_pred = [0, 0, 2, 2, 1]\n",
    "precision,recall,fscore,support=score(y_test, y_pred_final_lgb,average='macro')\n",
    "print ('Precision : {}'.format(precision))\n",
    "print ('Recall    : {}'.format(recall))\n",
    "print ('F-score   : {}'.format(fscore))\n",
    "print ('Support   : {}'.format(support))"
   ]
  },
  {
   "cell_type": "code",
   "execution_count": 202,
   "metadata": {},
   "outputs": [
    {
     "data": {
      "text/plain": [
       "0.904"
      ]
     },
     "execution_count": 202,
     "metadata": {},
     "output_type": "execute_result"
    }
   ],
   "source": [
    "ft_cut_off(0.29, y_pred_lgb_proba)"
   ]
  },
  {
   "cell_type": "code",
   "execution_count": 203,
   "metadata": {},
   "outputs": [
    {
     "name": "stderr",
     "output_type": "stream",
     "text": [
      "/Users/Julien/opt/anaconda3/envs/myenvIBM-ML/lib/python3.9/site-packages/sklearn/metrics/_classification.py:1245: UndefinedMetricWarning: Precision and F-score are ill-defined and being set to 0.0 in labels with no predicted samples. Use `zero_division` parameter to control this behavior.\n",
      "  _warn_prf(average, modifier, msg_start, len(result))\n",
      "/Users/Julien/opt/anaconda3/envs/myenvIBM-ML/lib/python3.9/site-packages/sklearn/metrics/_classification.py:1245: UndefinedMetricWarning: Precision and F-score are ill-defined and being set to 0.0 in labels with no predicted samples. Use `zero_division` parameter to control this behavior.\n",
      "  _warn_prf(average, modifier, msg_start, len(result))\n",
      "/Users/Julien/opt/anaconda3/envs/myenvIBM-ML/lib/python3.9/site-packages/sklearn/metrics/_classification.py:1245: UndefinedMetricWarning: Precision and F-score are ill-defined and being set to 0.0 in labels with no predicted samples. Use `zero_division` parameter to control this behavior.\n",
      "  _warn_prf(average, modifier, msg_start, len(result))\n",
      "/Users/Julien/opt/anaconda3/envs/myenvIBM-ML/lib/python3.9/site-packages/sklearn/metrics/_classification.py:1245: UndefinedMetricWarning: Precision and F-score are ill-defined and being set to 0.0 in labels with no predicted samples. Use `zero_division` parameter to control this behavior.\n",
      "  _warn_prf(average, modifier, msg_start, len(result))\n"
     ]
    },
    {
     "data": {
      "text/html": [
       "<div>\n",
       "<style scoped>\n",
       "    .dataframe tbody tr th:only-of-type {\n",
       "        vertical-align: middle;\n",
       "    }\n",
       "\n",
       "    .dataframe tbody tr th {\n",
       "        vertical-align: top;\n",
       "    }\n",
       "\n",
       "    .dataframe thead th {\n",
       "        text-align: right;\n",
       "    }\n",
       "</style>\n",
       "<table border=\"1\" class=\"dataframe\">\n",
       "  <thead>\n",
       "    <tr style=\"text-align: right;\">\n",
       "      <th></th>\n",
       "      <th>cut_off</th>\n",
       "      <th>recall</th>\n",
       "    </tr>\n",
       "  </thead>\n",
       "  <tbody>\n",
       "    <tr>\n",
       "      <th>0</th>\n",
       "      <td>0.01</td>\n",
       "      <td>1.0</td>\n",
       "    </tr>\n",
       "    <tr>\n",
       "      <th>1</th>\n",
       "      <td>0.02</td>\n",
       "      <td>1.0</td>\n",
       "    </tr>\n",
       "    <tr>\n",
       "      <th>2</th>\n",
       "      <td>0.03</td>\n",
       "      <td>1.0</td>\n",
       "    </tr>\n",
       "    <tr>\n",
       "      <th>3</th>\n",
       "      <td>0.04</td>\n",
       "      <td>1.0</td>\n",
       "    </tr>\n",
       "    <tr>\n",
       "      <th>4</th>\n",
       "      <td>0.05</td>\n",
       "      <td>1.0</td>\n",
       "    </tr>\n",
       "    <tr>\n",
       "      <th>...</th>\n",
       "      <td>...</td>\n",
       "      <td>...</td>\n",
       "    </tr>\n",
       "    <tr>\n",
       "      <th>94</th>\n",
       "      <td>0.95</td>\n",
       "      <td>0.0</td>\n",
       "    </tr>\n",
       "    <tr>\n",
       "      <th>95</th>\n",
       "      <td>0.96</td>\n",
       "      <td>0.0</td>\n",
       "    </tr>\n",
       "    <tr>\n",
       "      <th>96</th>\n",
       "      <td>0.97</td>\n",
       "      <td>0.0</td>\n",
       "    </tr>\n",
       "    <tr>\n",
       "      <th>97</th>\n",
       "      <td>0.98</td>\n",
       "      <td>0.0</td>\n",
       "    </tr>\n",
       "    <tr>\n",
       "      <th>98</th>\n",
       "      <td>0.99</td>\n",
       "      <td>0.0</td>\n",
       "    </tr>\n",
       "  </tbody>\n",
       "</table>\n",
       "<p>99 rows × 2 columns</p>\n",
       "</div>"
      ],
      "text/plain": [
       "    cut_off  recall\n",
       "0      0.01     1.0\n",
       "1      0.02     1.0\n",
       "2      0.03     1.0\n",
       "3      0.04     1.0\n",
       "4      0.05     1.0\n",
       "..      ...     ...\n",
       "94     0.95     0.0\n",
       "95     0.96     0.0\n",
       "96     0.97     0.0\n",
       "97     0.98     0.0\n",
       "98     0.99     0.0\n",
       "\n",
       "[99 rows x 2 columns]"
      ]
     },
     "execution_count": 203,
     "metadata": {},
     "output_type": "execute_result"
    }
   ],
   "source": [
    "list_cut_off_step = []\n",
    "list_recall = []\n",
    "\n",
    "cut_off_step = 0.01\n",
    "for i in range(1, 100, 1):\n",
    "#     print(round(cut_off_step,2))\n",
    "    list_cut_off_step.append(round(cut_off_step,2))\n",
    "    \n",
    "    recall_1 = ft_cut_off(cut_off_step, y_pred_lgb_proba)\n",
    "    list_recall.append(round(recall_1, 2))\n",
    "#     print(round(cut_off_step,2), recall_1)\n",
    "    cut_off_step += 0.01\n",
    "\n",
    "data_recall = {'cut_off': list_cut_off_step, 'recall': list_recall}\n",
    "\n",
    "df_recall = pd.DataFrame.from_dict(data_recall)\n",
    "df_recall"
   ]
  },
  {
   "cell_type": "code",
   "execution_count": 204,
   "metadata": {},
   "outputs": [
    {
     "data": {
      "text/html": [
       "<div>\n",
       "<style scoped>\n",
       "    .dataframe tbody tr th:only-of-type {\n",
       "        vertical-align: middle;\n",
       "    }\n",
       "\n",
       "    .dataframe tbody tr th {\n",
       "        vertical-align: top;\n",
       "    }\n",
       "\n",
       "    .dataframe thead th {\n",
       "        text-align: right;\n",
       "    }\n",
       "</style>\n",
       "<table border=\"1\" class=\"dataframe\">\n",
       "  <thead>\n",
       "    <tr style=\"text-align: right;\">\n",
       "      <th></th>\n",
       "      <th>cut_off</th>\n",
       "      <th>recall</th>\n",
       "    </tr>\n",
       "  </thead>\n",
       "  <tbody>\n",
       "    <tr>\n",
       "      <th>28</th>\n",
       "      <td>0.29</td>\n",
       "      <td>0.9</td>\n",
       "    </tr>\n",
       "  </tbody>\n",
       "</table>\n",
       "</div>"
      ],
      "text/plain": [
       "    cut_off  recall\n",
       "28     0.29     0.9"
      ]
     },
     "execution_count": 204,
     "metadata": {},
     "output_type": "execute_result"
    }
   ],
   "source": [
    "df_recall[(df_recall['cut_off'] <= 0.291) & (df_recall['cut_off'] >= 0.289)]"
   ]
  },
  {
   "cell_type": "code",
   "execution_count": 205,
   "metadata": {},
   "outputs": [
    {
     "data": {
      "text/html": [
       "<div>\n",
       "<style scoped>\n",
       "    .dataframe tbody tr th:only-of-type {\n",
       "        vertical-align: middle;\n",
       "    }\n",
       "\n",
       "    .dataframe tbody tr th {\n",
       "        vertical-align: top;\n",
       "    }\n",
       "\n",
       "    .dataframe thead th {\n",
       "        text-align: right;\n",
       "    }\n",
       "</style>\n",
       "<table border=\"1\" class=\"dataframe\">\n",
       "  <thead>\n",
       "    <tr style=\"text-align: right;\">\n",
       "      <th></th>\n",
       "      <th>cut_off</th>\n",
       "      <th>recall</th>\n",
       "    </tr>\n",
       "  </thead>\n",
       "  <tbody>\n",
       "    <tr>\n",
       "      <th>28</th>\n",
       "      <td>0.29</td>\n",
       "      <td>0.9</td>\n",
       "    </tr>\n",
       "    <tr>\n",
       "      <th>29</th>\n",
       "      <td>0.30</td>\n",
       "      <td>0.9</td>\n",
       "    </tr>\n",
       "  </tbody>\n",
       "</table>\n",
       "</div>"
      ],
      "text/plain": [
       "    cut_off  recall\n",
       "28     0.29     0.9\n",
       "29     0.30     0.9"
      ]
     },
     "execution_count": 205,
     "metadata": {},
     "output_type": "execute_result"
    }
   ],
   "source": [
    "df_recall[df_recall['recall'] == .9]"
   ]
  },
  {
   "cell_type": "code",
   "execution_count": 206,
   "metadata": {},
   "outputs": [
    {
     "data": {
      "text/plain": [
       "Text(0, 0.5, 'Recall')"
      ]
     },
     "execution_count": 206,
     "metadata": {},
     "output_type": "execute_result"
    },
    {
     "data": {
      "image/png": "[encoded data removed]",
      "text/plain": [
       "<Figure size 640x480 with 1 Axes>"
      ]
     },
     "metadata": {},
     "output_type": "display_data"
    }
   ],
   "source": [
    "# plt.scatter(list_cut_off, list_recall)\n",
    "plt.scatter(df_recall.cut_off, df_recall.recall)\n",
    "plt.xlabel('Cut-off values')\n",
    "plt.title('Recall vs Cut-off')\n",
    "plt.ylabel('Recall')"
   ]
  },
  {
   "cell_type": "code",
   "execution_count": 207,
   "metadata": {},
   "outputs": [
    {
     "data": {
      "text/plain": [
       "cut_off    0.29\n",
       "recall     0.90\n",
       "Name: 28, dtype: float64"
      ]
     },
     "execution_count": 207,
     "metadata": {},
     "output_type": "execute_result"
    }
   ],
   "source": [
    "df_recall.loc[28,:]"
   ]
  },
  {
   "cell_type": "code",
   "execution_count": 208,
   "metadata": {},
   "outputs": [
    {
     "data": {
      "text/plain": [
       "0.29"
      ]
     },
     "execution_count": 208,
     "metadata": {},
     "output_type": "execute_result"
    }
   ],
   "source": [
    "cut_off = 0.29\n",
    "cut_off"
   ]
  },
  {
   "cell_type": "code",
   "execution_count": 209,
   "metadata": {},
   "outputs": [],
   "source": [
    "#               precision    recall  f1-score   support\n",
    "\n",
    "#            0       0.97      0.50      0.66     56554\n",
    "#            1       0.13      0.84      0.22      4949\n",
    "\n",
    "#     accuracy                           0.53     61503\n",
    "#    macro avg       0.55      0.67      0.44     61503\n",
    "# weighted avg       0.90      0.53      0.63     61503"
   ]
  },
  {
   "cell_type": "code",
   "execution_count": 210,
   "metadata": {},
   "outputs": [],
   "source": [
    "#               precision    recall  f1-score   support\n",
    "\n",
    "#            0       0.97      0.50      0.66     56554\n",
    "#            1       0.13      0.85      0.22      4949\n",
    "\n",
    "#     accuracy                           0.53     61503\n",
    "#    macro avg       0.55      0.68      0.44     61503\n",
    "# weighted avg       0.91      0.53      0.63     61503"
   ]
  },
  {
   "cell_type": "code",
   "execution_count": 211,
   "metadata": {},
   "outputs": [
    {
     "data": {
      "text/html": [
       "<div>\n",
       "<style scoped>\n",
       "    .dataframe tbody tr th:only-of-type {\n",
       "        vertical-align: middle;\n",
       "    }\n",
       "\n",
       "    .dataframe tbody tr th {\n",
       "        vertical-align: top;\n",
       "    }\n",
       "\n",
       "    .dataframe thead th {\n",
       "        text-align: right;\n",
       "    }\n",
       "</style>\n",
       "<table border=\"1\" class=\"dataframe\">\n",
       "  <thead>\n",
       "    <tr style=\"text-align: right;\">\n",
       "      <th></th>\n",
       "      <th>pred_proba</th>\n",
       "      <th>pred cut-off: 0.29</th>\n",
       "      <th>TARGET</th>\n",
       "    </tr>\n",
       "  </thead>\n",
       "  <tbody>\n",
       "    <tr>\n",
       "      <th>0</th>\n",
       "      <td>0.602775</td>\n",
       "      <td>1</td>\n",
       "      <td>0</td>\n",
       "    </tr>\n",
       "    <tr>\n",
       "      <th>1</th>\n",
       "      <td>0.314247</td>\n",
       "      <td>1</td>\n",
       "      <td>0</td>\n",
       "    </tr>\n",
       "    <tr>\n",
       "      <th>2</th>\n",
       "      <td>0.630192</td>\n",
       "      <td>1</td>\n",
       "      <td>0</td>\n",
       "    </tr>\n",
       "    <tr>\n",
       "      <th>3</th>\n",
       "      <td>0.178411</td>\n",
       "      <td>0</td>\n",
       "      <td>0</td>\n",
       "    </tr>\n",
       "    <tr>\n",
       "      <th>4</th>\n",
       "      <td>0.346057</td>\n",
       "      <td>1</td>\n",
       "      <td>0</td>\n",
       "    </tr>\n",
       "    <tr>\n",
       "      <th>...</th>\n",
       "      <td>...</td>\n",
       "      <td>...</td>\n",
       "      <td>...</td>\n",
       "    </tr>\n",
       "    <tr>\n",
       "      <th>61498</th>\n",
       "      <td>0.498079</td>\n",
       "      <td>1</td>\n",
       "      <td>0</td>\n",
       "    </tr>\n",
       "    <tr>\n",
       "      <th>61499</th>\n",
       "      <td>0.675521</td>\n",
       "      <td>1</td>\n",
       "      <td>0</td>\n",
       "    </tr>\n",
       "    <tr>\n",
       "      <th>61500</th>\n",
       "      <td>0.194445</td>\n",
       "      <td>0</td>\n",
       "      <td>0</td>\n",
       "    </tr>\n",
       "    <tr>\n",
       "      <th>61501</th>\n",
       "      <td>0.259731</td>\n",
       "      <td>0</td>\n",
       "      <td>0</td>\n",
       "    </tr>\n",
       "    <tr>\n",
       "      <th>61502</th>\n",
       "      <td>0.391875</td>\n",
       "      <td>1</td>\n",
       "      <td>0</td>\n",
       "    </tr>\n",
       "  </tbody>\n",
       "</table>\n",
       "<p>61503 rows × 3 columns</p>\n",
       "</div>"
      ],
      "text/plain": [
       "       pred_proba  pred cut-off: 0.29  TARGET\n",
       "0        0.602775                   1       0\n",
       "1        0.314247                   1       0\n",
       "2        0.630192                   1       0\n",
       "3        0.178411                   0       0\n",
       "4        0.346057                   1       0\n",
       "...           ...                 ...     ...\n",
       "61498    0.498079                   1       0\n",
       "61499    0.675521                   1       0\n",
       "61500    0.194445                   0       0\n",
       "61501    0.259731                   0       0\n",
       "61502    0.391875                   1       0\n",
       "\n",
       "[61503 rows x 3 columns]"
      ]
     },
     "execution_count": 211,
     "metadata": {},
     "output_type": "execute_result"
    }
   ],
   "source": [
    "df_check = pd.DataFrame(y_pred_lgb_proba, columns = ['pred_proba'])\n",
    "df_check['pred cut-off: ' + str(cut_off)] = y_pred_final_lgb\n",
    "df_check['TARGET'] = y_test\n",
    "df_check"
   ]
  },
  {
   "cell_type": "code",
   "execution_count": 212,
   "metadata": {},
   "outputs": [
    {
     "data": {
      "text/html": [
       "<div>\n",
       "<style scoped>\n",
       "    .dataframe tbody tr th:only-of-type {\n",
       "        vertical-align: middle;\n",
       "    }\n",
       "\n",
       "    .dataframe tbody tr th {\n",
       "        vertical-align: top;\n",
       "    }\n",
       "\n",
       "    .dataframe thead th {\n",
       "        text-align: right;\n",
       "    }\n",
       "</style>\n",
       "<table border=\"1\" class=\"dataframe\">\n",
       "  <thead>\n",
       "    <tr style=\"text-align: right;\">\n",
       "      <th></th>\n",
       "      <th>pred_proba</th>\n",
       "      <th>pred cut-off: 0.29</th>\n",
       "      <th>TARGET</th>\n",
       "      <th>index</th>\n",
       "      <th>EXT_SOURCE_3</th>\n",
       "      <th>EXT_SOURCE_1</th>\n",
       "      <th>EXT_SOURCE_2</th>\n",
       "      <th>AMT_ANNUITY</th>\n",
       "      <th>DAYS_BIRTH</th>\n",
       "      <th>AMT_CREDIT</th>\n",
       "      <th>DAYS_LAST_PHONE_CHANGE</th>\n",
       "      <th>AMT_GOODS_PRICE</th>\n",
       "      <th>DAYS_ID_PUBLISH</th>\n",
       "      <th>DAYS_EMPLOYED</th>\n",
       "      <th>AMT_INCOME_TOTAL</th>\n",
       "      <th>OWN_CAR_AGE</th>\n",
       "    </tr>\n",
       "  </thead>\n",
       "  <tbody>\n",
       "    <tr>\n",
       "      <th>0</th>\n",
       "      <td>0.602775</td>\n",
       "      <td>1</td>\n",
       "      <td>0</td>\n",
       "      <td>245895</td>\n",
       "      <td>0.000527</td>\n",
       "      <td>0.675878</td>\n",
       "      <td>0.604894</td>\n",
       "      <td>52641.0</td>\n",
       "      <td>-13297</td>\n",
       "      <td>465457.5</td>\n",
       "      <td>-2.0</td>\n",
       "      <td>418500.0</td>\n",
       "      <td>-4307</td>\n",
       "      <td>-762</td>\n",
       "      <td>207000.0</td>\n",
       "      <td>19.0</td>\n",
       "    </tr>\n",
       "    <tr>\n",
       "      <th>1</th>\n",
       "      <td>0.314247</td>\n",
       "      <td>1</td>\n",
       "      <td>0</td>\n",
       "      <td>98194</td>\n",
       "      <td>0.712155</td>\n",
       "      <td>0.430827</td>\n",
       "      <td>0.425351</td>\n",
       "      <td>48946.5</td>\n",
       "      <td>-14778</td>\n",
       "      <td>1281712.5</td>\n",
       "      <td>-1071.0</td>\n",
       "      <td>1179000.0</td>\n",
       "      <td>-4546</td>\n",
       "      <td>-1141</td>\n",
       "      <td>247500.0</td>\n",
       "      <td>11.0</td>\n",
       "    </tr>\n",
       "    <tr>\n",
       "      <th>2</th>\n",
       "      <td>0.630192</td>\n",
       "      <td>1</td>\n",
       "      <td>0</td>\n",
       "      <td>36463</td>\n",
       "      <td>0.207964</td>\n",
       "      <td>0.527239</td>\n",
       "      <td>0.531760</td>\n",
       "      <td>39109.5</td>\n",
       "      <td>-17907</td>\n",
       "      <td>495000.0</td>\n",
       "      <td>-1435.0</td>\n",
       "      <td>495000.0</td>\n",
       "      <td>-1461</td>\n",
       "      <td>-639</td>\n",
       "      <td>202500.0</td>\n",
       "      <td>4.0</td>\n",
       "    </tr>\n",
       "    <tr>\n",
       "      <th>3</th>\n",
       "      <td>0.178411</td>\n",
       "      <td>0</td>\n",
       "      <td>0</td>\n",
       "      <td>249923</td>\n",
       "      <td>0.614414</td>\n",
       "      <td>NaN</td>\n",
       "      <td>0.693521</td>\n",
       "      <td>24939.0</td>\n",
       "      <td>-19626</td>\n",
       "      <td>254700.0</td>\n",
       "      <td>-2000.0</td>\n",
       "      <td>225000.0</td>\n",
       "      <td>-3158</td>\n",
       "      <td>-6982</td>\n",
       "      <td>247500.0</td>\n",
       "      <td>NaN</td>\n",
       "    </tr>\n",
       "    <tr>\n",
       "      <th>4</th>\n",
       "      <td>0.346057</td>\n",
       "      <td>1</td>\n",
       "      <td>0</td>\n",
       "      <td>158389</td>\n",
       "      <td>0.636376</td>\n",
       "      <td>0.654882</td>\n",
       "      <td>0.560690</td>\n",
       "      <td>15862.5</td>\n",
       "      <td>-20327</td>\n",
       "      <td>308133.0</td>\n",
       "      <td>-173.0</td>\n",
       "      <td>234000.0</td>\n",
       "      <td>-494</td>\n",
       "      <td>-1105</td>\n",
       "      <td>112500.0</td>\n",
       "      <td>NaN</td>\n",
       "    </tr>\n",
       "    <tr>\n",
       "      <th>...</th>\n",
       "      <td>...</td>\n",
       "      <td>...</td>\n",
       "      <td>...</td>\n",
       "      <td>...</td>\n",
       "      <td>...</td>\n",
       "      <td>...</td>\n",
       "      <td>...</td>\n",
       "      <td>...</td>\n",
       "      <td>...</td>\n",
       "      <td>...</td>\n",
       "      <td>...</td>\n",
       "      <td>...</td>\n",
       "      <td>...</td>\n",
       "      <td>...</td>\n",
       "      <td>...</td>\n",
       "      <td>...</td>\n",
       "    </tr>\n",
       "    <tr>\n",
       "      <th>61498</th>\n",
       "      <td>0.498079</td>\n",
       "      <td>1</td>\n",
       "      <td>0</td>\n",
       "      <td>256564</td>\n",
       "      <td>0.307737</td>\n",
       "      <td>0.581535</td>\n",
       "      <td>0.401592</td>\n",
       "      <td>45000.0</td>\n",
       "      <td>-18622</td>\n",
       "      <td>900000.0</td>\n",
       "      <td>-1638.0</td>\n",
       "      <td>900000.0</td>\n",
       "      <td>-2153</td>\n",
       "      <td>-2097</td>\n",
       "      <td>450000.0</td>\n",
       "      <td>1.0</td>\n",
       "    </tr>\n",
       "    <tr>\n",
       "      <th>61499</th>\n",
       "      <td>0.675521</td>\n",
       "      <td>1</td>\n",
       "      <td>0</td>\n",
       "      <td>278889</td>\n",
       "      <td>0.138513</td>\n",
       "      <td>0.390905</td>\n",
       "      <td>0.495743</td>\n",
       "      <td>24030.0</td>\n",
       "      <td>-12325</td>\n",
       "      <td>202500.0</td>\n",
       "      <td>-1862.0</td>\n",
       "      <td>202500.0</td>\n",
       "      <td>-4518</td>\n",
       "      <td>-187</td>\n",
       "      <td>225000.0</td>\n",
       "      <td>NaN</td>\n",
       "    </tr>\n",
       "    <tr>\n",
       "      <th>61500</th>\n",
       "      <td>0.194445</td>\n",
       "      <td>0</td>\n",
       "      <td>0</td>\n",
       "      <td>221828</td>\n",
       "      <td>0.742182</td>\n",
       "      <td>NaN</td>\n",
       "      <td>0.591947</td>\n",
       "      <td>30357.0</td>\n",
       "      <td>-23629</td>\n",
       "      <td>254700.0</td>\n",
       "      <td>-1587.0</td>\n",
       "      <td>225000.0</td>\n",
       "      <td>-4260</td>\n",
       "      <td>365243</td>\n",
       "      <td>121500.0</td>\n",
       "      <td>NaN</td>\n",
       "    </tr>\n",
       "    <tr>\n",
       "      <th>61501</th>\n",
       "      <td>0.259731</td>\n",
       "      <td>0</td>\n",
       "      <td>0</td>\n",
       "      <td>190245</td>\n",
       "      <td>0.698668</td>\n",
       "      <td>NaN</td>\n",
       "      <td>0.325968</td>\n",
       "      <td>38551.5</td>\n",
       "      <td>-17350</td>\n",
       "      <td>1314117.0</td>\n",
       "      <td>0.0</td>\n",
       "      <td>1147500.0</td>\n",
       "      <td>-854</td>\n",
       "      <td>-4118</td>\n",
       "      <td>112500.0</td>\n",
       "      <td>2.0</td>\n",
       "    </tr>\n",
       "    <tr>\n",
       "      <th>61502</th>\n",
       "      <td>0.391875</td>\n",
       "      <td>1</td>\n",
       "      <td>0</td>\n",
       "      <td>253004</td>\n",
       "      <td>0.517297</td>\n",
       "      <td>NaN</td>\n",
       "      <td>0.707611</td>\n",
       "      <td>27423.0</td>\n",
       "      <td>-18973</td>\n",
       "      <td>521280.0</td>\n",
       "      <td>-572.0</td>\n",
       "      <td>450000.0</td>\n",
       "      <td>-2532</td>\n",
       "      <td>-3289</td>\n",
       "      <td>157500.0</td>\n",
       "      <td>NaN</td>\n",
       "    </tr>\n",
       "  </tbody>\n",
       "</table>\n",
       "<p>61503 rows × 16 columns</p>\n",
       "</div>"
      ],
      "text/plain": [
       "       pred_proba  pred cut-off: 0.29  TARGET   index  EXT_SOURCE_3  \\\n",
       "0        0.602775                   1       0  245895      0.000527   \n",
       "1        0.314247                   1       0   98194      0.712155   \n",
       "2        0.630192                   1       0   36463      0.207964   \n",
       "3        0.178411                   0       0  249923      0.614414   \n",
       "4        0.346057                   1       0  158389      0.636376   \n",
       "...           ...                 ...     ...     ...           ...   \n",
       "61498    0.498079                   1       0  256564      0.307737   \n",
       "61499    0.675521                   1       0  278889      0.138513   \n",
       "61500    0.194445                   0       0  221828      0.742182   \n",
       "61501    0.259731                   0       0  190245      0.698668   \n",
       "61502    0.391875                   1       0  253004      0.517297   \n",
       "\n",
       "       EXT_SOURCE_1  EXT_SOURCE_2  AMT_ANNUITY  DAYS_BIRTH  AMT_CREDIT  \\\n",
       "0          0.675878      0.604894      52641.0      -13297    465457.5   \n",
       "1          0.430827      0.425351      48946.5      -14778   1281712.5   \n",
       "2          0.527239      0.531760      39109.5      -17907    495000.0   \n",
       "3               NaN      0.693521      24939.0      -19626    254700.0   \n",
       "4          0.654882      0.560690      15862.5      -20327    308133.0   \n",
       "...             ...           ...          ...         ...         ...   \n",
       "61498      0.581535      0.401592      45000.0      -18622    900000.0   \n",
       "61499      0.390905      0.495743      24030.0      -12325    202500.0   \n",
       "61500           NaN      0.591947      30357.0      -23629    254700.0   \n",
       "61501           NaN      0.325968      38551.5      -17350   1314117.0   \n",
       "61502           NaN      0.707611      27423.0      -18973    521280.0   \n",
       "\n",
       "       DAYS_LAST_PHONE_CHANGE  AMT_GOODS_PRICE  DAYS_ID_PUBLISH  \\\n",
       "0                        -2.0         418500.0            -4307   \n",
       "1                     -1071.0        1179000.0            -4546   \n",
       "2                     -1435.0         495000.0            -1461   \n",
       "3                     -2000.0         225000.0            -3158   \n",
       "4                      -173.0         234000.0             -494   \n",
       "...                       ...              ...              ...   \n",
       "61498                 -1638.0         900000.0            -2153   \n",
       "61499                 -1862.0         202500.0            -4518   \n",
       "61500                 -1587.0         225000.0            -4260   \n",
       "61501                     0.0        1147500.0             -854   \n",
       "61502                  -572.0         450000.0            -2532   \n",
       "\n",
       "       DAYS_EMPLOYED  AMT_INCOME_TOTAL  OWN_CAR_AGE  \n",
       "0               -762          207000.0         19.0  \n",
       "1              -1141          247500.0         11.0  \n",
       "2               -639          202500.0          4.0  \n",
       "3              -6982          247500.0          NaN  \n",
       "4              -1105          112500.0          NaN  \n",
       "...              ...               ...          ...  \n",
       "61498          -2097          450000.0          1.0  \n",
       "61499           -187          225000.0          NaN  \n",
       "61500         365243          121500.0          NaN  \n",
       "61501          -4118          112500.0          2.0  \n",
       "61502          -3289          157500.0          NaN  \n",
       "\n",
       "[61503 rows x 16 columns]"
      ]
     },
     "execution_count": 212,
     "metadata": {},
     "output_type": "execute_result"
    }
   ],
   "source": [
    "df_check = pd.concat([df_check, X_test.reset_index()], axis = 1)\n",
    "df_check"
   ]
  },
  {
   "cell_type": "code",
   "execution_count": 213,
   "metadata": {},
   "outputs": [
    {
     "data": {
      "text/html": [
       "<div>\n",
       "<style scoped>\n",
       "    .dataframe tbody tr th:only-of-type {\n",
       "        vertical-align: middle;\n",
       "    }\n",
       "\n",
       "    .dataframe tbody tr th {\n",
       "        vertical-align: top;\n",
       "    }\n",
       "\n",
       "    .dataframe thead th {\n",
       "        text-align: right;\n",
       "    }\n",
       "</style>\n",
       "<table border=\"1\" class=\"dataframe\">\n",
       "  <thead>\n",
       "    <tr style=\"text-align: right;\">\n",
       "      <th></th>\n",
       "      <th>pred_proba</th>\n",
       "      <th>pred cut-off: 0.29</th>\n",
       "      <th>TARGET</th>\n",
       "      <th>index</th>\n",
       "      <th>EXT_SOURCE_3</th>\n",
       "      <th>EXT_SOURCE_1</th>\n",
       "      <th>EXT_SOURCE_2</th>\n",
       "      <th>AMT_ANNUITY</th>\n",
       "      <th>DAYS_BIRTH</th>\n",
       "      <th>AMT_CREDIT</th>\n",
       "      <th>DAYS_LAST_PHONE_CHANGE</th>\n",
       "      <th>AMT_GOODS_PRICE</th>\n",
       "      <th>DAYS_ID_PUBLISH</th>\n",
       "      <th>DAYS_EMPLOYED</th>\n",
       "      <th>AMT_INCOME_TOTAL</th>\n",
       "      <th>OWN_CAR_AGE</th>\n",
       "    </tr>\n",
       "  </thead>\n",
       "  <tbody>\n",
       "    <tr>\n",
       "      <th>0</th>\n",
       "      <td>0.602775</td>\n",
       "      <td>1</td>\n",
       "      <td>0</td>\n",
       "      <td>245895</td>\n",
       "      <td>0.000527</td>\n",
       "      <td>0.675878</td>\n",
       "      <td>0.604894</td>\n",
       "      <td>52641.0</td>\n",
       "      <td>-13297</td>\n",
       "      <td>465457.5</td>\n",
       "      <td>-2.0</td>\n",
       "      <td>418500.0</td>\n",
       "      <td>-4307</td>\n",
       "      <td>-762</td>\n",
       "      <td>207000.0</td>\n",
       "      <td>19.0</td>\n",
       "    </tr>\n",
       "    <tr>\n",
       "      <th>1</th>\n",
       "      <td>0.314247</td>\n",
       "      <td>1</td>\n",
       "      <td>0</td>\n",
       "      <td>98194</td>\n",
       "      <td>0.712155</td>\n",
       "      <td>0.430827</td>\n",
       "      <td>0.425351</td>\n",
       "      <td>48946.5</td>\n",
       "      <td>-14778</td>\n",
       "      <td>1281712.5</td>\n",
       "      <td>-1071.0</td>\n",
       "      <td>1179000.0</td>\n",
       "      <td>-4546</td>\n",
       "      <td>-1141</td>\n",
       "      <td>247500.0</td>\n",
       "      <td>11.0</td>\n",
       "    </tr>\n",
       "    <tr>\n",
       "      <th>2</th>\n",
       "      <td>0.630192</td>\n",
       "      <td>1</td>\n",
       "      <td>0</td>\n",
       "      <td>36463</td>\n",
       "      <td>0.207964</td>\n",
       "      <td>0.527239</td>\n",
       "      <td>0.531760</td>\n",
       "      <td>39109.5</td>\n",
       "      <td>-17907</td>\n",
       "      <td>495000.0</td>\n",
       "      <td>-1435.0</td>\n",
       "      <td>495000.0</td>\n",
       "      <td>-1461</td>\n",
       "      <td>-639</td>\n",
       "      <td>202500.0</td>\n",
       "      <td>4.0</td>\n",
       "    </tr>\n",
       "    <tr>\n",
       "      <th>14</th>\n",
       "      <td>0.497050</td>\n",
       "      <td>1</td>\n",
       "      <td>0</td>\n",
       "      <td>130021</td>\n",
       "      <td>0.221335</td>\n",
       "      <td>0.369833</td>\n",
       "      <td>0.512841</td>\n",
       "      <td>28813.5</td>\n",
       "      <td>-11214</td>\n",
       "      <td>774000.0</td>\n",
       "      <td>-67.0</td>\n",
       "      <td>774000.0</td>\n",
       "      <td>-626</td>\n",
       "      <td>-831</td>\n",
       "      <td>180000.0</td>\n",
       "      <td>15.0</td>\n",
       "    </tr>\n",
       "    <tr>\n",
       "      <th>21</th>\n",
       "      <td>0.343229</td>\n",
       "      <td>1</td>\n",
       "      <td>0</td>\n",
       "      <td>42613</td>\n",
       "      <td>0.374021</td>\n",
       "      <td>0.306497</td>\n",
       "      <td>0.708189</td>\n",
       "      <td>38610.0</td>\n",
       "      <td>-9664</td>\n",
       "      <td>755190.0</td>\n",
       "      <td>-1118.0</td>\n",
       "      <td>675000.0</td>\n",
       "      <td>-2332</td>\n",
       "      <td>-817</td>\n",
       "      <td>270000.0</td>\n",
       "      <td>9.0</td>\n",
       "    </tr>\n",
       "    <tr>\n",
       "      <th>...</th>\n",
       "      <td>...</td>\n",
       "      <td>...</td>\n",
       "      <td>...</td>\n",
       "      <td>...</td>\n",
       "      <td>...</td>\n",
       "      <td>...</td>\n",
       "      <td>...</td>\n",
       "      <td>...</td>\n",
       "      <td>...</td>\n",
       "      <td>...</td>\n",
       "      <td>...</td>\n",
       "      <td>...</td>\n",
       "      <td>...</td>\n",
       "      <td>...</td>\n",
       "      <td>...</td>\n",
       "      <td>...</td>\n",
       "    </tr>\n",
       "    <tr>\n",
       "      <th>61489</th>\n",
       "      <td>0.489929</td>\n",
       "      <td>1</td>\n",
       "      <td>0</td>\n",
       "      <td>291698</td>\n",
       "      <td>0.236611</td>\n",
       "      <td>0.630821</td>\n",
       "      <td>0.689968</td>\n",
       "      <td>17167.5</td>\n",
       "      <td>-17243</td>\n",
       "      <td>314055.0</td>\n",
       "      <td>-2888.0</td>\n",
       "      <td>238500.0</td>\n",
       "      <td>-789</td>\n",
       "      <td>-1225</td>\n",
       "      <td>157500.0</td>\n",
       "      <td>14.0</td>\n",
       "    </tr>\n",
       "    <tr>\n",
       "      <th>61495</th>\n",
       "      <td>0.140898</td>\n",
       "      <td>0</td>\n",
       "      <td>0</td>\n",
       "      <td>287881</td>\n",
       "      <td>0.681706</td>\n",
       "      <td>0.383495</td>\n",
       "      <td>0.585174</td>\n",
       "      <td>54877.5</td>\n",
       "      <td>-20643</td>\n",
       "      <td>1575000.0</td>\n",
       "      <td>-2623.0</td>\n",
       "      <td>1575000.0</td>\n",
       "      <td>-4150</td>\n",
       "      <td>-6456</td>\n",
       "      <td>270000.0</td>\n",
       "      <td>10.0</td>\n",
       "    </tr>\n",
       "    <tr>\n",
       "      <th>61496</th>\n",
       "      <td>0.492720</td>\n",
       "      <td>1</td>\n",
       "      <td>1</td>\n",
       "      <td>196642</td>\n",
       "      <td>0.447179</td>\n",
       "      <td>0.470361</td>\n",
       "      <td>0.489485</td>\n",
       "      <td>26509.5</td>\n",
       "      <td>-11111</td>\n",
       "      <td>545040.0</td>\n",
       "      <td>-310.0</td>\n",
       "      <td>450000.0</td>\n",
       "      <td>-726</td>\n",
       "      <td>-574</td>\n",
       "      <td>157500.0</td>\n",
       "      <td>3.0</td>\n",
       "    </tr>\n",
       "    <tr>\n",
       "      <th>61497</th>\n",
       "      <td>0.462619</td>\n",
       "      <td>1</td>\n",
       "      <td>0</td>\n",
       "      <td>167794</td>\n",
       "      <td>0.410103</td>\n",
       "      <td>0.571886</td>\n",
       "      <td>0.560189</td>\n",
       "      <td>23089.5</td>\n",
       "      <td>-23793</td>\n",
       "      <td>521280.0</td>\n",
       "      <td>-1613.0</td>\n",
       "      <td>450000.0</td>\n",
       "      <td>-5485</td>\n",
       "      <td>365243</td>\n",
       "      <td>171000.0</td>\n",
       "      <td>20.0</td>\n",
       "    </tr>\n",
       "    <tr>\n",
       "      <th>61498</th>\n",
       "      <td>0.498079</td>\n",
       "      <td>1</td>\n",
       "      <td>0</td>\n",
       "      <td>256564</td>\n",
       "      <td>0.307737</td>\n",
       "      <td>0.581535</td>\n",
       "      <td>0.401592</td>\n",
       "      <td>45000.0</td>\n",
       "      <td>-18622</td>\n",
       "      <td>900000.0</td>\n",
       "      <td>-1638.0</td>\n",
       "      <td>900000.0</td>\n",
       "      <td>-2153</td>\n",
       "      <td>-2097</td>\n",
       "      <td>450000.0</td>\n",
       "      <td>1.0</td>\n",
       "    </tr>\n",
       "  </tbody>\n",
       "</table>\n",
       "<p>8134 rows × 16 columns</p>\n",
       "</div>"
      ],
      "text/plain": [
       "       pred_proba  pred cut-off: 0.29  TARGET   index  EXT_SOURCE_3  \\\n",
       "0        0.602775                   1       0  245895      0.000527   \n",
       "1        0.314247                   1       0   98194      0.712155   \n",
       "2        0.630192                   1       0   36463      0.207964   \n",
       "14       0.497050                   1       0  130021      0.221335   \n",
       "21       0.343229                   1       0   42613      0.374021   \n",
       "...           ...                 ...     ...     ...           ...   \n",
       "61489    0.489929                   1       0  291698      0.236611   \n",
       "61495    0.140898                   0       0  287881      0.681706   \n",
       "61496    0.492720                   1       1  196642      0.447179   \n",
       "61497    0.462619                   1       0  167794      0.410103   \n",
       "61498    0.498079                   1       0  256564      0.307737   \n",
       "\n",
       "       EXT_SOURCE_1  EXT_SOURCE_2  AMT_ANNUITY  DAYS_BIRTH  AMT_CREDIT  \\\n",
       "0          0.675878      0.604894      52641.0      -13297    465457.5   \n",
       "1          0.430827      0.425351      48946.5      -14778   1281712.5   \n",
       "2          0.527239      0.531760      39109.5      -17907    495000.0   \n",
       "14         0.369833      0.512841      28813.5      -11214    774000.0   \n",
       "21         0.306497      0.708189      38610.0       -9664    755190.0   \n",
       "...             ...           ...          ...         ...         ...   \n",
       "61489      0.630821      0.689968      17167.5      -17243    314055.0   \n",
       "61495      0.383495      0.585174      54877.5      -20643   1575000.0   \n",
       "61496      0.470361      0.489485      26509.5      -11111    545040.0   \n",
       "61497      0.571886      0.560189      23089.5      -23793    521280.0   \n",
       "61498      0.581535      0.401592      45000.0      -18622    900000.0   \n",
       "\n",
       "       DAYS_LAST_PHONE_CHANGE  AMT_GOODS_PRICE  DAYS_ID_PUBLISH  \\\n",
       "0                        -2.0         418500.0            -4307   \n",
       "1                     -1071.0        1179000.0            -4546   \n",
       "2                     -1435.0         495000.0            -1461   \n",
       "14                      -67.0         774000.0             -626   \n",
       "21                    -1118.0         675000.0            -2332   \n",
       "...                       ...              ...              ...   \n",
       "61489                 -2888.0         238500.0             -789   \n",
       "61495                 -2623.0        1575000.0            -4150   \n",
       "61496                  -310.0         450000.0             -726   \n",
       "61497                 -1613.0         450000.0            -5485   \n",
       "61498                 -1638.0         900000.0            -2153   \n",
       "\n",
       "       DAYS_EMPLOYED  AMT_INCOME_TOTAL  OWN_CAR_AGE  \n",
       "0               -762          207000.0         19.0  \n",
       "1              -1141          247500.0         11.0  \n",
       "2               -639          202500.0          4.0  \n",
       "14              -831          180000.0         15.0  \n",
       "21              -817          270000.0          9.0  \n",
       "...              ...               ...          ...  \n",
       "61489          -1225          157500.0         14.0  \n",
       "61495          -6456          270000.0         10.0  \n",
       "61496           -574          157500.0          3.0  \n",
       "61497         365243          171000.0         20.0  \n",
       "61498          -2097          450000.0          1.0  \n",
       "\n",
       "[8134 rows x 16 columns]"
      ]
     },
     "execution_count": 213,
     "metadata": {},
     "output_type": "execute_result"
    }
   ],
   "source": [
    "# df_check = df_check[['TARGET','pred_proba','pred cut-off: 0.29','EXT_SOURCE_3','EXT_SOURCE_1','EXT_SOURCE_2','AMT_ANNUITY','DAYS_BIRTH',\n",
    "#                              'AMT_CREDIT','DAYS_LAST_PHONE_CHANGE','AMT_GOODS_PRICE','DAYS_ID_PUBLISH',\n",
    "#                              'DAYS_EMPLOYED','AMT_INCOME_TOTAL','OWN_CAR_AGE']]\n",
    "df_check = df_check.dropna()\n",
    "df_check"
   ]
  },
  {
   "cell_type": "markdown",
   "metadata": {},
   "source": [
    "## Exemple credit ACCEPTE : 0"
   ]
  },
  {
   "cell_type": "code",
   "execution_count": 214,
   "metadata": {},
   "outputs": [
    {
     "data": {
      "text/plain": [
       "pred_proba                     0.602775\n",
       "pred cut-off: 0.29             1.000000\n",
       "TARGET                         0.000000\n",
       "index                     245895.000000\n",
       "EXT_SOURCE_3                   0.000527\n",
       "EXT_SOURCE_1                   0.675878\n",
       "EXT_SOURCE_2                   0.604894\n",
       "AMT_ANNUITY                52641.000000\n",
       "DAYS_BIRTH                -13297.000000\n",
       "AMT_CREDIT                465457.500000\n",
       "DAYS_LAST_PHONE_CHANGE        -2.000000\n",
       "AMT_GOODS_PRICE           418500.000000\n",
       "DAYS_ID_PUBLISH            -4307.000000\n",
       "DAYS_EMPLOYED               -762.000000\n",
       "AMT_INCOME_TOTAL          207000.000000\n",
       "OWN_CAR_AGE                   19.000000\n",
       "Name: 0, dtype: float64"
      ]
     },
     "execution_count": 214,
     "metadata": {},
     "output_type": "execute_result"
    }
   ],
   "source": [
    "df_check[df_check['TARGET'] == 0].loc[0,:]"
   ]
  },
  {
   "cell_type": "markdown",
   "metadata": {},
   "source": [
    "## Exemple credit REFUSE : 1"
   ]
  },
  {
   "cell_type": "code",
   "execution_count": 215,
   "metadata": {},
   "outputs": [
    {
     "data": {
      "text/plain": [
       "pred_proba                3.461309e-01\n",
       "pred cut-off: 0.29        1.000000e+00\n",
       "TARGET                    1.000000e+00\n",
       "index                     1.439160e+05\n",
       "EXT_SOURCE_3              7.151031e-01\n",
       "EXT_SOURCE_1              2.453906e-01\n",
       "EXT_SOURCE_2              6.009103e-01\n",
       "AMT_ANNUITY               4.863150e+04\n",
       "DAYS_BIRTH               -1.097300e+04\n",
       "AMT_CREDIT                1.223010e+06\n",
       "DAYS_LAST_PHONE_CHANGE    0.000000e+00\n",
       "AMT_GOODS_PRICE           1.125000e+06\n",
       "DAYS_ID_PUBLISH          -2.970000e+03\n",
       "DAYS_EMPLOYED            -1.940000e+02\n",
       "AMT_INCOME_TOTAL          2.250000e+05\n",
       "OWN_CAR_AGE               1.000000e+00\n",
       "Name: 83, dtype: float64"
      ]
     },
     "execution_count": 215,
     "metadata": {},
     "output_type": "execute_result"
    }
   ],
   "source": [
    "df_check[df_check['TARGET'] == 1].loc[83,:]"
   ]
  },
  {
   "cell_type": "code",
   "execution_count": 216,
   "metadata": {},
   "outputs": [
    {
     "data": {
      "text/plain": [
       "pred_proba                     0.724483\n",
       "pred cut-off: 0.29             1.000000\n",
       "TARGET                         1.000000\n",
       "index                     112587.000000\n",
       "EXT_SOURCE_3                   0.130947\n",
       "EXT_SOURCE_1                   0.048507\n",
       "EXT_SOURCE_2                   0.472275\n",
       "AMT_ANNUITY                 6750.000000\n",
       "DAYS_BIRTH                -14186.000000\n",
       "AMT_CREDIT                135000.000000\n",
       "DAYS_LAST_PHONE_CHANGE      -576.000000\n",
       "AMT_GOODS_PRICE           135000.000000\n",
       "DAYS_ID_PUBLISH            -5024.000000\n",
       "DAYS_EMPLOYED              -1614.000000\n",
       "AMT_INCOME_TOTAL           63000.000000\n",
       "OWN_CAR_AGE                   14.000000\n",
       "Name: 61063, dtype: float64"
      ]
     },
     "execution_count": 216,
     "metadata": {},
     "output_type": "execute_result"
    }
   ],
   "source": [
    "df_check[df_check['TARGET'] == 1].loc[61063,:]\n"
   ]
  },
  {
   "cell_type": "markdown",
   "metadata": {},
   "source": [
    "## Sauvegarde prediction modele TEST dataset - Kaggle submission"
   ]
  },
  {
   "cell_type": "code",
   "execution_count": 217,
   "metadata": {},
   "outputs": [],
   "source": [
    "test_id = test['SK_ID_CURR']\n",
    "preds = lgbm_model.predict_proba(X_t)[:, 1]\n",
    "# preds = model.predict(X_t)\n",
    "sub_lgb = pd.DataFrame()\n",
    "sub_lgb['SK_ID_CURR'] = test_id"
   ]
  },
  {
   "cell_type": "code",
   "execution_count": 218,
   "metadata": {},
   "outputs": [
    {
     "data": {
      "text/html": [
       "<div>\n",
       "<style scoped>\n",
       "    .dataframe tbody tr th:only-of-type {\n",
       "        vertical-align: middle;\n",
       "    }\n",
       "\n",
       "    .dataframe tbody tr th {\n",
       "        vertical-align: top;\n",
       "    }\n",
       "\n",
       "    .dataframe thead th {\n",
       "        text-align: right;\n",
       "    }\n",
       "</style>\n",
       "<table border=\"1\" class=\"dataframe\">\n",
       "  <thead>\n",
       "    <tr style=\"text-align: right;\">\n",
       "      <th></th>\n",
       "      <th>SK_ID_CURR</th>\n",
       "      <th>TARGET</th>\n",
       "    </tr>\n",
       "  </thead>\n",
       "  <tbody>\n",
       "    <tr>\n",
       "      <th>0</th>\n",
       "      <td>100001</td>\n",
       "      <td>0.320176</td>\n",
       "    </tr>\n",
       "    <tr>\n",
       "      <th>1</th>\n",
       "      <td>100005</td>\n",
       "      <td>0.521012</td>\n",
       "    </tr>\n",
       "    <tr>\n",
       "      <th>2</th>\n",
       "      <td>100013</td>\n",
       "      <td>0.162472</td>\n",
       "    </tr>\n",
       "    <tr>\n",
       "      <th>3</th>\n",
       "      <td>100028</td>\n",
       "      <td>0.221963</td>\n",
       "    </tr>\n",
       "    <tr>\n",
       "      <th>4</th>\n",
       "      <td>100038</td>\n",
       "      <td>0.635377</td>\n",
       "    </tr>\n",
       "  </tbody>\n",
       "</table>\n",
       "</div>"
      ],
      "text/plain": [
       "   SK_ID_CURR    TARGET\n",
       "0      100001  0.320176\n",
       "1      100005  0.521012\n",
       "2      100013  0.162472\n",
       "3      100028  0.221963\n",
       "4      100038  0.635377"
      ]
     },
     "execution_count": 218,
     "metadata": {},
     "output_type": "execute_result"
    }
   ],
   "source": [
    "sub_lgb['TARGET'] = preds\n",
    "sub_lgb.to_csv(\"20220221_lgbm_12feats_late_submission_testJM.csv\", index=False)\n",
    "sub_lgb.head()"
   ]
  },
  {
   "cell_type": "markdown",
   "metadata": {},
   "source": [
    "### Importance des features"
   ]
  },
  {
   "cell_type": "code",
   "execution_count": 219,
   "metadata": {},
   "outputs": [
    {
     "data": {
      "text/html": [
       "<div>\n",
       "<style scoped>\n",
       "    .dataframe tbody tr th:only-of-type {\n",
       "        vertical-align: middle;\n",
       "    }\n",
       "\n",
       "    .dataframe tbody tr th {\n",
       "        vertical-align: top;\n",
       "    }\n",
       "\n",
       "    .dataframe thead th {\n",
       "        text-align: right;\n",
       "    }\n",
       "</style>\n",
       "<table border=\"1\" class=\"dataframe\">\n",
       "  <thead>\n",
       "    <tr style=\"text-align: right;\">\n",
       "      <th></th>\n",
       "      <th>Feature importance</th>\n",
       "      <th>Feature</th>\n",
       "    </tr>\n",
       "  </thead>\n",
       "  <tbody>\n",
       "    <tr>\n",
       "      <th>0</th>\n",
       "      <td>1950</td>\n",
       "      <td>EXT_SOURCE_3</td>\n",
       "    </tr>\n",
       "    <tr>\n",
       "      <th>1</th>\n",
       "      <td>1855</td>\n",
       "      <td>EXT_SOURCE_1</td>\n",
       "    </tr>\n",
       "    <tr>\n",
       "      <th>2</th>\n",
       "      <td>1695</td>\n",
       "      <td>EXT_SOURCE_2</td>\n",
       "    </tr>\n",
       "    <tr>\n",
       "      <th>3</th>\n",
       "      <td>1676</td>\n",
       "      <td>AMT_ANNUITY</td>\n",
       "    </tr>\n",
       "    <tr>\n",
       "      <th>4</th>\n",
       "      <td>1528</td>\n",
       "      <td>DAYS_BIRTH</td>\n",
       "    </tr>\n",
       "    <tr>\n",
       "      <th>5</th>\n",
       "      <td>1505</td>\n",
       "      <td>AMT_CREDIT</td>\n",
       "    </tr>\n",
       "    <tr>\n",
       "      <th>6</th>\n",
       "      <td>1369</td>\n",
       "      <td>DAYS_LAST_PHONE_CHANGE</td>\n",
       "    </tr>\n",
       "    <tr>\n",
       "      <th>7</th>\n",
       "      <td>1288</td>\n",
       "      <td>AMT_GOODS_PRICE</td>\n",
       "    </tr>\n",
       "    <tr>\n",
       "      <th>8</th>\n",
       "      <td>1183</td>\n",
       "      <td>DAYS_ID_PUBLISH</td>\n",
       "    </tr>\n",
       "    <tr>\n",
       "      <th>9</th>\n",
       "      <td>1154</td>\n",
       "      <td>DAYS_EMPLOYED</td>\n",
       "    </tr>\n",
       "    <tr>\n",
       "      <th>10</th>\n",
       "      <td>972</td>\n",
       "      <td>AMT_INCOME_TOTAL</td>\n",
       "    </tr>\n",
       "    <tr>\n",
       "      <th>11</th>\n",
       "      <td>876</td>\n",
       "      <td>OWN_CAR_AGE</td>\n",
       "    </tr>\n",
       "  </tbody>\n",
       "</table>\n",
       "</div>"
      ],
      "text/plain": [
       "    Feature importance                 Feature\n",
       "0                 1950            EXT_SOURCE_3\n",
       "1                 1855            EXT_SOURCE_1\n",
       "2                 1695            EXT_SOURCE_2\n",
       "3                 1676             AMT_ANNUITY\n",
       "4                 1528              DAYS_BIRTH\n",
       "5                 1505              AMT_CREDIT\n",
       "6                 1369  DAYS_LAST_PHONE_CHANGE\n",
       "7                 1288         AMT_GOODS_PRICE\n",
       "8                 1183         DAYS_ID_PUBLISH\n",
       "9                 1154           DAYS_EMPLOYED\n",
       "10                 972        AMT_INCOME_TOTAL\n",
       "11                 876             OWN_CAR_AGE"
      ]
     },
     "execution_count": 219,
     "metadata": {},
     "output_type": "execute_result"
    }
   ],
   "source": [
    "feature_imp = pd.DataFrame({'Feature importance':lgbm_model.feature_importances_,'Feature':X_all.columns}).sort_values('Feature importance', ascending=False).reset_index(drop=True)\n",
    "feature_imp"
   ]
  },
  {
   "cell_type": "code",
   "execution_count": 220,
   "metadata": {},
   "outputs": [
    {
     "data": {
      "text/html": [
       "<div>\n",
       "<style scoped>\n",
       "    .dataframe tbody tr th:only-of-type {\n",
       "        vertical-align: middle;\n",
       "    }\n",
       "\n",
       "    .dataframe tbody tr th {\n",
       "        vertical-align: top;\n",
       "    }\n",
       "\n",
       "    .dataframe thead th {\n",
       "        text-align: right;\n",
       "    }\n",
       "</style>\n",
       "<table border=\"1\" class=\"dataframe\">\n",
       "  <thead>\n",
       "    <tr style=\"text-align: right;\">\n",
       "      <th></th>\n",
       "      <th>Feature importance</th>\n",
       "      <th>Feature</th>\n",
       "    </tr>\n",
       "  </thead>\n",
       "  <tbody>\n",
       "    <tr>\n",
       "      <th>0</th>\n",
       "      <td>1950</td>\n",
       "      <td>EXT_SOURCE_3</td>\n",
       "    </tr>\n",
       "    <tr>\n",
       "      <th>1</th>\n",
       "      <td>1855</td>\n",
       "      <td>EXT_SOURCE_1</td>\n",
       "    </tr>\n",
       "    <tr>\n",
       "      <th>2</th>\n",
       "      <td>1695</td>\n",
       "      <td>EXT_SOURCE_2</td>\n",
       "    </tr>\n",
       "    <tr>\n",
       "      <th>3</th>\n",
       "      <td>1676</td>\n",
       "      <td>AMT_ANNUITY</td>\n",
       "    </tr>\n",
       "    <tr>\n",
       "      <th>4</th>\n",
       "      <td>1528</td>\n",
       "      <td>DAYS_BIRTH</td>\n",
       "    </tr>\n",
       "    <tr>\n",
       "      <th>5</th>\n",
       "      <td>1505</td>\n",
       "      <td>AMT_CREDIT</td>\n",
       "    </tr>\n",
       "    <tr>\n",
       "      <th>6</th>\n",
       "      <td>1369</td>\n",
       "      <td>DAYS_LAST_PHONE_CHANGE</td>\n",
       "    </tr>\n",
       "    <tr>\n",
       "      <th>7</th>\n",
       "      <td>1288</td>\n",
       "      <td>AMT_GOODS_PRICE</td>\n",
       "    </tr>\n",
       "    <tr>\n",
       "      <th>8</th>\n",
       "      <td>1183</td>\n",
       "      <td>DAYS_ID_PUBLISH</td>\n",
       "    </tr>\n",
       "    <tr>\n",
       "      <th>9</th>\n",
       "      <td>1154</td>\n",
       "      <td>DAYS_EMPLOYED</td>\n",
       "    </tr>\n",
       "    <tr>\n",
       "      <th>10</th>\n",
       "      <td>972</td>\n",
       "      <td>AMT_INCOME_TOTAL</td>\n",
       "    </tr>\n",
       "    <tr>\n",
       "      <th>11</th>\n",
       "      <td>876</td>\n",
       "      <td>OWN_CAR_AGE</td>\n",
       "    </tr>\n",
       "  </tbody>\n",
       "</table>\n",
       "</div>"
      ],
      "text/plain": [
       "    Feature importance                 Feature\n",
       "0                 1950            EXT_SOURCE_3\n",
       "1                 1855            EXT_SOURCE_1\n",
       "2                 1695            EXT_SOURCE_2\n",
       "3                 1676             AMT_ANNUITY\n",
       "4                 1528              DAYS_BIRTH\n",
       "5                 1505              AMT_CREDIT\n",
       "6                 1369  DAYS_LAST_PHONE_CHANGE\n",
       "7                 1288         AMT_GOODS_PRICE\n",
       "8                 1183         DAYS_ID_PUBLISH\n",
       "9                 1154           DAYS_EMPLOYED\n",
       "10                 972        AMT_INCOME_TOTAL\n",
       "11                 876             OWN_CAR_AGE"
      ]
     },
     "execution_count": 220,
     "metadata": {},
     "output_type": "execute_result"
    }
   ],
   "source": [
    "feature_imp[:12]"
   ]
  },
  {
   "cell_type": "code",
   "execution_count": 221,
   "metadata": {},
   "outputs": [
    {
     "data": {
      "text/plain": [
       "['EXT_SOURCE_3',\n",
       " 'EXT_SOURCE_1',\n",
       " 'EXT_SOURCE_2',\n",
       " 'AMT_ANNUITY',\n",
       " 'DAYS_BIRTH',\n",
       " 'AMT_CREDIT',\n",
       " 'DAYS_LAST_PHONE_CHANGE',\n",
       " 'AMT_GOODS_PRICE',\n",
       " 'DAYS_ID_PUBLISH',\n",
       " 'DAYS_EMPLOYED',\n",
       " 'AMT_INCOME_TOTAL',\n",
       " 'OWN_CAR_AGE']"
      ]
     },
     "execution_count": 221,
     "metadata": {},
     "output_type": "execute_result"
    }
   ],
   "source": [
    "list_selected_feats = list(feature_imp['Feature'][:12])\n",
    "list_selected_feats"
   ]
  },
  {
   "cell_type": "code",
   "execution_count": 222,
   "metadata": {},
   "outputs": [
    {
     "ename": "NameError",
     "evalue": "name 'lgb' is not defined",
     "output_type": "error",
     "traceback": [
      "\u001b[0;31m---------------------------------------------------------------------------\u001b[0m",
      "\u001b[0;31mNameError\u001b[0m                                 Traceback (most recent call last)",
      "\u001b[0;32m<ipython-input-222-b96eb55f2cd3>\u001b[0m in \u001b[0;36m<module>\u001b[0;34m\u001b[0m\n\u001b[0;32m----> 1\u001b[0;31m \u001b[0mlgb\u001b[0m\u001b[0;34m.\u001b[0m\u001b[0mplot_importance\u001b[0m\u001b[0;34m(\u001b[0m\u001b[0mlgbm_model\u001b[0m\u001b[0;34m,\u001b[0m \u001b[0mfigsize\u001b[0m\u001b[0;34m=\u001b[0m\u001b[0;34m(\u001b[0m\u001b[0;36m12\u001b[0m\u001b[0;34m,\u001b[0m \u001b[0;36m25\u001b[0m\u001b[0;34m)\u001b[0m\u001b[0;34m,\u001b[0m \u001b[0mmax_num_features\u001b[0m\u001b[0;34m=\u001b[0m\u001b[0;36m100\u001b[0m\u001b[0;34m)\u001b[0m\u001b[0;34m;\u001b[0m\u001b[0;34m\u001b[0m\u001b[0;34m\u001b[0m\u001b[0m\n\u001b[0m",
      "\u001b[0;31mNameError\u001b[0m: name 'lgb' is not defined"
     ]
    }
   ],
   "source": [
    "lgb.plot_importance(lgbm_model, figsize=(12, 25), max_num_features=100);"
   ]
  },
  {
   "cell_type": "code",
   "execution_count": null,
   "metadata": {},
   "outputs": [],
   "source": [
    "lgbm_model.feature_name_"
   ]
  },
  {
   "cell_type": "code",
   "execution_count": null,
   "metadata": {},
   "outputs": [],
   "source": [
    "df_stats_X_all = X_all.describe().loc[['mean', 'min', '25%', '50%', '75%', 'max'],:].copy(deep=True)\n",
    "df_stats_X_all = df_stats_X_all.reset_index(drop=True)\n",
    "# df_stats_X_all.reset_index()\n",
    "df_stats_X_all"
   ]
  },
  {
   "cell_type": "code",
   "execution_count": null,
   "metadata": {},
   "outputs": [],
   "source": [
    "X_all.describe().loc['50%',:]"
   ]
  },
  {
   "cell_type": "code",
   "execution_count": null,
   "metadata": {},
   "outputs": [],
   "source": [
    "X_all.describe().loc['mean',:]"
   ]
  },
  {
   "cell_type": "code",
   "execution_count": null,
   "metadata": {},
   "outputs": [],
   "source": [
    "X_all.loc[0,:]"
   ]
  },
  {
   "cell_type": "code",
   "execution_count": null,
   "metadata": {},
   "outputs": [],
   "source": [
    "X_all.shape"
   ]
  },
  {
   "cell_type": "code",
   "execution_count": null,
   "metadata": {},
   "outputs": [],
   "source": [
    "df_stats_X_all"
   ]
  },
  {
   "cell_type": "code",
   "execution_count": null,
   "metadata": {},
   "outputs": [],
   "source": [
    "y_pred_lgb_proba_mean = lgbm_model.predict_proba(df_stats_X_all)[:, 1]\n",
    "y_pred_lgb_proba_mean"
   ]
  },
  {
   "cell_type": "code",
   "execution_count": null,
   "metadata": {},
   "outputs": [],
   "source": [
    "list(X_all.describe().index)"
   ]
  },
  {
   "cell_type": "code",
   "execution_count": null,
   "metadata": {},
   "outputs": [],
   "source": [
    "df_pred = pd.DataFrame(y_pred_lgb_proba_mean, index = list(X_all.describe().loc[['mean', 'min', '25%', '50%', '75%', 'max'],:].index), columns = ['Prediction'])\n",
    "df_pred"
   ]
  },
  {
   "cell_type": "code",
   "execution_count": null,
   "metadata": {},
   "outputs": [],
   "source": [
    "data_sample = df_stats_X_all.loc[:0,:]\n",
    "data_sample.values[0]"
   ]
  },
  {
   "cell_type": "code",
   "execution_count": null,
   "metadata": {},
   "outputs": [],
   "source": [
    "data_sample"
   ]
  },
  {
   "cell_type": "code",
   "execution_count": null,
   "metadata": {},
   "outputs": [],
   "source": [
    "\n",
    "input_data_example = dict(zip(list_selected_feats, list(data_sample.values[0])))\n",
    "input_data_example"
   ]
  },
  {
   "cell_type": "code",
   "execution_count": null,
   "metadata": {},
   "outputs": [],
   "source": [
    "sample_json = input_data_example"
   ]
  },
  {
   "cell_type": "code",
   "execution_count": null,
   "metadata": {},
   "outputs": [],
   "source": [
    "#     EXT_SOURCE_3 = sample_json['EXT_SOURCE_3']\n",
    "#     EXT_SOURCE_1 = sample_json['EXT_SOURCE_1']\n",
    "#     EXT_SOURCE_2 = sample_json['EXT_SOURCE_2']\n",
    "#     AMT_ANNUITY = sample_json['AMT_ANNUITY']\n",
    "    \n",
    "#     DAYS_BIRTH = sample_json['DAYS_BIRTH']\n",
    "#     AMT_CREDIT = sample_json['AMT_CREDIT']\n",
    "#     DAYS_LAST_PHONE_CHANGE = sample_json['DAYS_LAST_PHONE_CHANGE']\n",
    "#     AMT_GOODS_PRICE = sample_json['AMT_GOODS_PRICE']\n",
    "    \n",
    "#     DAYS_ID_PUBLISH = sample_json['DAYS_ID_PUBLISH']\n",
    "#     DAYS_EMPLOYED = sample_json['DAYS_EMPLOYED']\n",
    "#     AMT_INCOME_TOTAL = sample_json['AMT_INCOME_TOTAL']\n",
    "#     OWN_CAR_AGE = sample_json['OWN_CAR_AGE']\n",
    "    \n",
    "#     credit_info = [[EXT_SOURCE_3, EXT_SOURCE_1, EXT_SOURCE_2, AMT_ANNUITY,\n",
    "#                     DAYS_BIRTH, AMT_CREDIT, DAYS_LAST_PHONE_CHANGE, AMT_GOODS_PRICE,\n",
    "#                     DAYS_ID_PUBLISH, DAYS_EMPLOYED, AMT_INCOME_TOTAL, OWN_CAR_AGE]]"
   ]
  },
  {
   "cell_type": "code",
   "execution_count": null,
   "metadata": {},
   "outputs": [],
   "source": [
    "return_prediction(lgbm_model,sample_json, 0.29)"
   ]
  },
  {
   "cell_type": "code",
   "execution_count": null,
   "metadata": {},
   "outputs": [],
   "source": [
    "sample_json"
   ]
  },
  {
   "cell_type": "code",
   "execution_count": null,
   "metadata": {},
   "outputs": [],
   "source": [
    "df_check['Good_pred'] = (df_check['TARGET'] == df_check['pred cut-off: 0.29'])\n",
    "df_check"
   ]
  },
  {
   "cell_type": "code",
   "execution_count": null,
   "metadata": {},
   "outputs": [],
   "source": [
    "df_check_good = df_check[df_check['Good_pred'] == True].copy(deep=True)\n",
    "df_check_good"
   ]
  },
  {
   "cell_type": "markdown",
   "metadata": {},
   "source": [
    "# Exemple REJECTED : 1"
   ]
  },
  {
   "cell_type": "code",
   "execution_count": null,
   "metadata": {},
   "outputs": [],
   "source": [
    "['EXT_SOURCE_3','EXT_SOURCE_1','EXT_SOURCE_2','AMT_ANNUITY','DAYS_BIRTH',\n",
    "                    'AMT_CREDIT','DAYS_LAST_PHONE_CHANGE','AMT_GOODS_PRICE','DAYS_ID_PUBLISH',\n",
    "                    'DAYS_EMPLOYED','AMT_INCOME_TOTAL','OWN_CAR_AGE']"
   ]
  },
  {
   "cell_type": "code",
   "execution_count": null,
   "metadata": {},
   "outputs": [],
   "source": [
    "df_check_good[df_check_good['TARGET'] == 1]"
   ]
  },
  {
   "cell_type": "code",
   "execution_count": null,
   "metadata": {},
   "outputs": [],
   "source": [
    "df_check_good[df_check_good['TARGET'] == 1].loc[61063,:]"
   ]
  },
  {
   "cell_type": "code",
   "execution_count": null,
   "metadata": {},
   "outputs": [],
   "source": [
    "input_sample_rejected_json = dict(zip(list(df_check_good[df_check_good['TARGET'] == 1].loc[61063,'EXT_SOURCE_3':'OWN_CAR_AGE'].index), \n",
    "                                      list(df_check_good[df_check_good['TARGET'] == 1].loc[61063,'EXT_SOURCE_3':'OWN_CAR_AGE'].values)))\n",
    "input_sample_rejected_json"
   ]
  },
  {
   "cell_type": "code",
   "execution_count": null,
   "metadata": {},
   "outputs": [],
   "source": [
    "return_prediction(lgbm_model,input_sample_rejected_json, 0.29)"
   ]
  },
  {
   "cell_type": "markdown",
   "metadata": {},
   "source": [
    "# Exemple ACCEPTED : 0"
   ]
  },
  {
   "cell_type": "code",
   "execution_count": null,
   "metadata": {},
   "outputs": [],
   "source": [
    "df_check_good[df_check_good['TARGET'] == 0].loc[33,:]"
   ]
  },
  {
   "cell_type": "code",
   "execution_count": null,
   "metadata": {},
   "outputs": [],
   "source": [
    "input_sample_accepted_json = dict(zip(list(df_check[df_check['TARGET'] == 0].loc[33,'EXT_SOURCE_3':'OWN_CAR_AGE'].index), \n",
    "                                      list(df_check[df_check['TARGET'] == 0].loc[33,'EXT_SOURCE_3':'OWN_CAR_AGE'].values)))\n",
    "input_sample_accepted_json"
   ]
  },
  {
   "cell_type": "code",
   "execution_count": null,
   "metadata": {},
   "outputs": [],
   "source": [
    "return_prediction(lgbm_model,input_sample_accepted_json, 0.29)"
   ]
  },
  {
   "cell_type": "markdown",
   "metadata": {},
   "source": [
    "## Sauvergarde modele pre-entraine (seulement sur train... mais a reentrainer sur dataset complet)"
   ]
  },
  {
   "cell_type": "code",
   "execution_count": null,
   "metadata": {},
   "outputs": [],
   "source": [
    "# Xy_all = data.loc[:, (data.columns != 'TARGET') & (data.columns != 'SK_ID_CURR') \n",
    "#                      & (data.columns != 'SK_ID_PREV')]\n",
    "# X_all.shape"
   ]
  },
  {
   "cell_type": "code",
   "execution_count": null,
   "metadata": {},
   "outputs": [],
   "source": [
    "X_all"
   ]
  },
  {
   "cell_type": "code",
   "execution_count": null,
   "metadata": {},
   "outputs": [],
   "source": [
    "df_y_all = pd.DataFrame(y_all, columns = ['TARGET'])\n",
    "df_y_all"
   ]
  },
  {
   "cell_type": "code",
   "execution_count": null,
   "metadata": {},
   "outputs": [],
   "source": [
    "Xy_all = pd.concat([df_y_all, X_all], axis=1)\n",
    "Xy_all"
   ]
  },
  {
   "cell_type": "code",
   "execution_count": null,
   "metadata": {},
   "outputs": [],
   "source": [
    "Xy_all_no_nan = Xy_all.dropna()\n",
    "Xy_all_no_nan"
   ]
  },
  {
   "cell_type": "code",
   "execution_count": null,
   "metadata": {},
   "outputs": [],
   "source": [
    "X_all_no_nan = Xy_all_no_nan.loc[:, (Xy_all_no_nan.columns != 'TARGET')]\n",
    "\n",
    "y_all_no_nan = Xy_all_no_nan.loc[:, (Xy_all_no_nan.columns == 'TARGET')]\n",
    "y_all_no_nan.shape\n",
    "\n",
    "X_all_no_nan.shape, y_all_no_nan.shape"
   ]
  },
  {
   "cell_type": "code",
   "execution_count": null,
   "metadata": {},
   "outputs": [],
   "source": [
    "lgbm_model_params = X_t.columns\n",
    "lgbm_model_params\n"
   ]
  },
  {
   "cell_type": "markdown",
   "metadata": {},
   "source": [
    "## Sauvegarde fichier"
   ]
  },
  {
   "cell_type": "code",
   "execution_count": null,
   "metadata": {},
   "outputs": [],
   "source": [
    "with open('model_lgbm_12var.pkl', 'wb') as outp:\n",
    "#     my_model_save = (model, pred, my_best_params, my_best_score)\n",
    "    my_model_save = (lgbm_model, list(lgbm_model_params), X_all_no_nan, y_all_no_nan, df_recall)\n",
    "    pickle.dump(my_model_save, outp, pickle.HIGHEST_PROTOCOL)\n",
    "my_model_save"
   ]
  },
  {
   "cell_type": "markdown",
   "metadata": {},
   "source": [
    "### Test d'import du modele"
   ]
  },
  {
   "cell_type": "code",
   "execution_count": null,
   "metadata": {},
   "outputs": [],
   "source": [
    "del my_model_save"
   ]
  },
  {
   "cell_type": "code",
   "execution_count": null,
   "metadata": {},
   "outputs": [],
   "source": [
    "with open('model_lgbm_12var.pkl', 'rb') as inp:\n",
    "    my_model_load = pickle.load(inp)"
   ]
  },
  {
   "cell_type": "code",
   "execution_count": null,
   "metadata": {},
   "outputs": [],
   "source": [
    "model = my_model_load[0]\n",
    "model_params = my_model_load[1]\n",
    "X_all_no_nan = my_model_load[2]\n",
    "y_all_no_nan = my_model_load[3]\n",
    "df_recall = my_model_load[4]"
   ]
  },
  {
   "cell_type": "code",
   "execution_count": null,
   "metadata": {
    "scrolled": true
   },
   "outputs": [],
   "source": [
    "model, model_params\n"
   ]
  },
  {
   "cell_type": "code",
   "execution_count": null,
   "metadata": {},
   "outputs": [],
   "source": [
    "X_all_no_nan.shape, y_all_no_nan.shape"
   ]
  },
  {
   "cell_type": "code",
   "execution_count": null,
   "metadata": {},
   "outputs": [],
   "source": [
    "df_recall"
   ]
  },
  {
   "cell_type": "code",
   "execution_count": null,
   "metadata": {},
   "outputs": [],
   "source": [
    "list_cut_off_input = list(df_recall.cut_off.values)\n",
    "list_cut_off_input[:10]"
   ]
  },
  {
   "cell_type": "code",
   "execution_count": null,
   "metadata": {},
   "outputs": [],
   "source": [
    "list_recall_input = list(df_recall.recall.values)\n",
    "list_recall_input[:10]"
   ]
  },
  {
   "cell_type": "code",
   "execution_count": null,
   "metadata": {},
   "outputs": [],
   "source": [
    "selected_param = model_params[4]\n",
    "selected_param"
   ]
  },
  {
   "cell_type": "code",
   "execution_count": null,
   "metadata": {},
   "outputs": [],
   "source": [
    "index_param = model_params.index(selected_param)\n",
    "index_param"
   ]
  },
  {
   "cell_type": "code",
   "execution_count": null,
   "metadata": {},
   "outputs": [],
   "source": [
    "round(0.123456,2)"
   ]
  },
  {
   "cell_type": "code",
   "execution_count": null,
   "metadata": {},
   "outputs": [],
   "source": [
    "list_cut_off_input = [0.01, 0.02, 0.03, 0.04, 0.05, 0.06, 0.07, 0.08, 0.09, 0.1 , 0.11,\n",
    "\t\t\t0.12, 0.13, 0.14, 0.15, 0.16, 0.17, 0.18, 0.19, 0.2 , 0.21, 0.22,\n",
    "\t\t\t0.23, 0.24, 0.25, 0.26, 0.27, 0.28, 0.29, 0.3 , 0.31, 0.32, 0.33,\n",
    "\t\t\t0.34, 0.35, 0.36, 0.37, 0.38, 0.39, 0.4 , 0.41, 0.42, 0.43, 0.44,\n",
    "\t\t\t0.45, 0.46, 0.47, 0.48, 0.49, 0.5 , 0.51, 0.52, 0.53, 0.54, 0.55,\n",
    "\t\t\t0.56, 0.57, 0.58, 0.59, 0.6 , 0.61, 0.62, 0.63, 0.64, 0.65, 0.66,\n",
    "\t\t\t0.67, 0.68, 0.69, 0.7 , 0.71, 0.72, 0.73, 0.74, 0.75, 0.76, 0.77,\n",
    "\t\t\t0.78, 0.79, 0.8 , 0.81, 0.82, 0.83, 0.84, 0.85, 0.86, 0.87, 0.88,\n",
    "\t\t\t0.89, 0.9 , 0.91, 0.92, 0.93, 0.94, 0.95, 0.96, 0.97, 0.98, 0.99]\n",
    "list_recall_input = [1.  , 1.  , 1.  , 1.  , 1.  , 1.  , 1.  , 1.  , 1.  , 1.  , 1.  ,\n",
    "\t\t\t0.99, 0.99, 0.99, 0.99, 0.98, 0.98, 0.98, 0.97, 0.97, 0.96, 0.96,\n",
    "\t\t\t0.95, 0.94, 0.94, 0.93, 0.92, 0.91, 0.9 , 0.9 , 0.88, 0.88, 0.86,\n",
    "\t\t\t0.85, 0.84, 0.83, 0.82, 0.81, 0.8 , 0.79, 0.78, 0.76, 0.75, 0.74,\n",
    "\t\t\t0.73, 0.72, 0.71, 0.69, 0.68, 0.67, 0.66, 0.64, 0.62, 0.61, 0.59,\n",
    "\t\t\t0.58, 0.56, 0.54, 0.52, 0.51, 0.5 , 0.48, 0.46, 0.44, 0.42, 0.4 ,\n",
    "\t\t\t0.39, 0.37, 0.35, 0.33, 0.31, 0.3 , 0.28, 0.26, 0.24, 0.23, 0.2 ,\n",
    "\t\t\t0.19, 0.17, 0.15, 0.14, 0.12, 0.1 , 0.09, 0.07, 0.06, 0.04, 0.04,\n",
    "\t\t\t0.02, 0.02, 0.01, 0.  , 0.  , 0.  , 0.  , 0.  , 0.  , 0.  , 0.  ]"
   ]
  },
  {
   "cell_type": "code",
   "execution_count": null,
   "metadata": {},
   "outputs": [],
   "source": [
    "# list_cut_off_input = [25.75443, 26.7803, 25.79099, 24.17642, 24.3526, 22.79056, 20.84866, 19.49222, 18.38086, 18.0358, 16.57819, 15.71255, 14.79059, 13.64154, 13.09409, 12.18347, 11.33447, 10.32184, 9.544922, 8.813385, 8.181152, 6.983734, 6.048035, 5.505096, 4.65799]\n",
    "min(range(len(list_cut_off_input)), key=lambda i: abs(list_cut_off_input[i]-0.22))\n"
   ]
  },
  {
   "cell_type": "code",
   "execution_count": null,
   "metadata": {},
   "outputs": [],
   "source": [
    "myVal = .95"
   ]
  },
  {
   "cell_type": "code",
   "execution_count": null,
   "metadata": {},
   "outputs": [],
   "source": [
    "min(enumerate(list_recall_input), key=lambda x: abs(x[1] - myVal))"
   ]
  },
  {
   "cell_type": "code",
   "execution_count": null,
   "metadata": {},
   "outputs": [],
   "source": [
    "list_cut_off_input[min(range(len(list_recall_input)), key=lambda i: abs(list_recall_input[i] - myVal))]\n"
   ]
  },
  {
   "cell_type": "markdown",
   "metadata": {},
   "source": [
    "# Tests d'illustrations possibles pour l'APP"
   ]
  },
  {
   "cell_type": "code",
   "execution_count": null,
   "metadata": {},
   "outputs": [],
   "source": [
    "X_test"
   ]
  },
  {
   "cell_type": "code",
   "execution_count": null,
   "metadata": {},
   "outputs": [],
   "source": [
    "# X_test['y_pred'] = y_pred_lgb\n",
    "# X_test['y_true'] = y_test"
   ]
  },
  {
   "cell_type": "code",
   "execution_count": null,
   "metadata": {},
   "outputs": [],
   "source": [
    "X_test_clean = X_test.copy(deep=True)\n",
    "\n",
    "X_test_clean['y_pred'] = y_pred_lgb\n",
    "X_test_clean['y_true'] = y_test\n",
    "\n",
    "X_test_clean = X_test_clean.dropna()\n",
    "X_test_clean"
   ]
  },
  {
   "cell_type": "code",
   "execution_count": null,
   "metadata": {},
   "outputs": [],
   "source": [
    "y_test_graph = X_test_clean['y_true'].copy(deep=True)\n",
    "y_test_graph"
   ]
  },
  {
   "cell_type": "code",
   "execution_count": null,
   "metadata": {},
   "outputs": [],
   "source": [
    "y_test_pred_graph = X_test_clean['y_pred'].copy(deep=True)\n",
    "y_test_pred_graph"
   ]
  },
  {
   "cell_type": "code",
   "execution_count": null,
   "metadata": {},
   "outputs": [],
   "source": [
    "X_test_graph = X_test_clean.loc[:, (X_test_clean.columns != 'y_pred') & (X_test_clean.columns != 'y_true')]\n",
    "X_test_graph"
   ]
  },
  {
   "cell_type": "code",
   "execution_count": null,
   "metadata": {},
   "outputs": [],
   "source": [
    "tsne_plot = manifold.TSNE(n_components=2,\n",
    "#                      perplexity=100,\n",
    "#                      learning_rate='auto',\n",
    "                     perplexity=37,\n",
    "                     learning_rate=505,\n",
    "                     n_iter=1000, init='pca') # init='pca' \n",
    "X_tsne_plot = tsne_plot.fit_transform(X_test_graph)"
   ]
  },
  {
   "cell_type": "code",
   "execution_count": null,
   "metadata": {},
   "outputs": [],
   "source": [
    "X_tsne_plot.shape"
   ]
  },
  {
   "cell_type": "code",
   "execution_count": null,
   "metadata": {},
   "outputs": [],
   "source": [
    "mockup_y = np.ones(X_tsne_plot.shape[0])\n",
    "mockup_y"
   ]
  },
  {
   "cell_type": "code",
   "execution_count": null,
   "metadata": {},
   "outputs": [],
   "source": [
    "y_pred_lgb.shape"
   ]
  },
  {
   "cell_type": "code",
   "execution_count": null,
   "metadata": {},
   "outputs": [],
   "source": [
    "fig, asx = plt.subplots(1, 2,figsize=(16,6))\n",
    "cm = plt.cm.get_cmap('RdYlBu')\n",
    "fig.suptitle('Comparison Predicted vs True Category - Plotted with TSNE')\n",
    "asx[0].scatter(X_tsne_plot[:, 0], X_tsne_plot[:, 1], c=y_test_pred_graph,  cmap=cm)\n",
    "asx[0].set_title(\"Predicted categories\")\n",
    "asx[1].scatter(X_tsne_plot[:, 0], X_tsne_plot[:, 1], c=y_test_graph,  cmap=cm)\n",
    "asx[1].set_title(\"True Categories\")\n",
    "fig.show()"
   ]
  },
  {
   "cell_type": "code",
   "execution_count": null,
   "metadata": {},
   "outputs": [],
   "source": [
    "plt.hist(X_test_graph['EXT_SOURCE_3'])\n",
    "plt.axvline(x=0.531686, color='magenta', label='Customer')"
   ]
  },
  {
   "cell_type": "code",
   "execution_count": null,
   "metadata": {},
   "outputs": [],
   "source": [
    "plt.scatter(X_test_graph['EXT_SOURCE_3'], y_test_graph)\n",
    "plt.scatter(0.531686, 1, color='magenta', label='Customer')"
   ]
  },
  {
   "cell_type": "code",
   "execution_count": null,
   "metadata": {},
   "outputs": [],
   "source": [
    "client_cut_off = 0.29\n",
    "client_recall = ft_cut_off(client_cut_off, y_pred_lgb_proba)"
   ]
  },
  {
   "cell_type": "code",
   "execution_count": null,
   "metadata": {},
   "outputs": [],
   "source": [
    "# plt.scatter(list_cut_off, list_recall)\n",
    "plt.scatter(df_recall.cut_off, df_recall.recall)\n",
    "plt.scatter(client_cut_off, client_recall, color = 'magenta')\n",
    "plt.xlabel('Cut-off values')\n",
    "plt.ylabel('Recall')"
   ]
  },
  {
   "cell_type": "markdown",
   "metadata": {},
   "source": [
    "## Test de script poour generation de graphs au sein de l'APP"
   ]
  },
  {
   "cell_type": "code",
   "execution_count": null,
   "metadata": {},
   "outputs": [],
   "source": [
    "import io\n",
    "import random\n",
    "from flask import Response\n",
    "from matplotlib.backends.backend_agg import FigureCanvasAgg as FigureCanvas\n",
    "from matplotlib.figure import Figure"
   ]
  },
  {
   "cell_type": "code",
   "execution_count": null,
   "metadata": {},
   "outputs": [],
   "source": [
    "def plot_png():\n",
    "    fig = create_figure()\n",
    "    output = io.BytesIO()\n",
    "    FigureCanvas(fig).print_png(output)\n",
    "    return Response(output.getvalue(), mimetype='image/png')\n",
    "\n",
    "def create_figure(list_cut_off, list_recall, client_cut_off, client_recall):\n",
    "    fig = Figure()\n",
    "    axis = fig.add_subplot(1, 1, 1)\n",
    "    plt.scatter(list_cut_off, list_recall)\n",
    "    plt.scatter(client_cut_off, client_recall, color = 'magenta')\n",
    "    plt.xlabel('Cut-off values')\n",
    "    plt.ylabel('Recall')\n",
    "    return fig"
   ]
  },
  {
   "cell_type": "code",
   "execution_count": null,
   "metadata": {},
   "outputs": [],
   "source": [
    "list_recall_input = np.array(list_recall)\n",
    "list_recall_input\n",
    "#  = , list_recall"
   ]
  },
  {
   "cell_type": "code",
   "execution_count": null,
   "metadata": {},
   "outputs": [],
   "source": [
    "client_recall = ft_cut_off(client_cut_off, y_pred_lgb_proba)\n",
    "client_recall"
   ]
  },
  {
   "cell_type": "code",
   "execution_count": null,
   "metadata": {},
   "outputs": [],
   "source": [
    "client_cut_off = 0.29\n",
    "client_recall = 0.904\n",
    "\n",
    "list_cut_off_input = [0.01, 0.02, 0.03, 0.04, 0.05, 0.06, 0.07, 0.08, 0.09, 0.1 , 0.11,\n",
    "       0.12, 0.13, 0.14, 0.15, 0.16, 0.17, 0.18, 0.19, 0.2 , 0.21, 0.22,\n",
    "       0.23, 0.24, 0.25, 0.26, 0.27, 0.28, 0.29, 0.3 , 0.31, 0.32, 0.33,\n",
    "       0.34, 0.35, 0.36, 0.37, 0.38, 0.39, 0.4 , 0.41, 0.42, 0.43, 0.44,\n",
    "       0.45, 0.46, 0.47, 0.48, 0.49, 0.5 , 0.51, 0.52, 0.53, 0.54, 0.55,\n",
    "       0.56, 0.57, 0.58, 0.59, 0.6 , 0.61, 0.62, 0.63, 0.64, 0.65, 0.66,\n",
    "       0.67, 0.68, 0.69, 0.7 , 0.71, 0.72, 0.73, 0.74, 0.75, 0.76, 0.77,\n",
    "       0.78, 0.79, 0.8 , 0.81, 0.82, 0.83, 0.84, 0.85, 0.86, 0.87, 0.88,\n",
    "       0.89, 0.9 , 0.91, 0.92, 0.93, 0.94, 0.95, 0.96, 0.97, 0.98, 0.99]\n",
    "list_recall_input = [1.  , 1.  , 1.  , 1.  , 1.  , 1.  , 1.  , 1.  , 1.  , 1.  , 1.  ,\n",
    "       0.99, 0.99, 0.99, 0.99, 0.98, 0.98, 0.98, 0.97, 0.97, 0.96, 0.96,\n",
    "       0.95, 0.94, 0.94, 0.93, 0.92, 0.91, 0.9 , 0.9 , 0.88, 0.88, 0.86,\n",
    "       0.85, 0.84, 0.83, 0.82, 0.81, 0.8 , 0.79, 0.78, 0.76, 0.75, 0.74,\n",
    "       0.73, 0.72, 0.71, 0.69, 0.68, 0.67, 0.66, 0.64, 0.62, 0.61, 0.59,\n",
    "       0.58, 0.56, 0.54, 0.52, 0.51, 0.5 , 0.48, 0.46, 0.44, 0.42, 0.4 ,\n",
    "       0.39, 0.37, 0.35, 0.33, 0.31, 0.3 , 0.28, 0.26, 0.24, 0.23, 0.2 ,\n",
    "       0.19, 0.17, 0.15, 0.14, 0.12, 0.1 , 0.09, 0.07, 0.06, 0.04, 0.04,\n",
    "       0.02, 0.02, 0.01, 0.  , 0.  , 0.  , 0.  , 0.  , 0.  , 0.  , 0.  ]"
   ]
  },
  {
   "cell_type": "code",
   "execution_count": null,
   "metadata": {},
   "outputs": [],
   "source": [
    "fig = Figure()\n",
    "axis = fig.add_subplot(1, 1, 1)\n",
    "axis.scatter(list_cut_off_input, list_recall_input)\n",
    "axis.scatter(client_cut_off, client_recall, color = 'magenta')\n",
    "output = io.BytesIO()\n",
    "FigureCanvas(fig).print_png(output)"
   ]
  },
  {
   "cell_type": "code",
   "execution_count": null,
   "metadata": {},
   "outputs": [],
   "source": [
    "import io\n",
    "from flask import Response\n",
    "from matplotlib.backends.backend_agg import FigureCanvasAgg as FigureCanvas\n",
    "from matplotlib.figure import Figure\n",
    "\n",
    "def plot_png(list_cut_off, list_recall, client_cut_off, client_recall):\n",
    "    fig = Figure()\n",
    "    axis = fig.add_subplot(1, 1, 1)\n",
    "    axis.scatter(list_cut_off_input, list_recall_input)\n",
    "    axis.scatter(client_cut_off, client_recall, color = 'magenta')\n",
    "    output = io.BytesIO()\n",
    "    FigureCanvas(fig).print_png(output)\n",
    "    return Response(output.getvalue(), mimetype='image/png')"
   ]
  },
  {
   "cell_type": "markdown",
   "metadata": {},
   "source": [
    "### Elemnts de script du deployement - draft (App editee separemment sous Sublime text)"
   ]
  },
  {
   "cell_type": "code",
   "execution_count": null,
   "metadata": {},
   "outputs": [],
   "source": [
    "import pandas as pd\n",
    "import numpy as np\n",
    "from lightgbm import LGBMClassifier\n",
    "import joblib\n",
    "import pickle\n",
    "\n",
    "with open('model_best_lgb_gs.pkl', 'rb') as inp:\n",
    "    my_model_load = pickle.load(inp)\n",
    "\n",
    "model = my_model_load[0]\n",
    "model_params = my_model_load[1]\n",
    "\n",
    "def return_prediction(model,sample_json, cut_off):\n",
    "\n",
    "\n",
    "    EXT_SOURCE_3 = sample_json['EXT_SOURCE_3']\n",
    "    EXT_SOURCE_1 = sample_json['EXT_SOURCE_1']\n",
    "    EXT_SOURCE_2 = sample_json['EXT_SOURCE_2']\n",
    "    AMT_ANNUITY = sample_json['AMT_ANNUITY']\n",
    "    \n",
    "    DAYS_BIRTH = sample_json['DAYS_BIRTH']\n",
    "    AMT_CREDIT = sample_json['AMT_CREDIT']\n",
    "    DAYS_LAST_PHONE_CHANGE = sample_json['DAYS_LAST_PHONE_CHANGE']\n",
    "    AMT_GOODS_PRICE = sample_json['AMT_GOODS_PRICE']\n",
    "    \n",
    "    DAYS_ID_PUBLISH = sample_json['DAYS_ID_PUBLISH']\n",
    "    DAYS_EMPLOYED = sample_json['DAYS_EMPLOYED']\n",
    "    AMT_INCOME_TOTAL = sample_json['AMT_INCOME_TOTAL']\n",
    "    OWN_CAR_AGE = sample_json['OWN_CAR_AGE']\n",
    "    \n",
    "    credit_info = [[EXT_SOURCE_3, EXT_SOURCE_1, EXT_SOURCE_2, AMT_ANNUITY,\n",
    "                    DAYS_BIRTH, AMT_CREDIT, DAYS_LAST_PHONE_CHANGE, AMT_GOODS_PRICE,\n",
    "                    DAYS_ID_PUBLISH, DAYS_EMPLOYED, AMT_INCOME_TOTAL, OWN_CAR_AGE]]\n",
    "\n",
    "    classes = np.array(['approved', 'rejected'])\n",
    "\n",
    "    y_pred_proba = model.predict_proba(credit_info)[:, 1][0]\n",
    "\n",
    "    if y_pred_proba > cut_off:\n",
    "        y_pred = 1\n",
    "    else:\n",
    "        y_pred = 0\n",
    "\n",
    "    return y_pred_proba, y_pred, classes[y_pred]"
   ]
  },
  {
   "cell_type": "code",
   "execution_count": null,
   "metadata": {},
   "outputs": [],
   "source": [
    "model"
   ]
  },
  {
   "cell_type": "code",
   "execution_count": null,
   "metadata": {},
   "outputs": [],
   "source": [
    "model_params"
   ]
  },
  {
   "cell_type": "markdown",
   "metadata": {},
   "source": [
    "# GridSearchCV - etude de sensibilite du modele\n",
    "### utilisee pour optimiser les parametres finaux du modele utilise ci-dessus"
   ]
  },
  {
   "cell_type": "code",
   "execution_count": null,
   "metadata": {},
   "outputs": [],
   "source": [
    "X_train.shape, X_test.shape"
   ]
  },
  {
   "cell_type": "code",
   "execution_count": null,
   "metadata": {},
   "outputs": [],
   "source": [
    "X_train.columns"
   ]
  },
  {
   "cell_type": "code",
   "execution_count": null,
   "metadata": {},
   "outputs": [],
   "source": [
    "X_test.columns"
   ]
  },
  {
   "cell_type": "code",
   "execution_count": null,
   "metadata": {},
   "outputs": [],
   "source": [
    "def algorithm_pipeline(X_train_data, X_test_data, y_train_data, y_test_data, \n",
    "                       model, param_grid, cv=5, scoring_fit='roc_auc',\n",
    "                       do_probabilities = True):\n",
    "    gs = GridSearchCV(\n",
    "        estimator=model,\n",
    "        param_grid=param_grid, \n",
    "        cv=cv, \n",
    "#         n_jobs=-1, \n",
    "        scoring=scoring_fit,\n",
    "        verbose=100,\n",
    "#         silent=-1\n",
    "    )\n",
    "    fitted_model = gs.fit(X_train_data, y_train_data)\n",
    "    \n",
    "    if do_probabilities:\n",
    "      pred = fitted_model.predict_proba(X_test_data)[:, 1]\n",
    "    else:\n",
    "      pred = fitted_model.predict(X_test_data)\n",
    "    \n",
    "    return fitted_model, pred"
   ]
  },
  {
   "cell_type": "code",
   "execution_count": null,
   "metadata": {},
   "outputs": [],
   "source": [
    "model = lgb.LGBMClassifier(class_weight = mydict)\n",
    "param_grid = {\n",
    "#     'n_estimators': [200, 400, 1000, 2000, 4000],\n",
    "    'n_estimators': [800],\n",
    "#     'learning_rate' : [0.3, 0.1, 0.03, 0.01],\n",
    "    'learning_rate' : [0.1],\n",
    "#     'num_leaves': [20, 30, 40],\n",
    "    'num_leaves': [20],\n",
    "#     'colsample_bytree': [0.6, .8, .9, 1],\n",
    "    'colsample_bytree': [1.],\n",
    "    'subsample': [0.9],\n",
    "#     'max_depth': [3, 5, 7, 9, 13],\n",
    "    'max_depth': [13],\n",
    "#     'reg_alpha': [1, .1, 0.01],\n",
    "    'reg_alpha': [.1],\n",
    "#     'reg_lambda': [1, .1, 0.01],\n",
    "    'reg_lambda': [.1],\n",
    "#     'min_split_gain': [0, .01],\n",
    "    'min_split_gain': [0.01],\n",
    "#     'min_child_weight': [0.01, 0.1, 1, 2, 3],\n",
    "    'min_child_weight': [2],\n",
    "#     'subsample_freq': [20],\n",
    "#     'verbose': 0,\n",
    "#     'silent'=-1,\n",
    "    \n",
    "}\n",
    "\n",
    "model, pred = algorithm_pipeline(X_train, X_test, y_train, y_test, model, \n",
    "                                 param_grid, cv=5, )\n",
    "\n",
    "my_best_score = model.best_score_\n",
    "my_best_params = model.best_params_\n",
    "print(model.best_score_)\n",
    "print(model.best_params_)\n"
   ]
  },
  {
   "cell_type": "code",
   "execution_count": null,
   "metadata": {},
   "outputs": [],
   "source": [
    "pred"
   ]
  },
  {
   "cell_type": "code",
   "execution_count": null,
   "metadata": {},
   "outputs": [],
   "source": [
    "my_best_score = model.best_score_\n",
    "my_best_params = model.best_params_"
   ]
  },
  {
   "cell_type": "code",
   "execution_count": null,
   "metadata": {},
   "outputs": [],
   "source": [
    "my_best_score"
   ]
  },
  {
   "cell_type": "code",
   "execution_count": null,
   "metadata": {},
   "outputs": [],
   "source": [
    "my_best_params"
   ]
  },
  {
   "cell_type": "code",
   "execution_count": null,
   "metadata": {},
   "outputs": [],
   "source": [
    "y_pred_final_lgb_gs = []\n",
    "for my_pred in pred:\n",
    "    if my_pred > 0.29:\n",
    "        y_pred_final_lgb_gs.append(1)\n",
    "    else:\n",
    "        y_pred_final_lgb_gs.append(0)\n",
    "y_pred_final_lgb[:10]\n",
    "print(classification_report(y_test, y_pred_final_lgb_gs))"
   ]
  },
  {
   "cell_type": "markdown",
   "metadata": {},
   "source": [
    "## ----- Fin : Partie 2 : Modele -----"
   ]
  }
 ],
 "metadata": {
  "kernelspec": {
   "display_name": "Python 3",
   "language": "python",
   "name": "python3"
  },
  "language_info": {
   "codemirror_mode": {
    "name": "ipython",
    "version": 3
   },
   "file_extension": ".py",
   "mimetype": "text/x-python",
   "name": "python",
   "nbconvert_exporter": "python",
   "pygments_lexer": "ipython3",
   "version": "3.9.4"
  }
 },
 "nbformat": 4,
 "nbformat_minor": 4
}
